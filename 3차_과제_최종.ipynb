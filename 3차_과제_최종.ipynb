{
  "nbformat": 4,
  "nbformat_minor": 0,
  "metadata": {
    "colab": {
      "name": "3차 과제 최종.ipynb",
      "provenance": [],
      "collapsed_sections": []
    },
    "kernelspec": {
      "name": "python3",
      "display_name": "Python 3"
    },
    "language_info": {
      "name": "python"
    }
  },
  "cells": [
    {
      "cell_type": "code",
      "metadata": {
        "colab": {
          "base_uri": "https://localhost:8080/"
        },
        "id": "t1bYgPU9hX2g",
        "outputId": "8c19f38b-82be-478e-bb12-63215b8e04ef"
      },
      "source": [
        "pip install konlpy"
      ],
      "execution_count": null,
      "outputs": [
        {
          "output_type": "stream",
          "name": "stdout",
          "text": [
            "Requirement already satisfied: konlpy in /usr/local/lib/python3.7/dist-packages (0.5.2)\n",
            "Requirement already satisfied: colorama in /usr/local/lib/python3.7/dist-packages (from konlpy) (0.4.4)\n",
            "Requirement already satisfied: beautifulsoup4==4.6.0 in /usr/local/lib/python3.7/dist-packages (from konlpy) (4.6.0)\n",
            "Requirement already satisfied: lxml>=4.1.0 in /usr/local/lib/python3.7/dist-packages (from konlpy) (4.2.6)\n",
            "Requirement already satisfied: numpy>=1.6 in /usr/local/lib/python3.7/dist-packages (from konlpy) (1.19.5)\n",
            "Requirement already satisfied: JPype1>=0.7.0 in /usr/local/lib/python3.7/dist-packages (from konlpy) (1.3.0)\n",
            "Requirement already satisfied: tweepy>=3.7.0 in /usr/local/lib/python3.7/dist-packages (from konlpy) (3.10.0)\n",
            "Requirement already satisfied: typing-extensions in /usr/local/lib/python3.7/dist-packages (from JPype1>=0.7.0->konlpy) (3.10.0.2)\n",
            "Requirement already satisfied: requests-oauthlib>=0.7.0 in /usr/local/lib/python3.7/dist-packages (from tweepy>=3.7.0->konlpy) (1.3.0)\n",
            "Requirement already satisfied: requests[socks]>=2.11.1 in /usr/local/lib/python3.7/dist-packages (from tweepy>=3.7.0->konlpy) (2.23.0)\n",
            "Requirement already satisfied: six>=1.10.0 in /usr/local/lib/python3.7/dist-packages (from tweepy>=3.7.0->konlpy) (1.15.0)\n",
            "Requirement already satisfied: oauthlib>=3.0.0 in /usr/local/lib/python3.7/dist-packages (from requests-oauthlib>=0.7.0->tweepy>=3.7.0->konlpy) (3.1.1)\n",
            "Requirement already satisfied: chardet<4,>=3.0.2 in /usr/local/lib/python3.7/dist-packages (from requests[socks]>=2.11.1->tweepy>=3.7.0->konlpy) (3.0.4)\n",
            "Requirement already satisfied: certifi>=2017.4.17 in /usr/local/lib/python3.7/dist-packages (from requests[socks]>=2.11.1->tweepy>=3.7.0->konlpy) (2021.10.8)\n",
            "Requirement already satisfied: urllib3!=1.25.0,!=1.25.1,<1.26,>=1.21.1 in /usr/local/lib/python3.7/dist-packages (from requests[socks]>=2.11.1->tweepy>=3.7.0->konlpy) (1.24.3)\n",
            "Requirement already satisfied: idna<3,>=2.5 in /usr/local/lib/python3.7/dist-packages (from requests[socks]>=2.11.1->tweepy>=3.7.0->konlpy) (2.10)\n",
            "Requirement already satisfied: PySocks!=1.5.7,>=1.5.6 in /usr/local/lib/python3.7/dist-packages (from requests[socks]>=2.11.1->tweepy>=3.7.0->konlpy) (1.7.1)\n"
          ]
        }
      ]
    },
    {
      "cell_type": "code",
      "metadata": {
        "colab": {
          "base_uri": "https://localhost:8080/"
        },
        "id": "xFJgnAE2v-e_",
        "outputId": "7b796686-7230-40c4-90f9-3b8a367a5f7f"
      },
      "source": [
        "!sudo apt-get install -y fonts-nanum\n",
        "!sudo fc-cache -fv\n",
        "!rm ~/.cache/matplotlib -rf\n",
        "\n",
        "# 런타임 다시시작"
      ],
      "execution_count": null,
      "outputs": [
        {
          "output_type": "stream",
          "name": "stdout",
          "text": [
            "Reading package lists... Done\n",
            "Building dependency tree       \n",
            "Reading state information... Done\n",
            "fonts-nanum is already the newest version (20170925-1).\n",
            "0 upgraded, 0 newly installed, 0 to remove and 37 not upgraded.\n",
            "/usr/share/fonts: caching, new cache contents: 0 fonts, 1 dirs\n",
            "/usr/share/fonts/truetype: caching, new cache contents: 0 fonts, 3 dirs\n",
            "/usr/share/fonts/truetype/humor-sans: caching, new cache contents: 1 fonts, 0 dirs\n",
            "/usr/share/fonts/truetype/liberation: caching, new cache contents: 16 fonts, 0 dirs\n",
            "/usr/share/fonts/truetype/nanum: caching, new cache contents: 10 fonts, 0 dirs\n",
            "/usr/local/share/fonts: caching, new cache contents: 0 fonts, 0 dirs\n",
            "/root/.local/share/fonts: skipping, no such directory\n",
            "/root/.fonts: skipping, no such directory\n",
            "/var/cache/fontconfig: cleaning cache directory\n",
            "/root/.cache/fontconfig: not cleaning non-existent cache directory\n",
            "/root/.fontconfig: not cleaning non-existent cache directory\n",
            "fc-cache: succeeded\n"
          ]
        }
      ]
    },
    {
      "cell_type": "code",
      "metadata": {
        "id": "3_GvFURshAqJ"
      },
      "source": [
        "import re\n",
        "import requests\n",
        "import pandas as pd\n",
        "import numpy as np\n",
        "from bs4 import BeautifulSoup\n",
        "from konlpy.tag import Okt\n",
        "from konlpy.tag import Kkma\n",
        "import seaborn as sns\n",
        "import matplotlib.pyplot as plt\n",
        "import matplotlib.font_manager as fm\n",
        "# from konlpy.tag import Komoran\n",
        "# from konlpy.tag import Hannanum"
      ],
      "execution_count": null,
      "outputs": []
    },
    {
      "cell_type": "code",
      "metadata": {
        "id": "NWwVnvw9hEGF"
      },
      "source": [
        "education = pd.read_csv(\"교육청민원.csv\")\n",
        "traffic = pd.read_csv(\"국토교통부민원.csv\")\n",
        "sea = pd.read_csv(\"해양수산부민원.csv\")"
      ],
      "execution_count": null,
      "outputs": []
    },
    {
      "cell_type": "code",
      "metadata": {
        "id": "5tKpd7UhhaN8"
      },
      "source": [
        "education = education[:3000]\n",
        "traffic = traffic[:3000]\n",
        "sea = sea[:3000]"
      ],
      "execution_count": null,
      "outputs": []
    },
    {
      "cell_type": "code",
      "metadata": {
        "id": "Z0ia-c-FhFbp"
      },
      "source": [
        "e_complaint = pd.DataFrame(education['qnaTitl'])\n",
        "t_complaint = pd.DataFrame(traffic['qnaTitl'])\n",
        "s_complaint = pd.DataFrame(sea['qnaTitl'])"
      ],
      "execution_count": null,
      "outputs": []
    },
    {
      "cell_type": "code",
      "metadata": {
        "id": "qJWWiHsehGcF"
      },
      "source": [
        "# 라벨링\n",
        "\n",
        "e_complaint['label'] = 0\n",
        "t_complaint['label'] = 1\n",
        "s_complaint['label'] = 2"
      ],
      "execution_count": null,
      "outputs": []
    },
    {
      "cell_type": "code",
      "metadata": {
        "id": "Xh1rIY6GhHS_"
      },
      "source": [
        "# 합침\n",
        "\n",
        "df = pd.concat([e_complaint, t_complaint, s_complaint], axis = 0)\n",
        "df = df.reset_index().drop('index', axis = 1)"
      ],
      "execution_count": null,
      "outputs": []
    },
    {
      "cell_type": "code",
      "metadata": {
        "id": "MJMoqaWChJaM"
      },
      "source": [
        "# 정규표현식으로 한글만 남기기\n",
        "\n",
        "def clean(dataframe):\n",
        "    return [re.sub(r'[^ 가-힣]', '', c) for c in dataframe]"
      ],
      "execution_count": null,
      "outputs": []
    },
    {
      "cell_type": "code",
      "metadata": {
        "id": "yttSZPgMhLD5"
      },
      "source": [
        "df['qnaTitl'] = clean(df['qnaTitl'])"
      ],
      "execution_count": null,
      "outputs": []
    },
    {
      "cell_type": "code",
      "metadata": {
        "id": "fMsZggjppcRX"
      },
      "source": [
        "def token(data):\n",
        "    data = clean(data)\n",
        "    kkma = Kkma()\n",
        "    tokens_list = []\n",
        "    for i in data:\n",
        "        for j in kkma.morphs(i):\n",
        "            if len(j) > 1:\n",
        "                tokens_list.append(j)\n",
        "    token_df = pd.DataFrame(tokens_list, columns = ['token'])\n",
        "    return token_df\n",
        "\n",
        "# tokens = pd.concat([education_tokens_df, traffic_tokens_df, sea_tokens_df], axis = 0)  # 모든 토큰들 합침"
      ],
      "execution_count": null,
      "outputs": []
    },
    {
      "cell_type": "code",
      "metadata": {
        "id": "s__f5MVsra0v"
      },
      "source": [
        "education_tokens_df = token(e_complaint.iloc[:,0])\n",
        "traffic_tokens_df = token(t_complaint.iloc[:,0])\n",
        "sea_tokens_df = token(s_complaint.iloc[:,0])\n",
        "\n",
        "tokens = pd.concat([education_tokens_df, traffic_tokens_df, sea_tokens_df], axis = 0)  # 모든 토큰들 합침"
      ],
      "execution_count": null,
      "outputs": []
    },
    {
      "cell_type": "code",
      "metadata": {
        "colab": {
          "base_uri": "https://localhost:8080/",
          "height": 428
        },
        "id": "5-a0WdLOvrFt",
        "outputId": "4f83b0b7-7104-4b3a-e608-3bb4ba7fcd3e"
      },
      "source": [
        "plt.rc('font', family='NanumBarunGothic') \n",
        "\n",
        "fig, ax = plt.subplots(figsize=(20, 7))            \n",
        "top_10_tokens = tokens['token'].value_counts()\n",
        "sns.barplot(x=top_10_tokens[0:20].index, y = top_10_tokens[0:20])\n",
        "\n",
        "plt.show()"
      ],
      "execution_count": null,
      "outputs": [
        {
          "output_type": "display_data",
          "data": {
            "image/png": "[encoded data removed]",
            "text/plain": [
              "<Figure size 1440x504 with 1 Axes>"
            ]
          },
          "metadata": {
            "needs_background": "light"
          }
        }
      ]
    },
    {
      "cell_type": "code",
      "metadata": {
        "colab": {
          "base_uri": "https://localhost:8080/"
        },
        "id": "W4mga0t9hIYi",
        "outputId": "4927011e-356d-4af3-c151-906c28ce02e2"
      },
      "source": [
        "# 불용어 긁어오기\n",
        "\n",
        "stopwords = []\n",
        "\n",
        "url = 'https://www.ranks.nl/stopwords/korean'\n",
        "raw = requests.get(url, verify = False)\n",
        "\n",
        "soup = BeautifulSoup(raw.text, 'html.parser')\n",
        "\n",
        "soup = soup.find_all('td')\n",
        "\n",
        "for i in soup:\n",
        "    for j in i:\n",
        "        if j.string == None:\n",
        "            continue\n",
        "        else:\n",
        "            stopwords.append(str(j))\n",
        "\n",
        "# okt 불용어\n",
        "stopwords.append('경우')\n",
        "stopwords.append('인가요')\n",
        "stopwords.append('되나요')\n",
        "stopwords.append('있나요')\n",
        "stopwords.append('하나요')\n",
        "stopwords.append('하는')\n",
        "stopwords.append('궁금합니다')\n",
        "\n",
        "# kkma 불용어\n",
        "stopwords.append('나요')\n",
        "stopwords.append('어떻')\n",
        "stopwords.append('무엇')\n",
        "stopwords.append('ㄴ가요')\n",
        "stopwords.append('에서')\n",
        "\n",
        "stopwords[:5]"
      ],
      "execution_count": null,
      "outputs": [
        {
          "output_type": "stream",
          "name": "stderr",
          "text": [
            "/usr/local/lib/python3.7/dist-packages/urllib3/connectionpool.py:847: InsecureRequestWarning: Unverified HTTPS request is being made. Adding certificate verification is strongly advised. See: https://urllib3.readthedocs.io/en/latest/advanced-usage.html#ssl-warnings\n",
            "  InsecureRequestWarning)\n"
          ]
        },
        {
          "output_type": "execute_result",
          "data": {
            "text/plain": [
              "['아', '휴', '아이구', '아이쿠', '아이고']"
            ]
          },
          "metadata": {},
          "execution_count": 13
        }
      ]
    },
    {
      "cell_type": "code",
      "metadata": {
        "id": "ct88Tr5KhKiH"
      },
      "source": [
        "# 여러가지 한국어 처리 함수 만들기\n",
        "# 한나눔 코모란 너무 오래걸림...\n",
        "\n",
        "def okt(text):\n",
        "    okt = Okt()\n",
        "    text = okt.morphs(text)\n",
        "    text = clean(text)\n",
        "    return [c for c in text if len(c) > 1]\n",
        "\n",
        "def kkma(text):\n",
        "    kkma = Kkma()\n",
        "    text = kkma.morphs(text)\n",
        "    text = clean(text)\n",
        "    return [c for c in text if len(c) > 1]\n",
        "\n",
        "# ㅂ니다 같은 걸 빼기 위해 clean함수를 토큰화 함수에 걍 넣음\n",
        "\n",
        "# def komoran(text):\n",
        "#     komoran = Komoran()\n",
        "#     text = komoran.morphs(text)\n",
        "#     text = clean(text)\n",
        "#     return [c for c in text if len(c) > 1]\n",
        "\n",
        "# def hannanum(text):\n",
        "#     hannanum = Hannanum()\n",
        "#     text = hannanum.morphs(text)\n",
        "#     text = clean(text)\n",
        "#     return [c for c in text if len(c) > 1]"
      ],
      "execution_count": null,
      "outputs": []
    },
    {
      "cell_type": "code",
      "metadata": {
        "id": "g04cucNzgrYk"
      },
      "source": [
        "# 불용어 사전 토큰화함....\n",
        "# '비걱거리다' --모델 학습--> '비걱거리'\n",
        "\n",
        "okt_stop = []\n",
        "\n",
        "for i in stopwords:\n",
        "    for j in okt(i):\n",
        "        if len(\",\".join(okt(j)).split(',')[0]) > 0:\n",
        "            okt_stop = okt_stop + \",\".join(okt(j)).split(',')\n",
        "\n",
        "okt_stop = list(set(okt_stop))\n",
        "\n",
        "kkma_stop = []\n",
        "\n",
        "for i in stopwords:\n",
        "    for j in kkma(i):\n",
        "        if len(\",\".join(kkma(j)).split(',')[0]) > 0:\n",
        "            kkma_stop = kkma_stop + \",\".join(kkma(j)).split(\",\")\n",
        "\n",
        "kkma_stop = list(set(kkma_stop))\n",
        "\n",
        "# hannanum_stop = []\n",
        "# for i in stopwords:\n",
        "#     if len(hannanum(i)) > 0:\n",
        "#         hannanum_stop = hannanum_stop + \",\".join(hannanum(i)).split(',')\n",
        "\n",
        "# hannanum_stop = list(set(hannanum_stop))\n",
        "\n",
        "# komoran_stop = []\n",
        "# for i in stopwords:\n",
        "#     if len(komoran(i)) > 0:\n",
        "#         komoran_stop = komoran_stop + \",\".join(komoran(i)).split(',')\n",
        "\n",
        "# komoran_stop = list(set(komoran_stop))"
      ],
      "execution_count": null,
      "outputs": []
    },
    {
      "cell_type": "code",
      "metadata": {
        "id": "yw_K3yd1hMF8"
      },
      "source": [
        "X = df['qnaTitl']\n",
        "y = df['label']"
      ],
      "execution_count": null,
      "outputs": []
    },
    {
      "cell_type": "code",
      "metadata": {
        "id": "RFs6nUPXhNZr"
      },
      "source": [
        "from sklearn.model_selection import train_test_split\n",
        "\n",
        "X_train, X_test, y_train, y_test = train_test_split(X, y, test_size = 0.3, random_state=1, stratify=y) "
      ],
      "execution_count": null,
      "outputs": []
    },
    {
      "cell_type": "code",
      "metadata": {
        "id": "7IunGzWkhOMX"
      },
      "source": [
        "from sklearn.pipeline import Pipeline\n",
        "from sklearn.linear_model import LogisticRegression\n",
        "from sklearn.feature_extraction.text import TfidfVectorizer\n",
        "from sklearn.model_selection import GridSearchCV"
      ],
      "execution_count": null,
      "outputs": []
    },
    {
      "cell_type": "code",
      "metadata": {
        "id": "3DRvjBG6hPG1"
      },
      "source": [
        "tfidf = TfidfVectorizer(lowercase=False)\n",
        "\n",
        "param_grid = [{'vect__ngram_range': [(1, 1)],\n",
        "                'vect__stop_words': [okt_stop, None],\n",
        "                'vect__tokenizer': [okt],\n",
        "               'clf__penalty': ['l1', 'l2'],\n",
        "               'clf__C': [0.1, 1.0]},\n",
        "               {'vect__ngram_range': [(1, 1)],\n",
        "               'vect__stop_words': [kkma_stop, None],\n",
        "              'vect__tokenizer': [kkma],\n",
        "               'clf__penalty': ['l1', 'l2'],\n",
        "              'clf__C': [0.1, 1.0]}\n",
        "               ]\n",
        "\n",
        "lr_tfidf = Pipeline([('vect', tfidf),\n",
        "                     ('clf', LogisticRegression(solver = 'liblinear', random_state = 42, multi_class='auto'))])\n",
        "\n",
        "\n",
        "gs_lr_tfidf = GridSearchCV(lr_tfidf,\n",
        "                           param_grid,\n",
        "                           scoring='accuracy',\n",
        "                           cv = 5,\n",
        "                           refit = True,\n",
        "                           verbose = 2)"
      ],
      "execution_count": null,
      "outputs": []
    },
    {
      "cell_type": "code",
      "metadata": {
        "colab": {
          "base_uri": "https://localhost:8080/"
        },
        "id": "U-fp6SCYhQTG",
        "outputId": "03696dea-4336-4dee-ef3a-64491f2b69fd"
      },
      "source": [
        "gs_lr_tfidf.fit(X_train, y_train)   "
      ],
      "execution_count": null,
      "outputs": [
        {
          "output_type": "stream",
          "name": "stdout",
          "text": [
            "Fitting 5 folds for each of 16 candidates, totalling 80 fits\n",
            "[CV] END clf__C=0.1, clf__penalty=l1, vect__ngram_range=(1, 1), vect__stop_words=['대해', '바꿔', '어떤것', '전후', '비걱', '안된다', '하면서', '않는다면', '한적', '부류', '따라', '게우다', '기타', '어찌', '붕붕', '같다', '기대', '봐라', '응당', '하는것이', '않다면', '잠시', '그치지', '하는', '누구', '끼익', '의지', '매번', '아래', '고려', '휘익', '그렇지만', '하여금', '로부터', '리하', '아울러', '않으면', '한마디', '할것도', '일곱', '좋다', '아니', '언제', '일반', '가요', '되다', '이용', '으로', '이천육', '미치다', '년도', '마음대로', '없고', '이유', '만일', '하여야', '하도록', '심지어', '오호', '어째서', '하고있었다', '그래', '하지만', '그렇게', '기점', '각종', '든지', '비로소', '마자', '바꾸어말하면', '그런데', '제각기', '혼자', '허걱', '물론', '습니다', '여섯', '할지언정', '누가', '운운', '삐걱', '얼마간', '좍좍', '와아', '이러한', '제외', '주룩주룩', '인가요', '마치', '으로써', '어쨋', '마저도', '더구나', '즉시', '에야', '버금', '이다', '이외', '인하여', '하나요', '인젠', '더불어', '전부', '시키다', '남짓', '다수', '만하', '알다', '하마터면', '하여', '하도다', '대하', '당장', '꽈당', '오로지', '헉헉', '나머지', '전자', '생각', '해서는', '즈음', '아이쿠', '에게', '하기에', '무슨', '다음', '그런', '우선', '펄렁', '좋아', '소생', '항목', '당신', '되나요', '지든지', '비추어', '없다', '밖에', '구토', '왜냐하면', '그럼에도', '기준', '들자면', '과연', '다른', '막론', '바꾸어말하자면', '만은', '각하', '설마', '어떻', '혹은', '오직', '저쪽', '이천구', '보는데서', '이천칠', '않다', '많은', '너희', '다시', '이러하다', '와르르', '입어', '우리', '각각', '종합', '어쩔', '잇따라', '하게', '궁금합니다', '할수록', '만큼', '나요', '하기', '이래', '아하', '틈타', '비록', '이었다', '따르는', '아이고', '오르다', '가서', '요컨대', '알았어', '하지', '어떤', '어이', '있나요', '바꾸어서', '더욱이', '저희', '다소', '로써', '않기', '일것이다', '한데', '때문', '콸콸', '이천팔', '와같이', '따라서', '아니라', '할수있다', '되면', '관련', '마저', '아이구', '같이', '여덟', '여보', '보아', '아이야', '보다', '단지', '하게하다', '하하', '가까스로', '쓰고', '놀라다', '아니면', '불문', '소인', '된다', '들면', '함께', '조차도', '여기', '거니와', '그러면', '자기', '비슷하다', '하려고하다', '우르르', '모른다', '한하다', '아이', '그때', '하고', '가령', '도달', '얼마만큼', '그러므로', '헐떡헐떡', '훨씬', '이서', '도착', '하겠는가', '어찌하여', '반드시', '그저', '하구나', '허허', '일지', '무엇', '잠깐', '아홉', '하나', '또한', '이런', '다섯', '아야', '보드득', '설령', '따위', '딩동', '거리', '그리하여', '탕탕', '다만', '요만', '참나', '의해서', '그리고', '지만', '윙윙', '아니었다면', '번째', '시오', '그래도', '예컨대', '어떻게', '할지라도', '모두', '하기는한데', '했어요', '겸사겸사', '비교', '관계', '습니까', '뒤따라', '조차', '오히려', '흐흐', '여부', '형식', '이렇게', '여러분', '되어', '결국', '주저', '해도', '의거', '고로', '엉엉', '설사', '망정', '그러한', '이번', '안다', '하면', '뚝뚝', '입장', '해서', '이러', '두번째', '부터', '쾅쾅', '어떠한', '위해', '까지도', '근거', '바로', '거나', '동시', '차라리', '하였다', '자마자', '같은', '그러니까', '사람', '으로서', '하자', '얼마', '되는', '따지지', '보면', '양자', '몰라도', '어디', '만이', '같다면', '그러니', '얼마나', '아니라면', '일단', '대로', '달려', '까악', '어때', '의해', '아니다', '비길수', '아무', '어느', '어떻해', '만약', '쓰여', '낫다', '이어서', '하지마', '조금', '될것이다', '각자', '까닭', '하든', '구체', '반대', '않고', '에서', '다를가', '거바', '이럴', '거의', '서술', '상대', '타인', '어기', '불구', '할수있어', '둥둥', '등등', '댕그', '하기보다는', '켠으로는', '라면', '결과', '않도록', '저기', '하다', '타다', '갖고말하자면', '시간', '하는것도', '의치', '이상', '아니나', '게다가', '이르기까지', '그러나', '하기만', '해야', '다시말하면', '지경', '여전히', '이로', '결론', '따름', '하더라도', '시작', '알겠는가', '에도', '혹시', '있다', '시초', '한다', '영차', '연관', '까지', '지말고', '실로', '하느니', '무릎', '본대', '더욱더', '무렵', '진짜', '동안', '이어', '하물며', '졸졸', '하자면', '정도', '그렇지', '하지마라', '편이', '이지만', '더라도', '몰랏다', '약간', '하는것만', '방면', '시각', '만으로', '한다면', '해봐요', '이렇구나', '자신', '관계없이', '언젠가', '할줄', '공동', '경우', '라도', '그래서', '틀림없다', '끙끙', '겨우', '더군다나', '이르다', '그럼'], vect__tokenizer=<function okt at 0x7f0cb66e18c0>; total time=  12.8s\n",
            "[CV] END clf__C=0.1, clf__penalty=l1, vect__ngram_range=(1, 1), vect__stop_words=['대해', '바꿔', '어떤것', '전후', '비걱', '안된다', '하면서', '않는다면', '한적', '부류', '따라', '게우다', '기타', '어찌', '붕붕', '같다', '기대', '봐라', '응당', '하는것이', '않다면', '잠시', '그치지', '하는', '누구', '끼익', '의지', '매번', '아래', '고려', '휘익', '그렇지만', '하여금', '로부터', '리하', '아울러', '않으면', '한마디', '할것도', '일곱', '좋다', '아니', '언제', '일반', '가요', '되다', '이용', '으로', '이천육', '미치다', '년도', '마음대로', '없고', '이유', '만일', '하여야', '하도록', '심지어', '오호', '어째서', '하고있었다', '그래', '하지만', '그렇게', '기점', '각종', '든지', '비로소', '마자', '바꾸어말하면', '그런데', '제각기', '혼자', '허걱', '물론', '습니다', '여섯', '할지언정', '누가', '운운', '삐걱', '얼마간', '좍좍', '와아', '이러한', '제외', '주룩주룩', '인가요', '마치', '으로써', '어쨋', '마저도', '더구나', '즉시', '에야', '버금', '이다', '이외', '인하여', '하나요', '인젠', '더불어', '전부', '시키다', '남짓', '다수', '만하', '알다', '하마터면', '하여', '하도다', '대하', '당장', '꽈당', '오로지', '헉헉', '나머지', '전자', '생각', '해서는', '즈음', '아이쿠', '에게', '하기에', '무슨', '다음', '그런', '우선', '펄렁', '좋아', '소생', '항목', '당신', '되나요', '지든지', '비추어', '없다', '밖에', '구토', '왜냐하면', '그럼에도', '기준', '들자면', '과연', '다른', '막론', '바꾸어말하자면', '만은', '각하', '설마', '어떻', '혹은', '오직', '저쪽', '이천구', '보는데서', '이천칠', '않다', '많은', '너희', '다시', '이러하다', '와르르', '입어', '우리', '각각', '종합', '어쩔', '잇따라', '하게', '궁금합니다', '할수록', '만큼', '나요', '하기', '이래', '아하', '틈타', '비록', '이었다', '따르는', '아이고', '오르다', '가서', '요컨대', '알았어', '하지', '어떤', '어이', '있나요', '바꾸어서', '더욱이', '저희', '다소', '로써', '않기', '일것이다', '한데', '때문', '콸콸', '이천팔', '와같이', '따라서', '아니라', '할수있다', '되면', '관련', '마저', '아이구', '같이', '여덟', '여보', '보아', '아이야', '보다', '단지', '하게하다', '하하', '가까스로', '쓰고', '놀라다', '아니면', '불문', '소인', '된다', '들면', '함께', '조차도', '여기', '거니와', '그러면', '자기', '비슷하다', '하려고하다', '우르르', '모른다', '한하다', '아이', '그때', '하고', '가령', '도달', '얼마만큼', '그러므로', '헐떡헐떡', '훨씬', '이서', '도착', '하겠는가', '어찌하여', '반드시', '그저', '하구나', '허허', '일지', '무엇', '잠깐', '아홉', '하나', '또한', '이런', '다섯', '아야', '보드득', '설령', '따위', '딩동', '거리', '그리하여', '탕탕', '다만', '요만', '참나', '의해서', '그리고', '지만', '윙윙', '아니었다면', '번째', '시오', '그래도', '예컨대', '어떻게', '할지라도', '모두', '하기는한데', '했어요', '겸사겸사', '비교', '관계', '습니까', '뒤따라', '조차', '오히려', '흐흐', '여부', '형식', '이렇게', '여러분', '되어', '결국', '주저', '해도', '의거', '고로', '엉엉', '설사', '망정', '그러한', '이번', '안다', '하면', '뚝뚝', '입장', '해서', '이러', '두번째', '부터', '쾅쾅', '어떠한', '위해', '까지도', '근거', '바로', '거나', '동시', '차라리', '하였다', '자마자', '같은', '그러니까', '사람', '으로서', '하자', '얼마', '되는', '따지지', '보면', '양자', '몰라도', '어디', '만이', '같다면', '그러니', '얼마나', '아니라면', '일단', '대로', '달려', '까악', '어때', '의해', '아니다', '비길수', '아무', '어느', '어떻해', '만약', '쓰여', '낫다', '이어서', '하지마', '조금', '될것이다', '각자', '까닭', '하든', '구체', '반대', '않고', '에서', '다를가', '거바', '이럴', '거의', '서술', '상대', '타인', '어기', '불구', '할수있어', '둥둥', '등등', '댕그', '하기보다는', '켠으로는', '라면', '결과', '않도록', '저기', '하다', '타다', '갖고말하자면', '시간', '하는것도', '의치', '이상', '아니나', '게다가', '이르기까지', '그러나', '하기만', '해야', '다시말하면', '지경', '여전히', '이로', '결론', '따름', '하더라도', '시작', '알겠는가', '에도', '혹시', '있다', '시초', '한다', '영차', '연관', '까지', '지말고', '실로', '하느니', '무릎', '본대', '더욱더', '무렵', '진짜', '동안', '이어', '하물며', '졸졸', '하자면', '정도', '그렇지', '하지마라', '편이', '이지만', '더라도', '몰랏다', '약간', '하는것만', '방면', '시각', '만으로', '한다면', '해봐요', '이렇구나', '자신', '관계없이', '언젠가', '할줄', '공동', '경우', '라도', '그래서', '틀림없다', '끙끙', '겨우', '더군다나', '이르다', '그럼'], vect__tokenizer=<function okt at 0x7f0cb66e18c0>; total time=  12.7s\n",
            "[CV] END clf__C=0.1, clf__penalty=l1, vect__ngram_range=(1, 1), vect__stop_words=['대해', '바꿔', '어떤것', '전후', '비걱', '안된다', '하면서', '않는다면', '한적', '부류', '따라', '게우다', '기타', '어찌', '붕붕', '같다', '기대', '봐라', '응당', '하는것이', '않다면', '잠시', '그치지', '하는', '누구', '끼익', '의지', '매번', '아래', '고려', '휘익', '그렇지만', '하여금', '로부터', '리하', '아울러', '않으면', '한마디', '할것도', '일곱', '좋다', '아니', '언제', '일반', '가요', '되다', '이용', '으로', '이천육', '미치다', '년도', '마음대로', '없고', '이유', '만일', '하여야', '하도록', '심지어', '오호', '어째서', '하고있었다', '그래', '하지만', '그렇게', '기점', '각종', '든지', '비로소', '마자', '바꾸어말하면', '그런데', '제각기', '혼자', '허걱', '물론', '습니다', '여섯', '할지언정', '누가', '운운', '삐걱', '얼마간', '좍좍', '와아', '이러한', '제외', '주룩주룩', '인가요', '마치', '으로써', '어쨋', '마저도', '더구나', '즉시', '에야', '버금', '이다', '이외', '인하여', '하나요', '인젠', '더불어', '전부', '시키다', '남짓', '다수', '만하', '알다', '하마터면', '하여', '하도다', '대하', '당장', '꽈당', '오로지', '헉헉', '나머지', '전자', '생각', '해서는', '즈음', '아이쿠', '에게', '하기에', '무슨', '다음', '그런', '우선', '펄렁', '좋아', '소생', '항목', '당신', '되나요', '지든지', '비추어', '없다', '밖에', '구토', '왜냐하면', '그럼에도', '기준', '들자면', '과연', '다른', '막론', '바꾸어말하자면', '만은', '각하', '설마', '어떻', '혹은', '오직', '저쪽', '이천구', '보는데서', '이천칠', '않다', '많은', '너희', '다시', '이러하다', '와르르', '입어', '우리', '각각', '종합', '어쩔', '잇따라', '하게', '궁금합니다', '할수록', '만큼', '나요', '하기', '이래', '아하', '틈타', '비록', '이었다', '따르는', '아이고', '오르다', '가서', '요컨대', '알았어', '하지', '어떤', '어이', '있나요', '바꾸어서', '더욱이', '저희', '다소', '로써', '않기', '일것이다', '한데', '때문', '콸콸', '이천팔', '와같이', '따라서', '아니라', '할수있다', '되면', '관련', '마저', '아이구', '같이', '여덟', '여보', '보아', '아이야', '보다', '단지', '하게하다', '하하', '가까스로', '쓰고', '놀라다', '아니면', '불문', '소인', '된다', '들면', '함께', '조차도', '여기', '거니와', '그러면', '자기', '비슷하다', '하려고하다', '우르르', '모른다', '한하다', '아이', '그때', '하고', '가령', '도달', '얼마만큼', '그러므로', '헐떡헐떡', '훨씬', '이서', '도착', '하겠는가', '어찌하여', '반드시', '그저', '하구나', '허허', '일지', '무엇', '잠깐', '아홉', '하나', '또한', '이런', '다섯', '아야', '보드득', '설령', '따위', '딩동', '거리', '그리하여', '탕탕', '다만', '요만', '참나', '의해서', '그리고', '지만', '윙윙', '아니었다면', '번째', '시오', '그래도', '예컨대', '어떻게', '할지라도', '모두', '하기는한데', '했어요', '겸사겸사', '비교', '관계', '습니까', '뒤따라', '조차', '오히려', '흐흐', '여부', '형식', '이렇게', '여러분', '되어', '결국', '주저', '해도', '의거', '고로', '엉엉', '설사', '망정', '그러한', '이번', '안다', '하면', '뚝뚝', '입장', '해서', '이러', '두번째', '부터', '쾅쾅', '어떠한', '위해', '까지도', '근거', '바로', '거나', '동시', '차라리', '하였다', '자마자', '같은', '그러니까', '사람', '으로서', '하자', '얼마', '되는', '따지지', '보면', '양자', '몰라도', '어디', '만이', '같다면', '그러니', '얼마나', '아니라면', '일단', '대로', '달려', '까악', '어때', '의해', '아니다', '비길수', '아무', '어느', '어떻해', '만약', '쓰여', '낫다', '이어서', '하지마', '조금', '될것이다', '각자', '까닭', '하든', '구체', '반대', '않고', '에서', '다를가', '거바', '이럴', '거의', '서술', '상대', '타인', '어기', '불구', '할수있어', '둥둥', '등등', '댕그', '하기보다는', '켠으로는', '라면', '결과', '않도록', '저기', '하다', '타다', '갖고말하자면', '시간', '하는것도', '의치', '이상', '아니나', '게다가', '이르기까지', '그러나', '하기만', '해야', '다시말하면', '지경', '여전히', '이로', '결론', '따름', '하더라도', '시작', '알겠는가', '에도', '혹시', '있다', '시초', '한다', '영차', '연관', '까지', '지말고', '실로', '하느니', '무릎', '본대', '더욱더', '무렵', '진짜', '동안', '이어', '하물며', '졸졸', '하자면', '정도', '그렇지', '하지마라', '편이', '이지만', '더라도', '몰랏다', '약간', '하는것만', '방면', '시각', '만으로', '한다면', '해봐요', '이렇구나', '자신', '관계없이', '언젠가', '할줄', '공동', '경우', '라도', '그래서', '틀림없다', '끙끙', '겨우', '더군다나', '이르다', '그럼'], vect__tokenizer=<function okt at 0x7f0cb66e18c0>; total time=  12.7s\n",
            "[CV] END clf__C=0.1, clf__penalty=l1, vect__ngram_range=(1, 1), vect__stop_words=['대해', '바꿔', '어떤것', '전후', '비걱', '안된다', '하면서', '않는다면', '한적', '부류', '따라', '게우다', '기타', '어찌', '붕붕', '같다', '기대', '봐라', '응당', '하는것이', '않다면', '잠시', '그치지', '하는', '누구', '끼익', '의지', '매번', '아래', '고려', '휘익', '그렇지만', '하여금', '로부터', '리하', '아울러', '않으면', '한마디', '할것도', '일곱', '좋다', '아니', '언제', '일반', '가요', '되다', '이용', '으로', '이천육', '미치다', '년도', '마음대로', '없고', '이유', '만일', '하여야', '하도록', '심지어', '오호', '어째서', '하고있었다', '그래', '하지만', '그렇게', '기점', '각종', '든지', '비로소', '마자', '바꾸어말하면', '그런데', '제각기', '혼자', '허걱', '물론', '습니다', '여섯', '할지언정', '누가', '운운', '삐걱', '얼마간', '좍좍', '와아', '이러한', '제외', '주룩주룩', '인가요', '마치', '으로써', '어쨋', '마저도', '더구나', '즉시', '에야', '버금', '이다', '이외', '인하여', '하나요', '인젠', '더불어', '전부', '시키다', '남짓', '다수', '만하', '알다', '하마터면', '하여', '하도다', '대하', '당장', '꽈당', '오로지', '헉헉', '나머지', '전자', '생각', '해서는', '즈음', '아이쿠', '에게', '하기에', '무슨', '다음', '그런', '우선', '펄렁', '좋아', '소생', '항목', '당신', '되나요', '지든지', '비추어', '없다', '밖에', '구토', '왜냐하면', '그럼에도', '기준', '들자면', '과연', '다른', '막론', '바꾸어말하자면', '만은', '각하', '설마', '어떻', '혹은', '오직', '저쪽', '이천구', '보는데서', '이천칠', '않다', '많은', '너희', '다시', '이러하다', '와르르', '입어', '우리', '각각', '종합', '어쩔', '잇따라', '하게', '궁금합니다', '할수록', '만큼', '나요', '하기', '이래', '아하', '틈타', '비록', '이었다', '따르는', '아이고', '오르다', '가서', '요컨대', '알았어', '하지', '어떤', '어이', '있나요', '바꾸어서', '더욱이', '저희', '다소', '로써', '않기', '일것이다', '한데', '때문', '콸콸', '이천팔', '와같이', '따라서', '아니라', '할수있다', '되면', '관련', '마저', '아이구', '같이', '여덟', '여보', '보아', '아이야', '보다', '단지', '하게하다', '하하', '가까스로', '쓰고', '놀라다', '아니면', '불문', '소인', '된다', '들면', '함께', '조차도', '여기', '거니와', '그러면', '자기', '비슷하다', '하려고하다', '우르르', '모른다', '한하다', '아이', '그때', '하고', '가령', '도달', '얼마만큼', '그러므로', '헐떡헐떡', '훨씬', '이서', '도착', '하겠는가', '어찌하여', '반드시', '그저', '하구나', '허허', '일지', '무엇', '잠깐', '아홉', '하나', '또한', '이런', '다섯', '아야', '보드득', '설령', '따위', '딩동', '거리', '그리하여', '탕탕', '다만', '요만', '참나', '의해서', '그리고', '지만', '윙윙', '아니었다면', '번째', '시오', '그래도', '예컨대', '어떻게', '할지라도', '모두', '하기는한데', '했어요', '겸사겸사', '비교', '관계', '습니까', '뒤따라', '조차', '오히려', '흐흐', '여부', '형식', '이렇게', '여러분', '되어', '결국', '주저', '해도', '의거', '고로', '엉엉', '설사', '망정', '그러한', '이번', '안다', '하면', '뚝뚝', '입장', '해서', '이러', '두번째', '부터', '쾅쾅', '어떠한', '위해', '까지도', '근거', '바로', '거나', '동시', '차라리', '하였다', '자마자', '같은', '그러니까', '사람', '으로서', '하자', '얼마', '되는', '따지지', '보면', '양자', '몰라도', '어디', '만이', '같다면', '그러니', '얼마나', '아니라면', '일단', '대로', '달려', '까악', '어때', '의해', '아니다', '비길수', '아무', '어느', '어떻해', '만약', '쓰여', '낫다', '이어서', '하지마', '조금', '될것이다', '각자', '까닭', '하든', '구체', '반대', '않고', '에서', '다를가', '거바', '이럴', '거의', '서술', '상대', '타인', '어기', '불구', '할수있어', '둥둥', '등등', '댕그', '하기보다는', '켠으로는', '라면', '결과', '않도록', '저기', '하다', '타다', '갖고말하자면', '시간', '하는것도', '의치', '이상', '아니나', '게다가', '이르기까지', '그러나', '하기만', '해야', '다시말하면', '지경', '여전히', '이로', '결론', '따름', '하더라도', '시작', '알겠는가', '에도', '혹시', '있다', '시초', '한다', '영차', '연관', '까지', '지말고', '실로', '하느니', '무릎', '본대', '더욱더', '무렵', '진짜', '동안', '이어', '하물며', '졸졸', '하자면', '정도', '그렇지', '하지마라', '편이', '이지만', '더라도', '몰랏다', '약간', '하는것만', '방면', '시각', '만으로', '한다면', '해봐요', '이렇구나', '자신', '관계없이', '언젠가', '할줄', '공동', '경우', '라도', '그래서', '틀림없다', '끙끙', '겨우', '더군다나', '이르다', '그럼'], vect__tokenizer=<function okt at 0x7f0cb66e18c0>; total time=  12.6s\n",
            "[CV] END clf__C=0.1, clf__penalty=l1, vect__ngram_range=(1, 1), vect__stop_words=['대해', '바꿔', '어떤것', '전후', '비걱', '안된다', '하면서', '않는다면', '한적', '부류', '따라', '게우다', '기타', '어찌', '붕붕', '같다', '기대', '봐라', '응당', '하는것이', '않다면', '잠시', '그치지', '하는', '누구', '끼익', '의지', '매번', '아래', '고려', '휘익', '그렇지만', '하여금', '로부터', '리하', '아울러', '않으면', '한마디', '할것도', '일곱', '좋다', '아니', '언제', '일반', '가요', '되다', '이용', '으로', '이천육', '미치다', '년도', '마음대로', '없고', '이유', '만일', '하여야', '하도록', '심지어', '오호', '어째서', '하고있었다', '그래', '하지만', '그렇게', '기점', '각종', '든지', '비로소', '마자', '바꾸어말하면', '그런데', '제각기', '혼자', '허걱', '물론', '습니다', '여섯', '할지언정', '누가', '운운', '삐걱', '얼마간', '좍좍', '와아', '이러한', '제외', '주룩주룩', '인가요', '마치', '으로써', '어쨋', '마저도', '더구나', '즉시', '에야', '버금', '이다', '이외', '인하여', '하나요', '인젠', '더불어', '전부', '시키다', '남짓', '다수', '만하', '알다', '하마터면', '하여', '하도다', '대하', '당장', '꽈당', '오로지', '헉헉', '나머지', '전자', '생각', '해서는', '즈음', '아이쿠', '에게', '하기에', '무슨', '다음', '그런', '우선', '펄렁', '좋아', '소생', '항목', '당신', '되나요', '지든지', '비추어', '없다', '밖에', '구토', '왜냐하면', '그럼에도', '기준', '들자면', '과연', '다른', '막론', '바꾸어말하자면', '만은', '각하', '설마', '어떻', '혹은', '오직', '저쪽', '이천구', '보는데서', '이천칠', '않다', '많은', '너희', '다시', '이러하다', '와르르', '입어', '우리', '각각', '종합', '어쩔', '잇따라', '하게', '궁금합니다', '할수록', '만큼', '나요', '하기', '이래', '아하', '틈타', '비록', '이었다', '따르는', '아이고', '오르다', '가서', '요컨대', '알았어', '하지', '어떤', '어이', '있나요', '바꾸어서', '더욱이', '저희', '다소', '로써', '않기', '일것이다', '한데', '때문', '콸콸', '이천팔', '와같이', '따라서', '아니라', '할수있다', '되면', '관련', '마저', '아이구', '같이', '여덟', '여보', '보아', '아이야', '보다', '단지', '하게하다', '하하', '가까스로', '쓰고', '놀라다', '아니면', '불문', '소인', '된다', '들면', '함께', '조차도', '여기', '거니와', '그러면', '자기', '비슷하다', '하려고하다', '우르르', '모른다', '한하다', '아이', '그때', '하고', '가령', '도달', '얼마만큼', '그러므로', '헐떡헐떡', '훨씬', '이서', '도착', '하겠는가', '어찌하여', '반드시', '그저', '하구나', '허허', '일지', '무엇', '잠깐', '아홉', '하나', '또한', '이런', '다섯', '아야', '보드득', '설령', '따위', '딩동', '거리', '그리하여', '탕탕', '다만', '요만', '참나', '의해서', '그리고', '지만', '윙윙', '아니었다면', '번째', '시오', '그래도', '예컨대', '어떻게', '할지라도', '모두', '하기는한데', '했어요', '겸사겸사', '비교', '관계', '습니까', '뒤따라', '조차', '오히려', '흐흐', '여부', '형식', '이렇게', '여러분', '되어', '결국', '주저', '해도', '의거', '고로', '엉엉', '설사', '망정', '그러한', '이번', '안다', '하면', '뚝뚝', '입장', '해서', '이러', '두번째', '부터', '쾅쾅', '어떠한', '위해', '까지도', '근거', '바로', '거나', '동시', '차라리', '하였다', '자마자', '같은', '그러니까', '사람', '으로서', '하자', '얼마', '되는', '따지지', '보면', '양자', '몰라도', '어디', '만이', '같다면', '그러니', '얼마나', '아니라면', '일단', '대로', '달려', '까악', '어때', '의해', '아니다', '비길수', '아무', '어느', '어떻해', '만약', '쓰여', '낫다', '이어서', '하지마', '조금', '될것이다', '각자', '까닭', '하든', '구체', '반대', '않고', '에서', '다를가', '거바', '이럴', '거의', '서술', '상대', '타인', '어기', '불구', '할수있어', '둥둥', '등등', '댕그', '하기보다는', '켠으로는', '라면', '결과', '않도록', '저기', '하다', '타다', '갖고말하자면', '시간', '하는것도', '의치', '이상', '아니나', '게다가', '이르기까지', '그러나', '하기만', '해야', '다시말하면', '지경', '여전히', '이로', '결론', '따름', '하더라도', '시작', '알겠는가', '에도', '혹시', '있다', '시초', '한다', '영차', '연관', '까지', '지말고', '실로', '하느니', '무릎', '본대', '더욱더', '무렵', '진짜', '동안', '이어', '하물며', '졸졸', '하자면', '정도', '그렇지', '하지마라', '편이', '이지만', '더라도', '몰랏다', '약간', '하는것만', '방면', '시각', '만으로', '한다면', '해봐요', '이렇구나', '자신', '관계없이', '언젠가', '할줄', '공동', '경우', '라도', '그래서', '틀림없다', '끙끙', '겨우', '더군다나', '이르다', '그럼'], vect__tokenizer=<function okt at 0x7f0cb66e18c0>; total time=  12.7s\n",
            "[CV] END clf__C=0.1, clf__penalty=l1, vect__ngram_range=(1, 1), vect__stop_words=None, vect__tokenizer=<function okt at 0x7f0cb66e18c0>; total time=  12.5s\n",
            "[CV] END clf__C=0.1, clf__penalty=l1, vect__ngram_range=(1, 1), vect__stop_words=None, vect__tokenizer=<function okt at 0x7f0cb66e18c0>; total time=  12.6s\n",
            "[CV] END clf__C=0.1, clf__penalty=l1, vect__ngram_range=(1, 1), vect__stop_words=None, vect__tokenizer=<function okt at 0x7f0cb66e18c0>; total time=  12.5s\n",
            "[CV] END clf__C=0.1, clf__penalty=l1, vect__ngram_range=(1, 1), vect__stop_words=None, vect__tokenizer=<function okt at 0x7f0cb66e18c0>; total time=  12.6s\n",
            "[CV] END clf__C=0.1, clf__penalty=l1, vect__ngram_range=(1, 1), vect__stop_words=None, vect__tokenizer=<function okt at 0x7f0cb66e18c0>; total time=  12.5s\n",
            "[CV] END clf__C=0.1, clf__penalty=l2, vect__ngram_range=(1, 1), vect__stop_words=['대해', '바꿔', '어떤것', '전후', '비걱', '안된다', '하면서', '않는다면', '한적', '부류', '따라', '게우다', '기타', '어찌', '붕붕', '같다', '기대', '봐라', '응당', '하는것이', '않다면', '잠시', '그치지', '하는', '누구', '끼익', '의지', '매번', '아래', '고려', '휘익', '그렇지만', '하여금', '로부터', '리하', '아울러', '않으면', '한마디', '할것도', '일곱', '좋다', '아니', '언제', '일반', '가요', '되다', '이용', '으로', '이천육', '미치다', '년도', '마음대로', '없고', '이유', '만일', '하여야', '하도록', '심지어', '오호', '어째서', '하고있었다', '그래', '하지만', '그렇게', '기점', '각종', '든지', '비로소', '마자', '바꾸어말하면', '그런데', '제각기', '혼자', '허걱', '물론', '습니다', '여섯', '할지언정', '누가', '운운', '삐걱', '얼마간', '좍좍', '와아', '이러한', '제외', '주룩주룩', '인가요', '마치', '으로써', '어쨋', '마저도', '더구나', '즉시', '에야', '버금', '이다', '이외', '인하여', '하나요', '인젠', '더불어', '전부', '시키다', '남짓', '다수', '만하', '알다', '하마터면', '하여', '하도다', '대하', '당장', '꽈당', '오로지', '헉헉', '나머지', '전자', '생각', '해서는', '즈음', '아이쿠', '에게', '하기에', '무슨', '다음', '그런', '우선', '펄렁', '좋아', '소생', '항목', '당신', '되나요', '지든지', '비추어', '없다', '밖에', '구토', '왜냐하면', '그럼에도', '기준', '들자면', '과연', '다른', '막론', '바꾸어말하자면', '만은', '각하', '설마', '어떻', '혹은', '오직', '저쪽', '이천구', '보는데서', '이천칠', '않다', '많은', '너희', '다시', '이러하다', '와르르', '입어', '우리', '각각', '종합', '어쩔', '잇따라', '하게', '궁금합니다', '할수록', '만큼', '나요', '하기', '이래', '아하', '틈타', '비록', '이었다', '따르는', '아이고', '오르다', '가서', '요컨대', '알았어', '하지', '어떤', '어이', '있나요', '바꾸어서', '더욱이', '저희', '다소', '로써', '않기', '일것이다', '한데', '때문', '콸콸', '이천팔', '와같이', '따라서', '아니라', '할수있다', '되면', '관련', '마저', '아이구', '같이', '여덟', '여보', '보아', '아이야', '보다', '단지', '하게하다', '하하', '가까스로', '쓰고', '놀라다', '아니면', '불문', '소인', '된다', '들면', '함께', '조차도', '여기', '거니와', '그러면', '자기', '비슷하다', '하려고하다', '우르르', '모른다', '한하다', '아이', '그때', '하고', '가령', '도달', '얼마만큼', '그러므로', '헐떡헐떡', '훨씬', '이서', '도착', '하겠는가', '어찌하여', '반드시', '그저', '하구나', '허허', '일지', '무엇', '잠깐', '아홉', '하나', '또한', '이런', '다섯', '아야', '보드득', '설령', '따위', '딩동', '거리', '그리하여', '탕탕', '다만', '요만', '참나', '의해서', '그리고', '지만', '윙윙', '아니었다면', '번째', '시오', '그래도', '예컨대', '어떻게', '할지라도', '모두', '하기는한데', '했어요', '겸사겸사', '비교', '관계', '습니까', '뒤따라', '조차', '오히려', '흐흐', '여부', '형식', '이렇게', '여러분', '되어', '결국', '주저', '해도', '의거', '고로', '엉엉', '설사', '망정', '그러한', '이번', '안다', '하면', '뚝뚝', '입장', '해서', '이러', '두번째', '부터', '쾅쾅', '어떠한', '위해', '까지도', '근거', '바로', '거나', '동시', '차라리', '하였다', '자마자', '같은', '그러니까', '사람', '으로서', '하자', '얼마', '되는', '따지지', '보면', '양자', '몰라도', '어디', '만이', '같다면', '그러니', '얼마나', '아니라면', '일단', '대로', '달려', '까악', '어때', '의해', '아니다', '비길수', '아무', '어느', '어떻해', '만약', '쓰여', '낫다', '이어서', '하지마', '조금', '될것이다', '각자', '까닭', '하든', '구체', '반대', '않고', '에서', '다를가', '거바', '이럴', '거의', '서술', '상대', '타인', '어기', '불구', '할수있어', '둥둥', '등등', '댕그', '하기보다는', '켠으로는', '라면', '결과', '않도록', '저기', '하다', '타다', '갖고말하자면', '시간', '하는것도', '의치', '이상', '아니나', '게다가', '이르기까지', '그러나', '하기만', '해야', '다시말하면', '지경', '여전히', '이로', '결론', '따름', '하더라도', '시작', '알겠는가', '에도', '혹시', '있다', '시초', '한다', '영차', '연관', '까지', '지말고', '실로', '하느니', '무릎', '본대', '더욱더', '무렵', '진짜', '동안', '이어', '하물며', '졸졸', '하자면', '정도', '그렇지', '하지마라', '편이', '이지만', '더라도', '몰랏다', '약간', '하는것만', '방면', '시각', '만으로', '한다면', '해봐요', '이렇구나', '자신', '관계없이', '언젠가', '할줄', '공동', '경우', '라도', '그래서', '틀림없다', '끙끙', '겨우', '더군다나', '이르다', '그럼'], vect__tokenizer=<function okt at 0x7f0cb66e18c0>; total time=  12.8s\n",
            "[CV] END clf__C=0.1, clf__penalty=l2, vect__ngram_range=(1, 1), vect__stop_words=['대해', '바꿔', '어떤것', '전후', '비걱', '안된다', '하면서', '않는다면', '한적', '부류', '따라', '게우다', '기타', '어찌', '붕붕', '같다', '기대', '봐라', '응당', '하는것이', '않다면', '잠시', '그치지', '하는', '누구', '끼익', '의지', '매번', '아래', '고려', '휘익', '그렇지만', '하여금', '로부터', '리하', '아울러', '않으면', '한마디', '할것도', '일곱', '좋다', '아니', '언제', '일반', '가요', '되다', '이용', '으로', '이천육', '미치다', '년도', '마음대로', '없고', '이유', '만일', '하여야', '하도록', '심지어', '오호', '어째서', '하고있었다', '그래', '하지만', '그렇게', '기점', '각종', '든지', '비로소', '마자', '바꾸어말하면', '그런데', '제각기', '혼자', '허걱', '물론', '습니다', '여섯', '할지언정', '누가', '운운', '삐걱', '얼마간', '좍좍', '와아', '이러한', '제외', '주룩주룩', '인가요', '마치', '으로써', '어쨋', '마저도', '더구나', '즉시', '에야', '버금', '이다', '이외', '인하여', '하나요', '인젠', '더불어', '전부', '시키다', '남짓', '다수', '만하', '알다', '하마터면', '하여', '하도다', '대하', '당장', '꽈당', '오로지', '헉헉', '나머지', '전자', '생각', '해서는', '즈음', '아이쿠', '에게', '하기에', '무슨', '다음', '그런', '우선', '펄렁', '좋아', '소생', '항목', '당신', '되나요', '지든지', '비추어', '없다', '밖에', '구토', '왜냐하면', '그럼에도', '기준', '들자면', '과연', '다른', '막론', '바꾸어말하자면', '만은', '각하', '설마', '어떻', '혹은', '오직', '저쪽', '이천구', '보는데서', '이천칠', '않다', '많은', '너희', '다시', '이러하다', '와르르', '입어', '우리', '각각', '종합', '어쩔', '잇따라', '하게', '궁금합니다', '할수록', '만큼', '나요', '하기', '이래', '아하', '틈타', '비록', '이었다', '따르는', '아이고', '오르다', '가서', '요컨대', '알았어', '하지', '어떤', '어이', '있나요', '바꾸어서', '더욱이', '저희', '다소', '로써', '않기', '일것이다', '한데', '때문', '콸콸', '이천팔', '와같이', '따라서', '아니라', '할수있다', '되면', '관련', '마저', '아이구', '같이', '여덟', '여보', '보아', '아이야', '보다', '단지', '하게하다', '하하', '가까스로', '쓰고', '놀라다', '아니면', '불문', '소인', '된다', '들면', '함께', '조차도', '여기', '거니와', '그러면', '자기', '비슷하다', '하려고하다', '우르르', '모른다', '한하다', '아이', '그때', '하고', '가령', '도달', '얼마만큼', '그러므로', '헐떡헐떡', '훨씬', '이서', '도착', '하겠는가', '어찌하여', '반드시', '그저', '하구나', '허허', '일지', '무엇', '잠깐', '아홉', '하나', '또한', '이런', '다섯', '아야', '보드득', '설령', '따위', '딩동', '거리', '그리하여', '탕탕', '다만', '요만', '참나', '의해서', '그리고', '지만', '윙윙', '아니었다면', '번째', '시오', '그래도', '예컨대', '어떻게', '할지라도', '모두', '하기는한데', '했어요', '겸사겸사', '비교', '관계', '습니까', '뒤따라', '조차', '오히려', '흐흐', '여부', '형식', '이렇게', '여러분', '되어', '결국', '주저', '해도', '의거', '고로', '엉엉', '설사', '망정', '그러한', '이번', '안다', '하면', '뚝뚝', '입장', '해서', '이러', '두번째', '부터', '쾅쾅', '어떠한', '위해', '까지도', '근거', '바로', '거나', '동시', '차라리', '하였다', '자마자', '같은', '그러니까', '사람', '으로서', '하자', '얼마', '되는', '따지지', '보면', '양자', '몰라도', '어디', '만이', '같다면', '그러니', '얼마나', '아니라면', '일단', '대로', '달려', '까악', '어때', '의해', '아니다', '비길수', '아무', '어느', '어떻해', '만약', '쓰여', '낫다', '이어서', '하지마', '조금', '될것이다', '각자', '까닭', '하든', '구체', '반대', '않고', '에서', '다를가', '거바', '이럴', '거의', '서술', '상대', '타인', '어기', '불구', '할수있어', '둥둥', '등등', '댕그', '하기보다는', '켠으로는', '라면', '결과', '않도록', '저기', '하다', '타다', '갖고말하자면', '시간', '하는것도', '의치', '이상', '아니나', '게다가', '이르기까지', '그러나', '하기만', '해야', '다시말하면', '지경', '여전히', '이로', '결론', '따름', '하더라도', '시작', '알겠는가', '에도', '혹시', '있다', '시초', '한다', '영차', '연관', '까지', '지말고', '실로', '하느니', '무릎', '본대', '더욱더', '무렵', '진짜', '동안', '이어', '하물며', '졸졸', '하자면', '정도', '그렇지', '하지마라', '편이', '이지만', '더라도', '몰랏다', '약간', '하는것만', '방면', '시각', '만으로', '한다면', '해봐요', '이렇구나', '자신', '관계없이', '언젠가', '할줄', '공동', '경우', '라도', '그래서', '틀림없다', '끙끙', '겨우', '더군다나', '이르다', '그럼'], vect__tokenizer=<function okt at 0x7f0cb66e18c0>; total time=  12.8s\n",
            "[CV] END clf__C=0.1, clf__penalty=l2, vect__ngram_range=(1, 1), vect__stop_words=['대해', '바꿔', '어떤것', '전후', '비걱', '안된다', '하면서', '않는다면', '한적', '부류', '따라', '게우다', '기타', '어찌', '붕붕', '같다', '기대', '봐라', '응당', '하는것이', '않다면', '잠시', '그치지', '하는', '누구', '끼익', '의지', '매번', '아래', '고려', '휘익', '그렇지만', '하여금', '로부터', '리하', '아울러', '않으면', '한마디', '할것도', '일곱', '좋다', '아니', '언제', '일반', '가요', '되다', '이용', '으로', '이천육', '미치다', '년도', '마음대로', '없고', '이유', '만일', '하여야', '하도록', '심지어', '오호', '어째서', '하고있었다', '그래', '하지만', '그렇게', '기점', '각종', '든지', '비로소', '마자', '바꾸어말하면', '그런데', '제각기', '혼자', '허걱', '물론', '습니다', '여섯', '할지언정', '누가', '운운', '삐걱', '얼마간', '좍좍', '와아', '이러한', '제외', '주룩주룩', '인가요', '마치', '으로써', '어쨋', '마저도', '더구나', '즉시', '에야', '버금', '이다', '이외', '인하여', '하나요', '인젠', '더불어', '전부', '시키다', '남짓', '다수', '만하', '알다', '하마터면', '하여', '하도다', '대하', '당장', '꽈당', '오로지', '헉헉', '나머지', '전자', '생각', '해서는', '즈음', '아이쿠', '에게', '하기에', '무슨', '다음', '그런', '우선', '펄렁', '좋아', '소생', '항목', '당신', '되나요', '지든지', '비추어', '없다', '밖에', '구토', '왜냐하면', '그럼에도', '기준', '들자면', '과연', '다른', '막론', '바꾸어말하자면', '만은', '각하', '설마', '어떻', '혹은', '오직', '저쪽', '이천구', '보는데서', '이천칠', '않다', '많은', '너희', '다시', '이러하다', '와르르', '입어', '우리', '각각', '종합', '어쩔', '잇따라', '하게', '궁금합니다', '할수록', '만큼', '나요', '하기', '이래', '아하', '틈타', '비록', '이었다', '따르는', '아이고', '오르다', '가서', '요컨대', '알았어', '하지', '어떤', '어이', '있나요', '바꾸어서', '더욱이', '저희', '다소', '로써', '않기', '일것이다', '한데', '때문', '콸콸', '이천팔', '와같이', '따라서', '아니라', '할수있다', '되면', '관련', '마저', '아이구', '같이', '여덟', '여보', '보아', '아이야', '보다', '단지', '하게하다', '하하', '가까스로', '쓰고', '놀라다', '아니면', '불문', '소인', '된다', '들면', '함께', '조차도', '여기', '거니와', '그러면', '자기', '비슷하다', '하려고하다', '우르르', '모른다', '한하다', '아이', '그때', '하고', '가령', '도달', '얼마만큼', '그러므로', '헐떡헐떡', '훨씬', '이서', '도착', '하겠는가', '어찌하여', '반드시', '그저', '하구나', '허허', '일지', '무엇', '잠깐', '아홉', '하나', '또한', '이런', '다섯', '아야', '보드득', '설령', '따위', '딩동', '거리', '그리하여', '탕탕', '다만', '요만', '참나', '의해서', '그리고', '지만', '윙윙', '아니었다면', '번째', '시오', '그래도', '예컨대', '어떻게', '할지라도', '모두', '하기는한데', '했어요', '겸사겸사', '비교', '관계', '습니까', '뒤따라', '조차', '오히려', '흐흐', '여부', '형식', '이렇게', '여러분', '되어', '결국', '주저', '해도', '의거', '고로', '엉엉', '설사', '망정', '그러한', '이번', '안다', '하면', '뚝뚝', '입장', '해서', '이러', '두번째', '부터', '쾅쾅', '어떠한', '위해', '까지도', '근거', '바로', '거나', '동시', '차라리', '하였다', '자마자', '같은', '그러니까', '사람', '으로서', '하자', '얼마', '되는', '따지지', '보면', '양자', '몰라도', '어디', '만이', '같다면', '그러니', '얼마나', '아니라면', '일단', '대로', '달려', '까악', '어때', '의해', '아니다', '비길수', '아무', '어느', '어떻해', '만약', '쓰여', '낫다', '이어서', '하지마', '조금', '될것이다', '각자', '까닭', '하든', '구체', '반대', '않고', '에서', '다를가', '거바', '이럴', '거의', '서술', '상대', '타인', '어기', '불구', '할수있어', '둥둥', '등등', '댕그', '하기보다는', '켠으로는', '라면', '결과', '않도록', '저기', '하다', '타다', '갖고말하자면', '시간', '하는것도', '의치', '이상', '아니나', '게다가', '이르기까지', '그러나', '하기만', '해야', '다시말하면', '지경', '여전히', '이로', '결론', '따름', '하더라도', '시작', '알겠는가', '에도', '혹시', '있다', '시초', '한다', '영차', '연관', '까지', '지말고', '실로', '하느니', '무릎', '본대', '더욱더', '무렵', '진짜', '동안', '이어', '하물며', '졸졸', '하자면', '정도', '그렇지', '하지마라', '편이', '이지만', '더라도', '몰랏다', '약간', '하는것만', '방면', '시각', '만으로', '한다면', '해봐요', '이렇구나', '자신', '관계없이', '언젠가', '할줄', '공동', '경우', '라도', '그래서', '틀림없다', '끙끙', '겨우', '더군다나', '이르다', '그럼'], vect__tokenizer=<function okt at 0x7f0cb66e18c0>; total time=  12.6s\n",
            "[CV] END clf__C=0.1, clf__penalty=l2, vect__ngram_range=(1, 1), vect__stop_words=['대해', '바꿔', '어떤것', '전후', '비걱', '안된다', '하면서', '않는다면', '한적', '부류', '따라', '게우다', '기타', '어찌', '붕붕', '같다', '기대', '봐라', '응당', '하는것이', '않다면', '잠시', '그치지', '하는', '누구', '끼익', '의지', '매번', '아래', '고려', '휘익', '그렇지만', '하여금', '로부터', '리하', '아울러', '않으면', '한마디', '할것도', '일곱', '좋다', '아니', '언제', '일반', '가요', '되다', '이용', '으로', '이천육', '미치다', '년도', '마음대로', '없고', '이유', '만일', '하여야', '하도록', '심지어', '오호', '어째서', '하고있었다', '그래', '하지만', '그렇게', '기점', '각종', '든지', '비로소', '마자', '바꾸어말하면', '그런데', '제각기', '혼자', '허걱', '물론', '습니다', '여섯', '할지언정', '누가', '운운', '삐걱', '얼마간', '좍좍', '와아', '이러한', '제외', '주룩주룩', '인가요', '마치', '으로써', '어쨋', '마저도', '더구나', '즉시', '에야', '버금', '이다', '이외', '인하여', '하나요', '인젠', '더불어', '전부', '시키다', '남짓', '다수', '만하', '알다', '하마터면', '하여', '하도다', '대하', '당장', '꽈당', '오로지', '헉헉', '나머지', '전자', '생각', '해서는', '즈음', '아이쿠', '에게', '하기에', '무슨', '다음', '그런', '우선', '펄렁', '좋아', '소생', '항목', '당신', '되나요', '지든지', '비추어', '없다', '밖에', '구토', '왜냐하면', '그럼에도', '기준', '들자면', '과연', '다른', '막론', '바꾸어말하자면', '만은', '각하', '설마', '어떻', '혹은', '오직', '저쪽', '이천구', '보는데서', '이천칠', '않다', '많은', '너희', '다시', '이러하다', '와르르', '입어', '우리', '각각', '종합', '어쩔', '잇따라', '하게', '궁금합니다', '할수록', '만큼', '나요', '하기', '이래', '아하', '틈타', '비록', '이었다', '따르는', '아이고', '오르다', '가서', '요컨대', '알았어', '하지', '어떤', '어이', '있나요', '바꾸어서', '더욱이', '저희', '다소', '로써', '않기', '일것이다', '한데', '때문', '콸콸', '이천팔', '와같이', '따라서', '아니라', '할수있다', '되면', '관련', '마저', '아이구', '같이', '여덟', '여보', '보아', '아이야', '보다', '단지', '하게하다', '하하', '가까스로', '쓰고', '놀라다', '아니면', '불문', '소인', '된다', '들면', '함께', '조차도', '여기', '거니와', '그러면', '자기', '비슷하다', '하려고하다', '우르르', '모른다', '한하다', '아이', '그때', '하고', '가령', '도달', '얼마만큼', '그러므로', '헐떡헐떡', '훨씬', '이서', '도착', '하겠는가', '어찌하여', '반드시', '그저', '하구나', '허허', '일지', '무엇', '잠깐', '아홉', '하나', '또한', '이런', '다섯', '아야', '보드득', '설령', '따위', '딩동', '거리', '그리하여', '탕탕', '다만', '요만', '참나', '의해서', '그리고', '지만', '윙윙', '아니었다면', '번째', '시오', '그래도', '예컨대', '어떻게', '할지라도', '모두', '하기는한데', '했어요', '겸사겸사', '비교', '관계', '습니까', '뒤따라', '조차', '오히려', '흐흐', '여부', '형식', '이렇게', '여러분', '되어', '결국', '주저', '해도', '의거', '고로', '엉엉', '설사', '망정', '그러한', '이번', '안다', '하면', '뚝뚝', '입장', '해서', '이러', '두번째', '부터', '쾅쾅', '어떠한', '위해', '까지도', '근거', '바로', '거나', '동시', '차라리', '하였다', '자마자', '같은', '그러니까', '사람', '으로서', '하자', '얼마', '되는', '따지지', '보면', '양자', '몰라도', '어디', '만이', '같다면', '그러니', '얼마나', '아니라면', '일단', '대로', '달려', '까악', '어때', '의해', '아니다', '비길수', '아무', '어느', '어떻해', '만약', '쓰여', '낫다', '이어서', '하지마', '조금', '될것이다', '각자', '까닭', '하든', '구체', '반대', '않고', '에서', '다를가', '거바', '이럴', '거의', '서술', '상대', '타인', '어기', '불구', '할수있어', '둥둥', '등등', '댕그', '하기보다는', '켠으로는', '라면', '결과', '않도록', '저기', '하다', '타다', '갖고말하자면', '시간', '하는것도', '의치', '이상', '아니나', '게다가', '이르기까지', '그러나', '하기만', '해야', '다시말하면', '지경', '여전히', '이로', '결론', '따름', '하더라도', '시작', '알겠는가', '에도', '혹시', '있다', '시초', '한다', '영차', '연관', '까지', '지말고', '실로', '하느니', '무릎', '본대', '더욱더', '무렵', '진짜', '동안', '이어', '하물며', '졸졸', '하자면', '정도', '그렇지', '하지마라', '편이', '이지만', '더라도', '몰랏다', '약간', '하는것만', '방면', '시각', '만으로', '한다면', '해봐요', '이렇구나', '자신', '관계없이', '언젠가', '할줄', '공동', '경우', '라도', '그래서', '틀림없다', '끙끙', '겨우', '더군다나', '이르다', '그럼'], vect__tokenizer=<function okt at 0x7f0cb66e18c0>; total time=  12.7s\n",
            "[CV] END clf__C=0.1, clf__penalty=l2, vect__ngram_range=(1, 1), vect__stop_words=['대해', '바꿔', '어떤것', '전후', '비걱', '안된다', '하면서', '않는다면', '한적', '부류', '따라', '게우다', '기타', '어찌', '붕붕', '같다', '기대', '봐라', '응당', '하는것이', '않다면', '잠시', '그치지', '하는', '누구', '끼익', '의지', '매번', '아래', '고려', '휘익', '그렇지만', '하여금', '로부터', '리하', '아울러', '않으면', '한마디', '할것도', '일곱', '좋다', '아니', '언제', '일반', '가요', '되다', '이용', '으로', '이천육', '미치다', '년도', '마음대로', '없고', '이유', '만일', '하여야', '하도록', '심지어', '오호', '어째서', '하고있었다', '그래', '하지만', '그렇게', '기점', '각종', '든지', '비로소', '마자', '바꾸어말하면', '그런데', '제각기', '혼자', '허걱', '물론', '습니다', '여섯', '할지언정', '누가', '운운', '삐걱', '얼마간', '좍좍', '와아', '이러한', '제외', '주룩주룩', '인가요', '마치', '으로써', '어쨋', '마저도', '더구나', '즉시', '에야', '버금', '이다', '이외', '인하여', '하나요', '인젠', '더불어', '전부', '시키다', '남짓', '다수', '만하', '알다', '하마터면', '하여', '하도다', '대하', '당장', '꽈당', '오로지', '헉헉', '나머지', '전자', '생각', '해서는', '즈음', '아이쿠', '에게', '하기에', '무슨', '다음', '그런', '우선', '펄렁', '좋아', '소생', '항목', '당신', '되나요', '지든지', '비추어', '없다', '밖에', '구토', '왜냐하면', '그럼에도', '기준', '들자면', '과연', '다른', '막론', '바꾸어말하자면', '만은', '각하', '설마', '어떻', '혹은', '오직', '저쪽', '이천구', '보는데서', '이천칠', '않다', '많은', '너희', '다시', '이러하다', '와르르', '입어', '우리', '각각', '종합', '어쩔', '잇따라', '하게', '궁금합니다', '할수록', '만큼', '나요', '하기', '이래', '아하', '틈타', '비록', '이었다', '따르는', '아이고', '오르다', '가서', '요컨대', '알았어', '하지', '어떤', '어이', '있나요', '바꾸어서', '더욱이', '저희', '다소', '로써', '않기', '일것이다', '한데', '때문', '콸콸', '이천팔', '와같이', '따라서', '아니라', '할수있다', '되면', '관련', '마저', '아이구', '같이', '여덟', '여보', '보아', '아이야', '보다', '단지', '하게하다', '하하', '가까스로', '쓰고', '놀라다', '아니면', '불문', '소인', '된다', '들면', '함께', '조차도', '여기', '거니와', '그러면', '자기', '비슷하다', '하려고하다', '우르르', '모른다', '한하다', '아이', '그때', '하고', '가령', '도달', '얼마만큼', '그러므로', '헐떡헐떡', '훨씬', '이서', '도착', '하겠는가', '어찌하여', '반드시', '그저', '하구나', '허허', '일지', '무엇', '잠깐', '아홉', '하나', '또한', '이런', '다섯', '아야', '보드득', '설령', '따위', '딩동', '거리', '그리하여', '탕탕', '다만', '요만', '참나', '의해서', '그리고', '지만', '윙윙', '아니었다면', '번째', '시오', '그래도', '예컨대', '어떻게', '할지라도', '모두', '하기는한데', '했어요', '겸사겸사', '비교', '관계', '습니까', '뒤따라', '조차', '오히려', '흐흐', '여부', '형식', '이렇게', '여러분', '되어', '결국', '주저', '해도', '의거', '고로', '엉엉', '설사', '망정', '그러한', '이번', '안다', '하면', '뚝뚝', '입장', '해서', '이러', '두번째', '부터', '쾅쾅', '어떠한', '위해', '까지도', '근거', '바로', '거나', '동시', '차라리', '하였다', '자마자', '같은', '그러니까', '사람', '으로서', '하자', '얼마', '되는', '따지지', '보면', '양자', '몰라도', '어디', '만이', '같다면', '그러니', '얼마나', '아니라면', '일단', '대로', '달려', '까악', '어때', '의해', '아니다', '비길수', '아무', '어느', '어떻해', '만약', '쓰여', '낫다', '이어서', '하지마', '조금', '될것이다', '각자', '까닭', '하든', '구체', '반대', '않고', '에서', '다를가', '거바', '이럴', '거의', '서술', '상대', '타인', '어기', '불구', '할수있어', '둥둥', '등등', '댕그', '하기보다는', '켠으로는', '라면', '결과', '않도록', '저기', '하다', '타다', '갖고말하자면', '시간', '하는것도', '의치', '이상', '아니나', '게다가', '이르기까지', '그러나', '하기만', '해야', '다시말하면', '지경', '여전히', '이로', '결론', '따름', '하더라도', '시작', '알겠는가', '에도', '혹시', '있다', '시초', '한다', '영차', '연관', '까지', '지말고', '실로', '하느니', '무릎', '본대', '더욱더', '무렵', '진짜', '동안', '이어', '하물며', '졸졸', '하자면', '정도', '그렇지', '하지마라', '편이', '이지만', '더라도', '몰랏다', '약간', '하는것만', '방면', '시각', '만으로', '한다면', '해봐요', '이렇구나', '자신', '관계없이', '언젠가', '할줄', '공동', '경우', '라도', '그래서', '틀림없다', '끙끙', '겨우', '더군다나', '이르다', '그럼'], vect__tokenizer=<function okt at 0x7f0cb66e18c0>; total time=  12.6s\n",
            "[CV] END clf__C=0.1, clf__penalty=l2, vect__ngram_range=(1, 1), vect__stop_words=None, vect__tokenizer=<function okt at 0x7f0cb66e18c0>; total time=  12.5s\n",
            "[CV] END clf__C=0.1, clf__penalty=l2, vect__ngram_range=(1, 1), vect__stop_words=None, vect__tokenizer=<function okt at 0x7f0cb66e18c0>; total time=  12.7s\n",
            "[CV] END clf__C=0.1, clf__penalty=l2, vect__ngram_range=(1, 1), vect__stop_words=None, vect__tokenizer=<function okt at 0x7f0cb66e18c0>; total time=  12.5s\n",
            "[CV] END clf__C=0.1, clf__penalty=l2, vect__ngram_range=(1, 1), vect__stop_words=None, vect__tokenizer=<function okt at 0x7f0cb66e18c0>; total time=  13.1s\n",
            "[CV] END clf__C=0.1, clf__penalty=l2, vect__ngram_range=(1, 1), vect__stop_words=None, vect__tokenizer=<function okt at 0x7f0cb66e18c0>; total time=  12.9s\n",
            "[CV] END clf__C=1.0, clf__penalty=l1, vect__ngram_range=(1, 1), vect__stop_words=['대해', '바꿔', '어떤것', '전후', '비걱', '안된다', '하면서', '않는다면', '한적', '부류', '따라', '게우다', '기타', '어찌', '붕붕', '같다', '기대', '봐라', '응당', '하는것이', '않다면', '잠시', '그치지', '하는', '누구', '끼익', '의지', '매번', '아래', '고려', '휘익', '그렇지만', '하여금', '로부터', '리하', '아울러', '않으면', '한마디', '할것도', '일곱', '좋다', '아니', '언제', '일반', '가요', '되다', '이용', '으로', '이천육', '미치다', '년도', '마음대로', '없고', '이유', '만일', '하여야', '하도록', '심지어', '오호', '어째서', '하고있었다', '그래', '하지만', '그렇게', '기점', '각종', '든지', '비로소', '마자', '바꾸어말하면', '그런데', '제각기', '혼자', '허걱', '물론', '습니다', '여섯', '할지언정', '누가', '운운', '삐걱', '얼마간', '좍좍', '와아', '이러한', '제외', '주룩주룩', '인가요', '마치', '으로써', '어쨋', '마저도', '더구나', '즉시', '에야', '버금', '이다', '이외', '인하여', '하나요', '인젠', '더불어', '전부', '시키다', '남짓', '다수', '만하', '알다', '하마터면', '하여', '하도다', '대하', '당장', '꽈당', '오로지', '헉헉', '나머지', '전자', '생각', '해서는', '즈음', '아이쿠', '에게', '하기에', '무슨', '다음', '그런', '우선', '펄렁', '좋아', '소생', '항목', '당신', '되나요', '지든지', '비추어', '없다', '밖에', '구토', '왜냐하면', '그럼에도', '기준', '들자면', '과연', '다른', '막론', '바꾸어말하자면', '만은', '각하', '설마', '어떻', '혹은', '오직', '저쪽', '이천구', '보는데서', '이천칠', '않다', '많은', '너희', '다시', '이러하다', '와르르', '입어', '우리', '각각', '종합', '어쩔', '잇따라', '하게', '궁금합니다', '할수록', '만큼', '나요', '하기', '이래', '아하', '틈타', '비록', '이었다', '따르는', '아이고', '오르다', '가서', '요컨대', '알았어', '하지', '어떤', '어이', '있나요', '바꾸어서', '더욱이', '저희', '다소', '로써', '않기', '일것이다', '한데', '때문', '콸콸', '이천팔', '와같이', '따라서', '아니라', '할수있다', '되면', '관련', '마저', '아이구', '같이', '여덟', '여보', '보아', '아이야', '보다', '단지', '하게하다', '하하', '가까스로', '쓰고', '놀라다', '아니면', '불문', '소인', '된다', '들면', '함께', '조차도', '여기', '거니와', '그러면', '자기', '비슷하다', '하려고하다', '우르르', '모른다', '한하다', '아이', '그때', '하고', '가령', '도달', '얼마만큼', '그러므로', '헐떡헐떡', '훨씬', '이서', '도착', '하겠는가', '어찌하여', '반드시', '그저', '하구나', '허허', '일지', '무엇', '잠깐', '아홉', '하나', '또한', '이런', '다섯', '아야', '보드득', '설령', '따위', '딩동', '거리', '그리하여', '탕탕', '다만', '요만', '참나', '의해서', '그리고', '지만', '윙윙', '아니었다면', '번째', '시오', '그래도', '예컨대', '어떻게', '할지라도', '모두', '하기는한데', '했어요', '겸사겸사', '비교', '관계', '습니까', '뒤따라', '조차', '오히려', '흐흐', '여부', '형식', '이렇게', '여러분', '되어', '결국', '주저', '해도', '의거', '고로', '엉엉', '설사', '망정', '그러한', '이번', '안다', '하면', '뚝뚝', '입장', '해서', '이러', '두번째', '부터', '쾅쾅', '어떠한', '위해', '까지도', '근거', '바로', '거나', '동시', '차라리', '하였다', '자마자', '같은', '그러니까', '사람', '으로서', '하자', '얼마', '되는', '따지지', '보면', '양자', '몰라도', '어디', '만이', '같다면', '그러니', '얼마나', '아니라면', '일단', '대로', '달려', '까악', '어때', '의해', '아니다', '비길수', '아무', '어느', '어떻해', '만약', '쓰여', '낫다', '이어서', '하지마', '조금', '될것이다', '각자', '까닭', '하든', '구체', '반대', '않고', '에서', '다를가', '거바', '이럴', '거의', '서술', '상대', '타인', '어기', '불구', '할수있어', '둥둥', '등등', '댕그', '하기보다는', '켠으로는', '라면', '결과', '않도록', '저기', '하다', '타다', '갖고말하자면', '시간', '하는것도', '의치', '이상', '아니나', '게다가', '이르기까지', '그러나', '하기만', '해야', '다시말하면', '지경', '여전히', '이로', '결론', '따름', '하더라도', '시작', '알겠는가', '에도', '혹시', '있다', '시초', '한다', '영차', '연관', '까지', '지말고', '실로', '하느니', '무릎', '본대', '더욱더', '무렵', '진짜', '동안', '이어', '하물며', '졸졸', '하자면', '정도', '그렇지', '하지마라', '편이', '이지만', '더라도', '몰랏다', '약간', '하는것만', '방면', '시각', '만으로', '한다면', '해봐요', '이렇구나', '자신', '관계없이', '언젠가', '할줄', '공동', '경우', '라도', '그래서', '틀림없다', '끙끙', '겨우', '더군다나', '이르다', '그럼'], vect__tokenizer=<function okt at 0x7f0cb66e18c0>; total time=  12.8s\n",
            "[CV] END clf__C=1.0, clf__penalty=l1, vect__ngram_range=(1, 1), vect__stop_words=['대해', '바꿔', '어떤것', '전후', '비걱', '안된다', '하면서', '않는다면', '한적', '부류', '따라', '게우다', '기타', '어찌', '붕붕', '같다', '기대', '봐라', '응당', '하는것이', '않다면', '잠시', '그치지', '하는', '누구', '끼익', '의지', '매번', '아래', '고려', '휘익', '그렇지만', '하여금', '로부터', '리하', '아울러', '않으면', '한마디', '할것도', '일곱', '좋다', '아니', '언제', '일반', '가요', '되다', '이용', '으로', '이천육', '미치다', '년도', '마음대로', '없고', '이유', '만일', '하여야', '하도록', '심지어', '오호', '어째서', '하고있었다', '그래', '하지만', '그렇게', '기점', '각종', '든지', '비로소', '마자', '바꾸어말하면', '그런데', '제각기', '혼자', '허걱', '물론', '습니다', '여섯', '할지언정', '누가', '운운', '삐걱', '얼마간', '좍좍', '와아', '이러한', '제외', '주룩주룩', '인가요', '마치', '으로써', '어쨋', '마저도', '더구나', '즉시', '에야', '버금', '이다', '이외', '인하여', '하나요', '인젠', '더불어', '전부', '시키다', '남짓', '다수', '만하', '알다', '하마터면', '하여', '하도다', '대하', '당장', '꽈당', '오로지', '헉헉', '나머지', '전자', '생각', '해서는', '즈음', '아이쿠', '에게', '하기에', '무슨', '다음', '그런', '우선', '펄렁', '좋아', '소생', '항목', '당신', '되나요', '지든지', '비추어', '없다', '밖에', '구토', '왜냐하면', '그럼에도', '기준', '들자면', '과연', '다른', '막론', '바꾸어말하자면', '만은', '각하', '설마', '어떻', '혹은', '오직', '저쪽', '이천구', '보는데서', '이천칠', '않다', '많은', '너희', '다시', '이러하다', '와르르', '입어', '우리', '각각', '종합', '어쩔', '잇따라', '하게', '궁금합니다', '할수록', '만큼', '나요', '하기', '이래', '아하', '틈타', '비록', '이었다', '따르는', '아이고', '오르다', '가서', '요컨대', '알았어', '하지', '어떤', '어이', '있나요', '바꾸어서', '더욱이', '저희', '다소', '로써', '않기', '일것이다', '한데', '때문', '콸콸', '이천팔', '와같이', '따라서', '아니라', '할수있다', '되면', '관련', '마저', '아이구', '같이', '여덟', '여보', '보아', '아이야', '보다', '단지', '하게하다', '하하', '가까스로', '쓰고', '놀라다', '아니면', '불문', '소인', '된다', '들면', '함께', '조차도', '여기', '거니와', '그러면', '자기', '비슷하다', '하려고하다', '우르르', '모른다', '한하다', '아이', '그때', '하고', '가령', '도달', '얼마만큼', '그러므로', '헐떡헐떡', '훨씬', '이서', '도착', '하겠는가', '어찌하여', '반드시', '그저', '하구나', '허허', '일지', '무엇', '잠깐', '아홉', '하나', '또한', '이런', '다섯', '아야', '보드득', '설령', '따위', '딩동', '거리', '그리하여', '탕탕', '다만', '요만', '참나', '의해서', '그리고', '지만', '윙윙', '아니었다면', '번째', '시오', '그래도', '예컨대', '어떻게', '할지라도', '모두', '하기는한데', '했어요', '겸사겸사', '비교', '관계', '습니까', '뒤따라', '조차', '오히려', '흐흐', '여부', '형식', '이렇게', '여러분', '되어', '결국', '주저', '해도', '의거', '고로', '엉엉', '설사', '망정', '그러한', '이번', '안다', '하면', '뚝뚝', '입장', '해서', '이러', '두번째', '부터', '쾅쾅', '어떠한', '위해', '까지도', '근거', '바로', '거나', '동시', '차라리', '하였다', '자마자', '같은', '그러니까', '사람', '으로서', '하자', '얼마', '되는', '따지지', '보면', '양자', '몰라도', '어디', '만이', '같다면', '그러니', '얼마나', '아니라면', '일단', '대로', '달려', '까악', '어때', '의해', '아니다', '비길수', '아무', '어느', '어떻해', '만약', '쓰여', '낫다', '이어서', '하지마', '조금', '될것이다', '각자', '까닭', '하든', '구체', '반대', '않고', '에서', '다를가', '거바', '이럴', '거의', '서술', '상대', '타인', '어기', '불구', '할수있어', '둥둥', '등등', '댕그', '하기보다는', '켠으로는', '라면', '결과', '않도록', '저기', '하다', '타다', '갖고말하자면', '시간', '하는것도', '의치', '이상', '아니나', '게다가', '이르기까지', '그러나', '하기만', '해야', '다시말하면', '지경', '여전히', '이로', '결론', '따름', '하더라도', '시작', '알겠는가', '에도', '혹시', '있다', '시초', '한다', '영차', '연관', '까지', '지말고', '실로', '하느니', '무릎', '본대', '더욱더', '무렵', '진짜', '동안', '이어', '하물며', '졸졸', '하자면', '정도', '그렇지', '하지마라', '편이', '이지만', '더라도', '몰랏다', '약간', '하는것만', '방면', '시각', '만으로', '한다면', '해봐요', '이렇구나', '자신', '관계없이', '언젠가', '할줄', '공동', '경우', '라도', '그래서', '틀림없다', '끙끙', '겨우', '더군다나', '이르다', '그럼'], vect__tokenizer=<function okt at 0x7f0cb66e18c0>; total time=  12.7s\n",
            "[CV] END clf__C=1.0, clf__penalty=l1, vect__ngram_range=(1, 1), vect__stop_words=['대해', '바꿔', '어떤것', '전후', '비걱', '안된다', '하면서', '않는다면', '한적', '부류', '따라', '게우다', '기타', '어찌', '붕붕', '같다', '기대', '봐라', '응당', '하는것이', '않다면', '잠시', '그치지', '하는', '누구', '끼익', '의지', '매번', '아래', '고려', '휘익', '그렇지만', '하여금', '로부터', '리하', '아울러', '않으면', '한마디', '할것도', '일곱', '좋다', '아니', '언제', '일반', '가요', '되다', '이용', '으로', '이천육', '미치다', '년도', '마음대로', '없고', '이유', '만일', '하여야', '하도록', '심지어', '오호', '어째서', '하고있었다', '그래', '하지만', '그렇게', '기점', '각종', '든지', '비로소', '마자', '바꾸어말하면', '그런데', '제각기', '혼자', '허걱', '물론', '습니다', '여섯', '할지언정', '누가', '운운', '삐걱', '얼마간', '좍좍', '와아', '이러한', '제외', '주룩주룩', '인가요', '마치', '으로써', '어쨋', '마저도', '더구나', '즉시', '에야', '버금', '이다', '이외', '인하여', '하나요', '인젠', '더불어', '전부', '시키다', '남짓', '다수', '만하', '알다', '하마터면', '하여', '하도다', '대하', '당장', '꽈당', '오로지', '헉헉', '나머지', '전자', '생각', '해서는', '즈음', '아이쿠', '에게', '하기에', '무슨', '다음', '그런', '우선', '펄렁', '좋아', '소생', '항목', '당신', '되나요', '지든지', '비추어', '없다', '밖에', '구토', '왜냐하면', '그럼에도', '기준', '들자면', '과연', '다른', '막론', '바꾸어말하자면', '만은', '각하', '설마', '어떻', '혹은', '오직', '저쪽', '이천구', '보는데서', '이천칠', '않다', '많은', '너희', '다시', '이러하다', '와르르', '입어', '우리', '각각', '종합', '어쩔', '잇따라', '하게', '궁금합니다', '할수록', '만큼', '나요', '하기', '이래', '아하', '틈타', '비록', '이었다', '따르는', '아이고', '오르다', '가서', '요컨대', '알았어', '하지', '어떤', '어이', '있나요', '바꾸어서', '더욱이', '저희', '다소', '로써', '않기', '일것이다', '한데', '때문', '콸콸', '이천팔', '와같이', '따라서', '아니라', '할수있다', '되면', '관련', '마저', '아이구', '같이', '여덟', '여보', '보아', '아이야', '보다', '단지', '하게하다', '하하', '가까스로', '쓰고', '놀라다', '아니면', '불문', '소인', '된다', '들면', '함께', '조차도', '여기', '거니와', '그러면', '자기', '비슷하다', '하려고하다', '우르르', '모른다', '한하다', '아이', '그때', '하고', '가령', '도달', '얼마만큼', '그러므로', '헐떡헐떡', '훨씬', '이서', '도착', '하겠는가', '어찌하여', '반드시', '그저', '하구나', '허허', '일지', '무엇', '잠깐', '아홉', '하나', '또한', '이런', '다섯', '아야', '보드득', '설령', '따위', '딩동', '거리', '그리하여', '탕탕', '다만', '요만', '참나', '의해서', '그리고', '지만', '윙윙', '아니었다면', '번째', '시오', '그래도', '예컨대', '어떻게', '할지라도', '모두', '하기는한데', '했어요', '겸사겸사', '비교', '관계', '습니까', '뒤따라', '조차', '오히려', '흐흐', '여부', '형식', '이렇게', '여러분', '되어', '결국', '주저', '해도', '의거', '고로', '엉엉', '설사', '망정', '그러한', '이번', '안다', '하면', '뚝뚝', '입장', '해서', '이러', '두번째', '부터', '쾅쾅', '어떠한', '위해', '까지도', '근거', '바로', '거나', '동시', '차라리', '하였다', '자마자', '같은', '그러니까', '사람', '으로서', '하자', '얼마', '되는', '따지지', '보면', '양자', '몰라도', '어디', '만이', '같다면', '그러니', '얼마나', '아니라면', '일단', '대로', '달려', '까악', '어때', '의해', '아니다', '비길수', '아무', '어느', '어떻해', '만약', '쓰여', '낫다', '이어서', '하지마', '조금', '될것이다', '각자', '까닭', '하든', '구체', '반대', '않고', '에서', '다를가', '거바', '이럴', '거의', '서술', '상대', '타인', '어기', '불구', '할수있어', '둥둥', '등등', '댕그', '하기보다는', '켠으로는', '라면', '결과', '않도록', '저기', '하다', '타다', '갖고말하자면', '시간', '하는것도', '의치', '이상', '아니나', '게다가', '이르기까지', '그러나', '하기만', '해야', '다시말하면', '지경', '여전히', '이로', '결론', '따름', '하더라도', '시작', '알겠는가', '에도', '혹시', '있다', '시초', '한다', '영차', '연관', '까지', '지말고', '실로', '하느니', '무릎', '본대', '더욱더', '무렵', '진짜', '동안', '이어', '하물며', '졸졸', '하자면', '정도', '그렇지', '하지마라', '편이', '이지만', '더라도', '몰랏다', '약간', '하는것만', '방면', '시각', '만으로', '한다면', '해봐요', '이렇구나', '자신', '관계없이', '언젠가', '할줄', '공동', '경우', '라도', '그래서', '틀림없다', '끙끙', '겨우', '더군다나', '이르다', '그럼'], vect__tokenizer=<function okt at 0x7f0cb66e18c0>; total time=  12.8s\n",
            "[CV] END clf__C=1.0, clf__penalty=l1, vect__ngram_range=(1, 1), vect__stop_words=['대해', '바꿔', '어떤것', '전후', '비걱', '안된다', '하면서', '않는다면', '한적', '부류', '따라', '게우다', '기타', '어찌', '붕붕', '같다', '기대', '봐라', '응당', '하는것이', '않다면', '잠시', '그치지', '하는', '누구', '끼익', '의지', '매번', '아래', '고려', '휘익', '그렇지만', '하여금', '로부터', '리하', '아울러', '않으면', '한마디', '할것도', '일곱', '좋다', '아니', '언제', '일반', '가요', '되다', '이용', '으로', '이천육', '미치다', '년도', '마음대로', '없고', '이유', '만일', '하여야', '하도록', '심지어', '오호', '어째서', '하고있었다', '그래', '하지만', '그렇게', '기점', '각종', '든지', '비로소', '마자', '바꾸어말하면', '그런데', '제각기', '혼자', '허걱', '물론', '습니다', '여섯', '할지언정', '누가', '운운', '삐걱', '얼마간', '좍좍', '와아', '이러한', '제외', '주룩주룩', '인가요', '마치', '으로써', '어쨋', '마저도', '더구나', '즉시', '에야', '버금', '이다', '이외', '인하여', '하나요', '인젠', '더불어', '전부', '시키다', '남짓', '다수', '만하', '알다', '하마터면', '하여', '하도다', '대하', '당장', '꽈당', '오로지', '헉헉', '나머지', '전자', '생각', '해서는', '즈음', '아이쿠', '에게', '하기에', '무슨', '다음', '그런', '우선', '펄렁', '좋아', '소생', '항목', '당신', '되나요', '지든지', '비추어', '없다', '밖에', '구토', '왜냐하면', '그럼에도', '기준', '들자면', '과연', '다른', '막론', '바꾸어말하자면', '만은', '각하', '설마', '어떻', '혹은', '오직', '저쪽', '이천구', '보는데서', '이천칠', '않다', '많은', '너희', '다시', '이러하다', '와르르', '입어', '우리', '각각', '종합', '어쩔', '잇따라', '하게', '궁금합니다', '할수록', '만큼', '나요', '하기', '이래', '아하', '틈타', '비록', '이었다', '따르는', '아이고', '오르다', '가서', '요컨대', '알았어', '하지', '어떤', '어이', '있나요', '바꾸어서', '더욱이', '저희', '다소', '로써', '않기', '일것이다', '한데', '때문', '콸콸', '이천팔', '와같이', '따라서', '아니라', '할수있다', '되면', '관련', '마저', '아이구', '같이', '여덟', '여보', '보아', '아이야', '보다', '단지', '하게하다', '하하', '가까스로', '쓰고', '놀라다', '아니면', '불문', '소인', '된다', '들면', '함께', '조차도', '여기', '거니와', '그러면', '자기', '비슷하다', '하려고하다', '우르르', '모른다', '한하다', '아이', '그때', '하고', '가령', '도달', '얼마만큼', '그러므로', '헐떡헐떡', '훨씬', '이서', '도착', '하겠는가', '어찌하여', '반드시', '그저', '하구나', '허허', '일지', '무엇', '잠깐', '아홉', '하나', '또한', '이런', '다섯', '아야', '보드득', '설령', '따위', '딩동', '거리', '그리하여', '탕탕', '다만', '요만', '참나', '의해서', '그리고', '지만', '윙윙', '아니었다면', '번째', '시오', '그래도', '예컨대', '어떻게', '할지라도', '모두', '하기는한데', '했어요', '겸사겸사', '비교', '관계', '습니까', '뒤따라', '조차', '오히려', '흐흐', '여부', '형식', '이렇게', '여러분', '되어', '결국', '주저', '해도', '의거', '고로', '엉엉', '설사', '망정', '그러한', '이번', '안다', '하면', '뚝뚝', '입장', '해서', '이러', '두번째', '부터', '쾅쾅', '어떠한', '위해', '까지도', '근거', '바로', '거나', '동시', '차라리', '하였다', '자마자', '같은', '그러니까', '사람', '으로서', '하자', '얼마', '되는', '따지지', '보면', '양자', '몰라도', '어디', '만이', '같다면', '그러니', '얼마나', '아니라면', '일단', '대로', '달려', '까악', '어때', '의해', '아니다', '비길수', '아무', '어느', '어떻해', '만약', '쓰여', '낫다', '이어서', '하지마', '조금', '될것이다', '각자', '까닭', '하든', '구체', '반대', '않고', '에서', '다를가', '거바', '이럴', '거의', '서술', '상대', '타인', '어기', '불구', '할수있어', '둥둥', '등등', '댕그', '하기보다는', '켠으로는', '라면', '결과', '않도록', '저기', '하다', '타다', '갖고말하자면', '시간', '하는것도', '의치', '이상', '아니나', '게다가', '이르기까지', '그러나', '하기만', '해야', '다시말하면', '지경', '여전히', '이로', '결론', '따름', '하더라도', '시작', '알겠는가', '에도', '혹시', '있다', '시초', '한다', '영차', '연관', '까지', '지말고', '실로', '하느니', '무릎', '본대', '더욱더', '무렵', '진짜', '동안', '이어', '하물며', '졸졸', '하자면', '정도', '그렇지', '하지마라', '편이', '이지만', '더라도', '몰랏다', '약간', '하는것만', '방면', '시각', '만으로', '한다면', '해봐요', '이렇구나', '자신', '관계없이', '언젠가', '할줄', '공동', '경우', '라도', '그래서', '틀림없다', '끙끙', '겨우', '더군다나', '이르다', '그럼'], vect__tokenizer=<function okt at 0x7f0cb66e18c0>; total time=  12.7s\n",
            "[CV] END clf__C=1.0, clf__penalty=l1, vect__ngram_range=(1, 1), vect__stop_words=['대해', '바꿔', '어떤것', '전후', '비걱', '안된다', '하면서', '않는다면', '한적', '부류', '따라', '게우다', '기타', '어찌', '붕붕', '같다', '기대', '봐라', '응당', '하는것이', '않다면', '잠시', '그치지', '하는', '누구', '끼익', '의지', '매번', '아래', '고려', '휘익', '그렇지만', '하여금', '로부터', '리하', '아울러', '않으면', '한마디', '할것도', '일곱', '좋다', '아니', '언제', '일반', '가요', '되다', '이용', '으로', '이천육', '미치다', '년도', '마음대로', '없고', '이유', '만일', '하여야', '하도록', '심지어', '오호', '어째서', '하고있었다', '그래', '하지만', '그렇게', '기점', '각종', '든지', '비로소', '마자', '바꾸어말하면', '그런데', '제각기', '혼자', '허걱', '물론', '습니다', '여섯', '할지언정', '누가', '운운', '삐걱', '얼마간', '좍좍', '와아', '이러한', '제외', '주룩주룩', '인가요', '마치', '으로써', '어쨋', '마저도', '더구나', '즉시', '에야', '버금', '이다', '이외', '인하여', '하나요', '인젠', '더불어', '전부', '시키다', '남짓', '다수', '만하', '알다', '하마터면', '하여', '하도다', '대하', '당장', '꽈당', '오로지', '헉헉', '나머지', '전자', '생각', '해서는', '즈음', '아이쿠', '에게', '하기에', '무슨', '다음', '그런', '우선', '펄렁', '좋아', '소생', '항목', '당신', '되나요', '지든지', '비추어', '없다', '밖에', '구토', '왜냐하면', '그럼에도', '기준', '들자면', '과연', '다른', '막론', '바꾸어말하자면', '만은', '각하', '설마', '어떻', '혹은', '오직', '저쪽', '이천구', '보는데서', '이천칠', '않다', '많은', '너희', '다시', '이러하다', '와르르', '입어', '우리', '각각', '종합', '어쩔', '잇따라', '하게', '궁금합니다', '할수록', '만큼', '나요', '하기', '이래', '아하', '틈타', '비록', '이었다', '따르는', '아이고', '오르다', '가서', '요컨대', '알았어', '하지', '어떤', '어이', '있나요', '바꾸어서', '더욱이', '저희', '다소', '로써', '않기', '일것이다', '한데', '때문', '콸콸', '이천팔', '와같이', '따라서', '아니라', '할수있다', '되면', '관련', '마저', '아이구', '같이', '여덟', '여보', '보아', '아이야', '보다', '단지', '하게하다', '하하', '가까스로', '쓰고', '놀라다', '아니면', '불문', '소인', '된다', '들면', '함께', '조차도', '여기', '거니와', '그러면', '자기', '비슷하다', '하려고하다', '우르르', '모른다', '한하다', '아이', '그때', '하고', '가령', '도달', '얼마만큼', '그러므로', '헐떡헐떡', '훨씬', '이서', '도착', '하겠는가', '어찌하여', '반드시', '그저', '하구나', '허허', '일지', '무엇', '잠깐', '아홉', '하나', '또한', '이런', '다섯', '아야', '보드득', '설령', '따위', '딩동', '거리', '그리하여', '탕탕', '다만', '요만', '참나', '의해서', '그리고', '지만', '윙윙', '아니었다면', '번째', '시오', '그래도', '예컨대', '어떻게', '할지라도', '모두', '하기는한데', '했어요', '겸사겸사', '비교', '관계', '습니까', '뒤따라', '조차', '오히려', '흐흐', '여부', '형식', '이렇게', '여러분', '되어', '결국', '주저', '해도', '의거', '고로', '엉엉', '설사', '망정', '그러한', '이번', '안다', '하면', '뚝뚝', '입장', '해서', '이러', '두번째', '부터', '쾅쾅', '어떠한', '위해', '까지도', '근거', '바로', '거나', '동시', '차라리', '하였다', '자마자', '같은', '그러니까', '사람', '으로서', '하자', '얼마', '되는', '따지지', '보면', '양자', '몰라도', '어디', '만이', '같다면', '그러니', '얼마나', '아니라면', '일단', '대로', '달려', '까악', '어때', '의해', '아니다', '비길수', '아무', '어느', '어떻해', '만약', '쓰여', '낫다', '이어서', '하지마', '조금', '될것이다', '각자', '까닭', '하든', '구체', '반대', '않고', '에서', '다를가', '거바', '이럴', '거의', '서술', '상대', '타인', '어기', '불구', '할수있어', '둥둥', '등등', '댕그', '하기보다는', '켠으로는', '라면', '결과', '않도록', '저기', '하다', '타다', '갖고말하자면', '시간', '하는것도', '의치', '이상', '아니나', '게다가', '이르기까지', '그러나', '하기만', '해야', '다시말하면', '지경', '여전히', '이로', '결론', '따름', '하더라도', '시작', '알겠는가', '에도', '혹시', '있다', '시초', '한다', '영차', '연관', '까지', '지말고', '실로', '하느니', '무릎', '본대', '더욱더', '무렵', '진짜', '동안', '이어', '하물며', '졸졸', '하자면', '정도', '그렇지', '하지마라', '편이', '이지만', '더라도', '몰랏다', '약간', '하는것만', '방면', '시각', '만으로', '한다면', '해봐요', '이렇구나', '자신', '관계없이', '언젠가', '할줄', '공동', '경우', '라도', '그래서', '틀림없다', '끙끙', '겨우', '더군다나', '이르다', '그럼'], vect__tokenizer=<function okt at 0x7f0cb66e18c0>; total time=  13.0s\n",
            "[CV] END clf__C=1.0, clf__penalty=l1, vect__ngram_range=(1, 1), vect__stop_words=None, vect__tokenizer=<function okt at 0x7f0cb66e18c0>; total time=  13.1s\n",
            "[CV] END clf__C=1.0, clf__penalty=l1, vect__ngram_range=(1, 1), vect__stop_words=None, vect__tokenizer=<function okt at 0x7f0cb66e18c0>; total time=  12.7s\n",
            "[CV] END clf__C=1.0, clf__penalty=l1, vect__ngram_range=(1, 1), vect__stop_words=None, vect__tokenizer=<function okt at 0x7f0cb66e18c0>; total time=  13.0s\n",
            "[CV] END clf__C=1.0, clf__penalty=l1, vect__ngram_range=(1, 1), vect__stop_words=None, vect__tokenizer=<function okt at 0x7f0cb66e18c0>; total time=  12.9s\n",
            "[CV] END clf__C=1.0, clf__penalty=l1, vect__ngram_range=(1, 1), vect__stop_words=None, vect__tokenizer=<function okt at 0x7f0cb66e18c0>; total time=  12.5s\n",
            "[CV] END clf__C=1.0, clf__penalty=l2, vect__ngram_range=(1, 1), vect__stop_words=['대해', '바꿔', '어떤것', '전후', '비걱', '안된다', '하면서', '않는다면', '한적', '부류', '따라', '게우다', '기타', '어찌', '붕붕', '같다', '기대', '봐라', '응당', '하는것이', '않다면', '잠시', '그치지', '하는', '누구', '끼익', '의지', '매번', '아래', '고려', '휘익', '그렇지만', '하여금', '로부터', '리하', '아울러', '않으면', '한마디', '할것도', '일곱', '좋다', '아니', '언제', '일반', '가요', '되다', '이용', '으로', '이천육', '미치다', '년도', '마음대로', '없고', '이유', '만일', '하여야', '하도록', '심지어', '오호', '어째서', '하고있었다', '그래', '하지만', '그렇게', '기점', '각종', '든지', '비로소', '마자', '바꾸어말하면', '그런데', '제각기', '혼자', '허걱', '물론', '습니다', '여섯', '할지언정', '누가', '운운', '삐걱', '얼마간', '좍좍', '와아', '이러한', '제외', '주룩주룩', '인가요', '마치', '으로써', '어쨋', '마저도', '더구나', '즉시', '에야', '버금', '이다', '이외', '인하여', '하나요', '인젠', '더불어', '전부', '시키다', '남짓', '다수', '만하', '알다', '하마터면', '하여', '하도다', '대하', '당장', '꽈당', '오로지', '헉헉', '나머지', '전자', '생각', '해서는', '즈음', '아이쿠', '에게', '하기에', '무슨', '다음', '그런', '우선', '펄렁', '좋아', '소생', '항목', '당신', '되나요', '지든지', '비추어', '없다', '밖에', '구토', '왜냐하면', '그럼에도', '기준', '들자면', '과연', '다른', '막론', '바꾸어말하자면', '만은', '각하', '설마', '어떻', '혹은', '오직', '저쪽', '이천구', '보는데서', '이천칠', '않다', '많은', '너희', '다시', '이러하다', '와르르', '입어', '우리', '각각', '종합', '어쩔', '잇따라', '하게', '궁금합니다', '할수록', '만큼', '나요', '하기', '이래', '아하', '틈타', '비록', '이었다', '따르는', '아이고', '오르다', '가서', '요컨대', '알았어', '하지', '어떤', '어이', '있나요', '바꾸어서', '더욱이', '저희', '다소', '로써', '않기', '일것이다', '한데', '때문', '콸콸', '이천팔', '와같이', '따라서', '아니라', '할수있다', '되면', '관련', '마저', '아이구', '같이', '여덟', '여보', '보아', '아이야', '보다', '단지', '하게하다', '하하', '가까스로', '쓰고', '놀라다', '아니면', '불문', '소인', '된다', '들면', '함께', '조차도', '여기', '거니와', '그러면', '자기', '비슷하다', '하려고하다', '우르르', '모른다', '한하다', '아이', '그때', '하고', '가령', '도달', '얼마만큼', '그러므로', '헐떡헐떡', '훨씬', '이서', '도착', '하겠는가', '어찌하여', '반드시', '그저', '하구나', '허허', '일지', '무엇', '잠깐', '아홉', '하나', '또한', '이런', '다섯', '아야', '보드득', '설령', '따위', '딩동', '거리', '그리하여', '탕탕', '다만', '요만', '참나', '의해서', '그리고', '지만', '윙윙', '아니었다면', '번째', '시오', '그래도', '예컨대', '어떻게', '할지라도', '모두', '하기는한데', '했어요', '겸사겸사', '비교', '관계', '습니까', '뒤따라', '조차', '오히려', '흐흐', '여부', '형식', '이렇게', '여러분', '되어', '결국', '주저', '해도', '의거', '고로', '엉엉', '설사', '망정', '그러한', '이번', '안다', '하면', '뚝뚝', '입장', '해서', '이러', '두번째', '부터', '쾅쾅', '어떠한', '위해', '까지도', '근거', '바로', '거나', '동시', '차라리', '하였다', '자마자', '같은', '그러니까', '사람', '으로서', '하자', '얼마', '되는', '따지지', '보면', '양자', '몰라도', '어디', '만이', '같다면', '그러니', '얼마나', '아니라면', '일단', '대로', '달려', '까악', '어때', '의해', '아니다', '비길수', '아무', '어느', '어떻해', '만약', '쓰여', '낫다', '이어서', '하지마', '조금', '될것이다', '각자', '까닭', '하든', '구체', '반대', '않고', '에서', '다를가', '거바', '이럴', '거의', '서술', '상대', '타인', '어기', '불구', '할수있어', '둥둥', '등등', '댕그', '하기보다는', '켠으로는', '라면', '결과', '않도록', '저기', '하다', '타다', '갖고말하자면', '시간', '하는것도', '의치', '이상', '아니나', '게다가', '이르기까지', '그러나', '하기만', '해야', '다시말하면', '지경', '여전히', '이로', '결론', '따름', '하더라도', '시작', '알겠는가', '에도', '혹시', '있다', '시초', '한다', '영차', '연관', '까지', '지말고', '실로', '하느니', '무릎', '본대', '더욱더', '무렵', '진짜', '동안', '이어', '하물며', '졸졸', '하자면', '정도', '그렇지', '하지마라', '편이', '이지만', '더라도', '몰랏다', '약간', '하는것만', '방면', '시각', '만으로', '한다면', '해봐요', '이렇구나', '자신', '관계없이', '언젠가', '할줄', '공동', '경우', '라도', '그래서', '틀림없다', '끙끙', '겨우', '더군다나', '이르다', '그럼'], vect__tokenizer=<function okt at 0x7f0cb66e18c0>; total time=  12.7s\n",
            "[CV] END clf__C=1.0, clf__penalty=l2, vect__ngram_range=(1, 1), vect__stop_words=['대해', '바꿔', '어떤것', '전후', '비걱', '안된다', '하면서', '않는다면', '한적', '부류', '따라', '게우다', '기타', '어찌', '붕붕', '같다', '기대', '봐라', '응당', '하는것이', '않다면', '잠시', '그치지', '하는', '누구', '끼익', '의지', '매번', '아래', '고려', '휘익', '그렇지만', '하여금', '로부터', '리하', '아울러', '않으면', '한마디', '할것도', '일곱', '좋다', '아니', '언제', '일반', '가요', '되다', '이용', '으로', '이천육', '미치다', '년도', '마음대로', '없고', '이유', '만일', '하여야', '하도록', '심지어', '오호', '어째서', '하고있었다', '그래', '하지만', '그렇게', '기점', '각종', '든지', '비로소', '마자', '바꾸어말하면', '그런데', '제각기', '혼자', '허걱', '물론', '습니다', '여섯', '할지언정', '누가', '운운', '삐걱', '얼마간', '좍좍', '와아', '이러한', '제외', '주룩주룩', '인가요', '마치', '으로써', '어쨋', '마저도', '더구나', '즉시', '에야', '버금', '이다', '이외', '인하여', '하나요', '인젠', '더불어', '전부', '시키다', '남짓', '다수', '만하', '알다', '하마터면', '하여', '하도다', '대하', '당장', '꽈당', '오로지', '헉헉', '나머지', '전자', '생각', '해서는', '즈음', '아이쿠', '에게', '하기에', '무슨', '다음', '그런', '우선', '펄렁', '좋아', '소생', '항목', '당신', '되나요', '지든지', '비추어', '없다', '밖에', '구토', '왜냐하면', '그럼에도', '기준', '들자면', '과연', '다른', '막론', '바꾸어말하자면', '만은', '각하', '설마', '어떻', '혹은', '오직', '저쪽', '이천구', '보는데서', '이천칠', '않다', '많은', '너희', '다시', '이러하다', '와르르', '입어', '우리', '각각', '종합', '어쩔', '잇따라', '하게', '궁금합니다', '할수록', '만큼', '나요', '하기', '이래', '아하', '틈타', '비록', '이었다', '따르는', '아이고', '오르다', '가서', '요컨대', '알았어', '하지', '어떤', '어이', '있나요', '바꾸어서', '더욱이', '저희', '다소', '로써', '않기', '일것이다', '한데', '때문', '콸콸', '이천팔', '와같이', '따라서', '아니라', '할수있다', '되면', '관련', '마저', '아이구', '같이', '여덟', '여보', '보아', '아이야', '보다', '단지', '하게하다', '하하', '가까스로', '쓰고', '놀라다', '아니면', '불문', '소인', '된다', '들면', '함께', '조차도', '여기', '거니와', '그러면', '자기', '비슷하다', '하려고하다', '우르르', '모른다', '한하다', '아이', '그때', '하고', '가령', '도달', '얼마만큼', '그러므로', '헐떡헐떡', '훨씬', '이서', '도착', '하겠는가', '어찌하여', '반드시', '그저', '하구나', '허허', '일지', '무엇', '잠깐', '아홉', '하나', '또한', '이런', '다섯', '아야', '보드득', '설령', '따위', '딩동', '거리', '그리하여', '탕탕', '다만', '요만', '참나', '의해서', '그리고', '지만', '윙윙', '아니었다면', '번째', '시오', '그래도', '예컨대', '어떻게', '할지라도', '모두', '하기는한데', '했어요', '겸사겸사', '비교', '관계', '습니까', '뒤따라', '조차', '오히려', '흐흐', '여부', '형식', '이렇게', '여러분', '되어', '결국', '주저', '해도', '의거', '고로', '엉엉', '설사', '망정', '그러한', '이번', '안다', '하면', '뚝뚝', '입장', '해서', '이러', '두번째', '부터', '쾅쾅', '어떠한', '위해', '까지도', '근거', '바로', '거나', '동시', '차라리', '하였다', '자마자', '같은', '그러니까', '사람', '으로서', '하자', '얼마', '되는', '따지지', '보면', '양자', '몰라도', '어디', '만이', '같다면', '그러니', '얼마나', '아니라면', '일단', '대로', '달려', '까악', '어때', '의해', '아니다', '비길수', '아무', '어느', '어떻해', '만약', '쓰여', '낫다', '이어서', '하지마', '조금', '될것이다', '각자', '까닭', '하든', '구체', '반대', '않고', '에서', '다를가', '거바', '이럴', '거의', '서술', '상대', '타인', '어기', '불구', '할수있어', '둥둥', '등등', '댕그', '하기보다는', '켠으로는', '라면', '결과', '않도록', '저기', '하다', '타다', '갖고말하자면', '시간', '하는것도', '의치', '이상', '아니나', '게다가', '이르기까지', '그러나', '하기만', '해야', '다시말하면', '지경', '여전히', '이로', '결론', '따름', '하더라도', '시작', '알겠는가', '에도', '혹시', '있다', '시초', '한다', '영차', '연관', '까지', '지말고', '실로', '하느니', '무릎', '본대', '더욱더', '무렵', '진짜', '동안', '이어', '하물며', '졸졸', '하자면', '정도', '그렇지', '하지마라', '편이', '이지만', '더라도', '몰랏다', '약간', '하는것만', '방면', '시각', '만으로', '한다면', '해봐요', '이렇구나', '자신', '관계없이', '언젠가', '할줄', '공동', '경우', '라도', '그래서', '틀림없다', '끙끙', '겨우', '더군다나', '이르다', '그럼'], vect__tokenizer=<function okt at 0x7f0cb66e18c0>; total time=  12.8s\n",
            "[CV] END clf__C=1.0, clf__penalty=l2, vect__ngram_range=(1, 1), vect__stop_words=['대해', '바꿔', '어떤것', '전후', '비걱', '안된다', '하면서', '않는다면', '한적', '부류', '따라', '게우다', '기타', '어찌', '붕붕', '같다', '기대', '봐라', '응당', '하는것이', '않다면', '잠시', '그치지', '하는', '누구', '끼익', '의지', '매번', '아래', '고려', '휘익', '그렇지만', '하여금', '로부터', '리하', '아울러', '않으면', '한마디', '할것도', '일곱', '좋다', '아니', '언제', '일반', '가요', '되다', '이용', '으로', '이천육', '미치다', '년도', '마음대로', '없고', '이유', '만일', '하여야', '하도록', '심지어', '오호', '어째서', '하고있었다', '그래', '하지만', '그렇게', '기점', '각종', '든지', '비로소', '마자', '바꾸어말하면', '그런데', '제각기', '혼자', '허걱', '물론', '습니다', '여섯', '할지언정', '누가', '운운', '삐걱', '얼마간', '좍좍', '와아', '이러한', '제외', '주룩주룩', '인가요', '마치', '으로써', '어쨋', '마저도', '더구나', '즉시', '에야', '버금', '이다', '이외', '인하여', '하나요', '인젠', '더불어', '전부', '시키다', '남짓', '다수', '만하', '알다', '하마터면', '하여', '하도다', '대하', '당장', '꽈당', '오로지', '헉헉', '나머지', '전자', '생각', '해서는', '즈음', '아이쿠', '에게', '하기에', '무슨', '다음', '그런', '우선', '펄렁', '좋아', '소생', '항목', '당신', '되나요', '지든지', '비추어', '없다', '밖에', '구토', '왜냐하면', '그럼에도', '기준', '들자면', '과연', '다른', '막론', '바꾸어말하자면', '만은', '각하', '설마', '어떻', '혹은', '오직', '저쪽', '이천구', '보는데서', '이천칠', '않다', '많은', '너희', '다시', '이러하다', '와르르', '입어', '우리', '각각', '종합', '어쩔', '잇따라', '하게', '궁금합니다', '할수록', '만큼', '나요', '하기', '이래', '아하', '틈타', '비록', '이었다', '따르는', '아이고', '오르다', '가서', '요컨대', '알았어', '하지', '어떤', '어이', '있나요', '바꾸어서', '더욱이', '저희', '다소', '로써', '않기', '일것이다', '한데', '때문', '콸콸', '이천팔', '와같이', '따라서', '아니라', '할수있다', '되면', '관련', '마저', '아이구', '같이', '여덟', '여보', '보아', '아이야', '보다', '단지', '하게하다', '하하', '가까스로', '쓰고', '놀라다', '아니면', '불문', '소인', '된다', '들면', '함께', '조차도', '여기', '거니와', '그러면', '자기', '비슷하다', '하려고하다', '우르르', '모른다', '한하다', '아이', '그때', '하고', '가령', '도달', '얼마만큼', '그러므로', '헐떡헐떡', '훨씬', '이서', '도착', '하겠는가', '어찌하여', '반드시', '그저', '하구나', '허허', '일지', '무엇', '잠깐', '아홉', '하나', '또한', '이런', '다섯', '아야', '보드득', '설령', '따위', '딩동', '거리', '그리하여', '탕탕', '다만', '요만', '참나', '의해서', '그리고', '지만', '윙윙', '아니었다면', '번째', '시오', '그래도', '예컨대', '어떻게', '할지라도', '모두', '하기는한데', '했어요', '겸사겸사', '비교', '관계', '습니까', '뒤따라', '조차', '오히려', '흐흐', '여부', '형식', '이렇게', '여러분', '되어', '결국', '주저', '해도', '의거', '고로', '엉엉', '설사', '망정', '그러한', '이번', '안다', '하면', '뚝뚝', '입장', '해서', '이러', '두번째', '부터', '쾅쾅', '어떠한', '위해', '까지도', '근거', '바로', '거나', '동시', '차라리', '하였다', '자마자', '같은', '그러니까', '사람', '으로서', '하자', '얼마', '되는', '따지지', '보면', '양자', '몰라도', '어디', '만이', '같다면', '그러니', '얼마나', '아니라면', '일단', '대로', '달려', '까악', '어때', '의해', '아니다', '비길수', '아무', '어느', '어떻해', '만약', '쓰여', '낫다', '이어서', '하지마', '조금', '될것이다', '각자', '까닭', '하든', '구체', '반대', '않고', '에서', '다를가', '거바', '이럴', '거의', '서술', '상대', '타인', '어기', '불구', '할수있어', '둥둥', '등등', '댕그', '하기보다는', '켠으로는', '라면', '결과', '않도록', '저기', '하다', '타다', '갖고말하자면', '시간', '하는것도', '의치', '이상', '아니나', '게다가', '이르기까지', '그러나', '하기만', '해야', '다시말하면', '지경', '여전히', '이로', '결론', '따름', '하더라도', '시작', '알겠는가', '에도', '혹시', '있다', '시초', '한다', '영차', '연관', '까지', '지말고', '실로', '하느니', '무릎', '본대', '더욱더', '무렵', '진짜', '동안', '이어', '하물며', '졸졸', '하자면', '정도', '그렇지', '하지마라', '편이', '이지만', '더라도', '몰랏다', '약간', '하는것만', '방면', '시각', '만으로', '한다면', '해봐요', '이렇구나', '자신', '관계없이', '언젠가', '할줄', '공동', '경우', '라도', '그래서', '틀림없다', '끙끙', '겨우', '더군다나', '이르다', '그럼'], vect__tokenizer=<function okt at 0x7f0cb66e18c0>; total time=  12.6s\n",
            "[CV] END clf__C=1.0, clf__penalty=l2, vect__ngram_range=(1, 1), vect__stop_words=['대해', '바꿔', '어떤것', '전후', '비걱', '안된다', '하면서', '않는다면', '한적', '부류', '따라', '게우다', '기타', '어찌', '붕붕', '같다', '기대', '봐라', '응당', '하는것이', '않다면', '잠시', '그치지', '하는', '누구', '끼익', '의지', '매번', '아래', '고려', '휘익', '그렇지만', '하여금', '로부터', '리하', '아울러', '않으면', '한마디', '할것도', '일곱', '좋다', '아니', '언제', '일반', '가요', '되다', '이용', '으로', '이천육', '미치다', '년도', '마음대로', '없고', '이유', '만일', '하여야', '하도록', '심지어', '오호', '어째서', '하고있었다', '그래', '하지만', '그렇게', '기점', '각종', '든지', '비로소', '마자', '바꾸어말하면', '그런데', '제각기', '혼자', '허걱', '물론', '습니다', '여섯', '할지언정', '누가', '운운', '삐걱', '얼마간', '좍좍', '와아', '이러한', '제외', '주룩주룩', '인가요', '마치', '으로써', '어쨋', '마저도', '더구나', '즉시', '에야', '버금', '이다', '이외', '인하여', '하나요', '인젠', '더불어', '전부', '시키다', '남짓', '다수', '만하', '알다', '하마터면', '하여', '하도다', '대하', '당장', '꽈당', '오로지', '헉헉', '나머지', '전자', '생각', '해서는', '즈음', '아이쿠', '에게', '하기에', '무슨', '다음', '그런', '우선', '펄렁', '좋아', '소생', '항목', '당신', '되나요', '지든지', '비추어', '없다', '밖에', '구토', '왜냐하면', '그럼에도', '기준', '들자면', '과연', '다른', '막론', '바꾸어말하자면', '만은', '각하', '설마', '어떻', '혹은', '오직', '저쪽', '이천구', '보는데서', '이천칠', '않다', '많은', '너희', '다시', '이러하다', '와르르', '입어', '우리', '각각', '종합', '어쩔', '잇따라', '하게', '궁금합니다', '할수록', '만큼', '나요', '하기', '이래', '아하', '틈타', '비록', '이었다', '따르는', '아이고', '오르다', '가서', '요컨대', '알았어', '하지', '어떤', '어이', '있나요', '바꾸어서', '더욱이', '저희', '다소', '로써', '않기', '일것이다', '한데', '때문', '콸콸', '이천팔', '와같이', '따라서', '아니라', '할수있다', '되면', '관련', '마저', '아이구', '같이', '여덟', '여보', '보아', '아이야', '보다', '단지', '하게하다', '하하', '가까스로', '쓰고', '놀라다', '아니면', '불문', '소인', '된다', '들면', '함께', '조차도', '여기', '거니와', '그러면', '자기', '비슷하다', '하려고하다', '우르르', '모른다', '한하다', '아이', '그때', '하고', '가령', '도달', '얼마만큼', '그러므로', '헐떡헐떡', '훨씬', '이서', '도착', '하겠는가', '어찌하여', '반드시', '그저', '하구나', '허허', '일지', '무엇', '잠깐', '아홉', '하나', '또한', '이런', '다섯', '아야', '보드득', '설령', '따위', '딩동', '거리', '그리하여', '탕탕', '다만', '요만', '참나', '의해서', '그리고', '지만', '윙윙', '아니었다면', '번째', '시오', '그래도', '예컨대', '어떻게', '할지라도', '모두', '하기는한데', '했어요', '겸사겸사', '비교', '관계', '습니까', '뒤따라', '조차', '오히려', '흐흐', '여부', '형식', '이렇게', '여러분', '되어', '결국', '주저', '해도', '의거', '고로', '엉엉', '설사', '망정', '그러한', '이번', '안다', '하면', '뚝뚝', '입장', '해서', '이러', '두번째', '부터', '쾅쾅', '어떠한', '위해', '까지도', '근거', '바로', '거나', '동시', '차라리', '하였다', '자마자', '같은', '그러니까', '사람', '으로서', '하자', '얼마', '되는', '따지지', '보면', '양자', '몰라도', '어디', '만이', '같다면', '그러니', '얼마나', '아니라면', '일단', '대로', '달려', '까악', '어때', '의해', '아니다', '비길수', '아무', '어느', '어떻해', '만약', '쓰여', '낫다', '이어서', '하지마', '조금', '될것이다', '각자', '까닭', '하든', '구체', '반대', '않고', '에서', '다를가', '거바', '이럴', '거의', '서술', '상대', '타인', '어기', '불구', '할수있어', '둥둥', '등등', '댕그', '하기보다는', '켠으로는', '라면', '결과', '않도록', '저기', '하다', '타다', '갖고말하자면', '시간', '하는것도', '의치', '이상', '아니나', '게다가', '이르기까지', '그러나', '하기만', '해야', '다시말하면', '지경', '여전히', '이로', '결론', '따름', '하더라도', '시작', '알겠는가', '에도', '혹시', '있다', '시초', '한다', '영차', '연관', '까지', '지말고', '실로', '하느니', '무릎', '본대', '더욱더', '무렵', '진짜', '동안', '이어', '하물며', '졸졸', '하자면', '정도', '그렇지', '하지마라', '편이', '이지만', '더라도', '몰랏다', '약간', '하는것만', '방면', '시각', '만으로', '한다면', '해봐요', '이렇구나', '자신', '관계없이', '언젠가', '할줄', '공동', '경우', '라도', '그래서', '틀림없다', '끙끙', '겨우', '더군다나', '이르다', '그럼'], vect__tokenizer=<function okt at 0x7f0cb66e18c0>; total time=  12.8s\n",
            "[CV] END clf__C=1.0, clf__penalty=l2, vect__ngram_range=(1, 1), vect__stop_words=['대해', '바꿔', '어떤것', '전후', '비걱', '안된다', '하면서', '않는다면', '한적', '부류', '따라', '게우다', '기타', '어찌', '붕붕', '같다', '기대', '봐라', '응당', '하는것이', '않다면', '잠시', '그치지', '하는', '누구', '끼익', '의지', '매번', '아래', '고려', '휘익', '그렇지만', '하여금', '로부터', '리하', '아울러', '않으면', '한마디', '할것도', '일곱', '좋다', '아니', '언제', '일반', '가요', '되다', '이용', '으로', '이천육', '미치다', '년도', '마음대로', '없고', '이유', '만일', '하여야', '하도록', '심지어', '오호', '어째서', '하고있었다', '그래', '하지만', '그렇게', '기점', '각종', '든지', '비로소', '마자', '바꾸어말하면', '그런데', '제각기', '혼자', '허걱', '물론', '습니다', '여섯', '할지언정', '누가', '운운', '삐걱', '얼마간', '좍좍', '와아', '이러한', '제외', '주룩주룩', '인가요', '마치', '으로써', '어쨋', '마저도', '더구나', '즉시', '에야', '버금', '이다', '이외', '인하여', '하나요', '인젠', '더불어', '전부', '시키다', '남짓', '다수', '만하', '알다', '하마터면', '하여', '하도다', '대하', '당장', '꽈당', '오로지', '헉헉', '나머지', '전자', '생각', '해서는', '즈음', '아이쿠', '에게', '하기에', '무슨', '다음', '그런', '우선', '펄렁', '좋아', '소생', '항목', '당신', '되나요', '지든지', '비추어', '없다', '밖에', '구토', '왜냐하면', '그럼에도', '기준', '들자면', '과연', '다른', '막론', '바꾸어말하자면', '만은', '각하', '설마', '어떻', '혹은', '오직', '저쪽', '이천구', '보는데서', '이천칠', '않다', '많은', '너희', '다시', '이러하다', '와르르', '입어', '우리', '각각', '종합', '어쩔', '잇따라', '하게', '궁금합니다', '할수록', '만큼', '나요', '하기', '이래', '아하', '틈타', '비록', '이었다', '따르는', '아이고', '오르다', '가서', '요컨대', '알았어', '하지', '어떤', '어이', '있나요', '바꾸어서', '더욱이', '저희', '다소', '로써', '않기', '일것이다', '한데', '때문', '콸콸', '이천팔', '와같이', '따라서', '아니라', '할수있다', '되면', '관련', '마저', '아이구', '같이', '여덟', '여보', '보아', '아이야', '보다', '단지', '하게하다', '하하', '가까스로', '쓰고', '놀라다', '아니면', '불문', '소인', '된다', '들면', '함께', '조차도', '여기', '거니와', '그러면', '자기', '비슷하다', '하려고하다', '우르르', '모른다', '한하다', '아이', '그때', '하고', '가령', '도달', '얼마만큼', '그러므로', '헐떡헐떡', '훨씬', '이서', '도착', '하겠는가', '어찌하여', '반드시', '그저', '하구나', '허허', '일지', '무엇', '잠깐', '아홉', '하나', '또한', '이런', '다섯', '아야', '보드득', '설령', '따위', '딩동', '거리', '그리하여', '탕탕', '다만', '요만', '참나', '의해서', '그리고', '지만', '윙윙', '아니었다면', '번째', '시오', '그래도', '예컨대', '어떻게', '할지라도', '모두', '하기는한데', '했어요', '겸사겸사', '비교', '관계', '습니까', '뒤따라', '조차', '오히려', '흐흐', '여부', '형식', '이렇게', '여러분', '되어', '결국', '주저', '해도', '의거', '고로', '엉엉', '설사', '망정', '그러한', '이번', '안다', '하면', '뚝뚝', '입장', '해서', '이러', '두번째', '부터', '쾅쾅', '어떠한', '위해', '까지도', '근거', '바로', '거나', '동시', '차라리', '하였다', '자마자', '같은', '그러니까', '사람', '으로서', '하자', '얼마', '되는', '따지지', '보면', '양자', '몰라도', '어디', '만이', '같다면', '그러니', '얼마나', '아니라면', '일단', '대로', '달려', '까악', '어때', '의해', '아니다', '비길수', '아무', '어느', '어떻해', '만약', '쓰여', '낫다', '이어서', '하지마', '조금', '될것이다', '각자', '까닭', '하든', '구체', '반대', '않고', '에서', '다를가', '거바', '이럴', '거의', '서술', '상대', '타인', '어기', '불구', '할수있어', '둥둥', '등등', '댕그', '하기보다는', '켠으로는', '라면', '결과', '않도록', '저기', '하다', '타다', '갖고말하자면', '시간', '하는것도', '의치', '이상', '아니나', '게다가', '이르기까지', '그러나', '하기만', '해야', '다시말하면', '지경', '여전히', '이로', '결론', '따름', '하더라도', '시작', '알겠는가', '에도', '혹시', '있다', '시초', '한다', '영차', '연관', '까지', '지말고', '실로', '하느니', '무릎', '본대', '더욱더', '무렵', '진짜', '동안', '이어', '하물며', '졸졸', '하자면', '정도', '그렇지', '하지마라', '편이', '이지만', '더라도', '몰랏다', '약간', '하는것만', '방면', '시각', '만으로', '한다면', '해봐요', '이렇구나', '자신', '관계없이', '언젠가', '할줄', '공동', '경우', '라도', '그래서', '틀림없다', '끙끙', '겨우', '더군다나', '이르다', '그럼'], vect__tokenizer=<function okt at 0x7f0cb66e18c0>; total time=  13.3s\n",
            "[CV] END clf__C=1.0, clf__penalty=l2, vect__ngram_range=(1, 1), vect__stop_words=None, vect__tokenizer=<function okt at 0x7f0cb66e18c0>; total time=  12.5s\n",
            "[CV] END clf__C=1.0, clf__penalty=l2, vect__ngram_range=(1, 1), vect__stop_words=None, vect__tokenizer=<function okt at 0x7f0cb66e18c0>; total time=  12.6s\n",
            "[CV] END clf__C=1.0, clf__penalty=l2, vect__ngram_range=(1, 1), vect__stop_words=None, vect__tokenizer=<function okt at 0x7f0cb66e18c0>; total time=  12.6s\n",
            "[CV] END clf__C=1.0, clf__penalty=l2, vect__ngram_range=(1, 1), vect__stop_words=None, vect__tokenizer=<function okt at 0x7f0cb66e18c0>; total time=  12.7s\n",
            "[CV] END clf__C=1.0, clf__penalty=l2, vect__ngram_range=(1, 1), vect__stop_words=None, vect__tokenizer=<function okt at 0x7f0cb66e18c0>; total time=  12.7s\n",
            "[CV] END clf__C=0.1, clf__penalty=l1, vect__ngram_range=(1, 1), vect__stop_words=['얼마큼', '전후', '무릎쓰', '하도', '하면서', '부류', '힘입', '기타', '어찌', '붕붕', '기대', '응당', '그렇', '잠시', '누구', '끼익', '의지', '매번', '향하', '아래', '고려', '휘익', '그렇지만', '하여금', '아울러', '한마디', '쓰이', '이리하여', '일곱', '듯하', '이곳', '어떠하', '아니', '언제', '어찌하', '가요', '이용', '위하', '년도', '마음대로', '이유', '만일', '오호', '잇따르', '심지어', '어째서', '바꾸', '하지만', '기점', '려고', '각종', '다면', '비로소', '따르', '그런데', '제각기', '혼자', '물론', '여섯', '이만큼', '궁금', '운운', '삐걱', '얼마간', '좍좍', '제외', '쓰겁', '주룩주룩', '마치', '으로써', '시키', '더구나', '구나', '즉시', '버금', '이외', '게우', '인젠', '어서', '전부', '남짓', '다수', '만하', '하마터면', '안되', '대하', '여차', '그러하', '당장', '이봐', '꽈당', '오로지', '헉헉', '나머지', '전자', '생각', '이쪽', '즈음', '아이쿠', '무슨', '다음', '그런', '우선', '이젠', '진짜로', '펄렁', '좋아', '소생', '항목', '당신', '여야', '비기', '아요', '어쩧', '오르', '구토', '왜냐하면', '니까', '기준', '이릏', '과연', '견지', '다른', '막론', '설마', '어떻', '저것', '혹은', '오직', '저쪽', '관하', '모르', '너희', '다시', '와르르', '우리', '각각', '종합', '는가', '이천', '만큼', '아물', '이래', '토하', '틈타', '비록', '요컨대', '지언', '니다', '논하', '어떤', '아서', '어이', '더욱이', '저희', '다소', '로써', '한데', '따지', '때문', '콸콸', '따라서', '관련', '마저', '아이구', '같이', '여덟', '개의', '보다', '단지', '하하', '가까스로', '불문', '총적', '소인', '함께', '여기', '거니와', '어요', '그러면', '자기', '우르르', '아이', '그때', '에돌', '가령', '도달', '헐떡헐떡', '그러므로', '훨씬', '이때', '도착', '반드시', '그저', '허허', '달리', '아도', '무엇', '중의', '잠깐', '아홉', '하나', '또한', '이런', '다섯', '아야', '그중', '보드득', '의하', '마라', '설령', '입각', '따위', '해보', '딩동', '그리하여', '탕탕', '어떻하', '다만', '요만', '그리고', '지만', '윙윙', '번째', '예컨대', '모두', '얼마든지', '그치', '겸사겸사', '관계', '못하', '오히려', '흐흐', '여부', '지라', '비교적', '미치', '형식', '여러분', '결국', '주저', '이러이러하', '의거', '적이', '고로', '엉엉', '설사', '망정', '이렇', '이번', '자기집', '하면', '뚝뚝', '입장', '쾅쾅', '근거', '바로', '동시', '차라리', '이것', '자마자', '도록', '그러니까', '사람', '으로서', '수록', '한하', '얼마', '다르', '어쨋든', '양자', '어디', '만이', '어야', '비슷', '얼마나', '일단', '대로', '까악', '뒤잇', '상대적', '어느', '만약', '그리하', '조금', '요만큼', '각자', '까닭', '반대', '에서', '거의', '서술', '타인', '어기', '불구', '둥둥', '등등', '통하', '라면', '결과', '말하', '저기', '하다', '더불', '시간', '이상', '게다가', '인하', '그러나', '지경', '여전히', '결론', '따름', '시작', '혹시', '시초', '틀림없', '영차', '연관', '실로', '삐걱거리', '본대', '더욱더', '무렵', '하기는', '동안', '하물며', '졸졸', '정도', '일반적', '이지만', '비걱거리', '비추', '약간', '방면', '시각', '뒤따르', '비하', '자신', '관계없이', '언젠가', '공동', '이러하', '경우', '라도', '그래서', '끙끙', '더군다나', '말하자면', '어도', '구체적', '그만'], vect__tokenizer=<function kkma at 0x7f0c9606acb0>; total time= 2.3min\n",
            "[CV] END clf__C=0.1, clf__penalty=l1, vect__ngram_range=(1, 1), vect__stop_words=['얼마큼', '전후', '무릎쓰', '하도', '하면서', '부류', '힘입', '기타', '어찌', '붕붕', '기대', '응당', '그렇', '잠시', '누구', '끼익', '의지', '매번', '향하', '아래', '고려', '휘익', '그렇지만', '하여금', '아울러', '한마디', '쓰이', '이리하여', '일곱', '듯하', '이곳', '어떠하', '아니', '언제', '어찌하', '가요', '이용', '위하', '년도', '마음대로', '이유', '만일', '오호', '잇따르', '심지어', '어째서', '바꾸', '하지만', '기점', '려고', '각종', '다면', '비로소', '따르', '그런데', '제각기', '혼자', '물론', '여섯', '이만큼', '궁금', '운운', '삐걱', '얼마간', '좍좍', '제외', '쓰겁', '주룩주룩', '마치', '으로써', '시키', '더구나', '구나', '즉시', '버금', '이외', '게우', '인젠', '어서', '전부', '남짓', '다수', '만하', '하마터면', '안되', '대하', '여차', '그러하', '당장', '이봐', '꽈당', '오로지', '헉헉', '나머지', '전자', '생각', '이쪽', '즈음', '아이쿠', '무슨', '다음', '그런', '우선', '이젠', '진짜로', '펄렁', '좋아', '소생', '항목', '당신', '여야', '비기', '아요', '어쩧', '오르', '구토', '왜냐하면', '니까', '기준', '이릏', '과연', '견지', '다른', '막론', '설마', '어떻', '저것', '혹은', '오직', '저쪽', '관하', '모르', '너희', '다시', '와르르', '우리', '각각', '종합', '는가', '이천', '만큼', '아물', '이래', '토하', '틈타', '비록', '요컨대', '지언', '니다', '논하', '어떤', '아서', '어이', '더욱이', '저희', '다소', '로써', '한데', '따지', '때문', '콸콸', '따라서', '관련', '마저', '아이구', '같이', '여덟', '개의', '보다', '단지', '하하', '가까스로', '불문', '총적', '소인', '함께', '여기', '거니와', '어요', '그러면', '자기', '우르르', '아이', '그때', '에돌', '가령', '도달', '헐떡헐떡', '그러므로', '훨씬', '이때', '도착', '반드시', '그저', '허허', '달리', '아도', '무엇', '중의', '잠깐', '아홉', '하나', '또한', '이런', '다섯', '아야', '그중', '보드득', '의하', '마라', '설령', '입각', '따위', '해보', '딩동', '그리하여', '탕탕', '어떻하', '다만', '요만', '그리고', '지만', '윙윙', '번째', '예컨대', '모두', '얼마든지', '그치', '겸사겸사', '관계', '못하', '오히려', '흐흐', '여부', '지라', '비교적', '미치', '형식', '여러분', '결국', '주저', '이러이러하', '의거', '적이', '고로', '엉엉', '설사', '망정', '이렇', '이번', '자기집', '하면', '뚝뚝', '입장', '쾅쾅', '근거', '바로', '동시', '차라리', '이것', '자마자', '도록', '그러니까', '사람', '으로서', '수록', '한하', '얼마', '다르', '어쨋든', '양자', '어디', '만이', '어야', '비슷', '얼마나', '일단', '대로', '까악', '뒤잇', '상대적', '어느', '만약', '그리하', '조금', '요만큼', '각자', '까닭', '반대', '에서', '거의', '서술', '타인', '어기', '불구', '둥둥', '등등', '통하', '라면', '결과', '말하', '저기', '하다', '더불', '시간', '이상', '게다가', '인하', '그러나', '지경', '여전히', '결론', '따름', '시작', '혹시', '시초', '틀림없', '영차', '연관', '실로', '삐걱거리', '본대', '더욱더', '무렵', '하기는', '동안', '하물며', '졸졸', '정도', '일반적', '이지만', '비걱거리', '비추', '약간', '방면', '시각', '뒤따르', '비하', '자신', '관계없이', '언젠가', '공동', '이러하', '경우', '라도', '그래서', '끙끙', '더군다나', '말하자면', '어도', '구체적', '그만'], vect__tokenizer=<function kkma at 0x7f0c9606acb0>; total time= 2.3min\n",
            "[CV] END clf__C=0.1, clf__penalty=l1, vect__ngram_range=(1, 1), vect__stop_words=['얼마큼', '전후', '무릎쓰', '하도', '하면서', '부류', '힘입', '기타', '어찌', '붕붕', '기대', '응당', '그렇', '잠시', '누구', '끼익', '의지', '매번', '향하', '아래', '고려', '휘익', '그렇지만', '하여금', '아울러', '한마디', '쓰이', '이리하여', '일곱', '듯하', '이곳', '어떠하', '아니', '언제', '어찌하', '가요', '이용', '위하', '년도', '마음대로', '이유', '만일', '오호', '잇따르', '심지어', '어째서', '바꾸', '하지만', '기점', '려고', '각종', '다면', '비로소', '따르', '그런데', '제각기', '혼자', '물론', '여섯', '이만큼', '궁금', '운운', '삐걱', '얼마간', '좍좍', '제외', '쓰겁', '주룩주룩', '마치', '으로써', '시키', '더구나', '구나', '즉시', '버금', '이외', '게우', '인젠', '어서', '전부', '남짓', '다수', '만하', '하마터면', '안되', '대하', '여차', '그러하', '당장', '이봐', '꽈당', '오로지', '헉헉', '나머지', '전자', '생각', '이쪽', '즈음', '아이쿠', '무슨', '다음', '그런', '우선', '이젠', '진짜로', '펄렁', '좋아', '소생', '항목', '당신', '여야', '비기', '아요', '어쩧', '오르', '구토', '왜냐하면', '니까', '기준', '이릏', '과연', '견지', '다른', '막론', '설마', '어떻', '저것', '혹은', '오직', '저쪽', '관하', '모르', '너희', '다시', '와르르', '우리', '각각', '종합', '는가', '이천', '만큼', '아물', '이래', '토하', '틈타', '비록', '요컨대', '지언', '니다', '논하', '어떤', '아서', '어이', '더욱이', '저희', '다소', '로써', '한데', '따지', '때문', '콸콸', '따라서', '관련', '마저', '아이구', '같이', '여덟', '개의', '보다', '단지', '하하', '가까스로', '불문', '총적', '소인', '함께', '여기', '거니와', '어요', '그러면', '자기', '우르르', '아이', '그때', '에돌', '가령', '도달', '헐떡헐떡', '그러므로', '훨씬', '이때', '도착', '반드시', '그저', '허허', '달리', '아도', '무엇', '중의', '잠깐', '아홉', '하나', '또한', '이런', '다섯', '아야', '그중', '보드득', '의하', '마라', '설령', '입각', '따위', '해보', '딩동', '그리하여', '탕탕', '어떻하', '다만', '요만', '그리고', '지만', '윙윙', '번째', '예컨대', '모두', '얼마든지', '그치', '겸사겸사', '관계', '못하', '오히려', '흐흐', '여부', '지라', '비교적', '미치', '형식', '여러분', '결국', '주저', '이러이러하', '의거', '적이', '고로', '엉엉', '설사', '망정', '이렇', '이번', '자기집', '하면', '뚝뚝', '입장', '쾅쾅', '근거', '바로', '동시', '차라리', '이것', '자마자', '도록', '그러니까', '사람', '으로서', '수록', '한하', '얼마', '다르', '어쨋든', '양자', '어디', '만이', '어야', '비슷', '얼마나', '일단', '대로', '까악', '뒤잇', '상대적', '어느', '만약', '그리하', '조금', '요만큼', '각자', '까닭', '반대', '에서', '거의', '서술', '타인', '어기', '불구', '둥둥', '등등', '통하', '라면', '결과', '말하', '저기', '하다', '더불', '시간', '이상', '게다가', '인하', '그러나', '지경', '여전히', '결론', '따름', '시작', '혹시', '시초', '틀림없', '영차', '연관', '실로', '삐걱거리', '본대', '더욱더', '무렵', '하기는', '동안', '하물며', '졸졸', '정도', '일반적', '이지만', '비걱거리', '비추', '약간', '방면', '시각', '뒤따르', '비하', '자신', '관계없이', '언젠가', '공동', '이러하', '경우', '라도', '그래서', '끙끙', '더군다나', '말하자면', '어도', '구체적', '그만'], vect__tokenizer=<function kkma at 0x7f0c9606acb0>; total time= 2.3min\n",
            "[CV] END clf__C=0.1, clf__penalty=l1, vect__ngram_range=(1, 1), vect__stop_words=['얼마큼', '전후', '무릎쓰', '하도', '하면서', '부류', '힘입', '기타', '어찌', '붕붕', '기대', '응당', '그렇', '잠시', '누구', '끼익', '의지', '매번', '향하', '아래', '고려', '휘익', '그렇지만', '하여금', '아울러', '한마디', '쓰이', '이리하여', '일곱', '듯하', '이곳', '어떠하', '아니', '언제', '어찌하', '가요', '이용', '위하', '년도', '마음대로', '이유', '만일', '오호', '잇따르', '심지어', '어째서', '바꾸', '하지만', '기점', '려고', '각종', '다면', '비로소', '따르', '그런데', '제각기', '혼자', '물론', '여섯', '이만큼', '궁금', '운운', '삐걱', '얼마간', '좍좍', '제외', '쓰겁', '주룩주룩', '마치', '으로써', '시키', '더구나', '구나', '즉시', '버금', '이외', '게우', '인젠', '어서', '전부', '남짓', '다수', '만하', '하마터면', '안되', '대하', '여차', '그러하', '당장', '이봐', '꽈당', '오로지', '헉헉', '나머지', '전자', '생각', '이쪽', '즈음', '아이쿠', '무슨', '다음', '그런', '우선', '이젠', '진짜로', '펄렁', '좋아', '소생', '항목', '당신', '여야', '비기', '아요', '어쩧', '오르', '구토', '왜냐하면', '니까', '기준', '이릏', '과연', '견지', '다른', '막론', '설마', '어떻', '저것', '혹은', '오직', '저쪽', '관하', '모르', '너희', '다시', '와르르', '우리', '각각', '종합', '는가', '이천', '만큼', '아물', '이래', '토하', '틈타', '비록', '요컨대', '지언', '니다', '논하', '어떤', '아서', '어이', '더욱이', '저희', '다소', '로써', '한데', '따지', '때문', '콸콸', '따라서', '관련', '마저', '아이구', '같이', '여덟', '개의', '보다', '단지', '하하', '가까스로', '불문', '총적', '소인', '함께', '여기', '거니와', '어요', '그러면', '자기', '우르르', '아이', '그때', '에돌', '가령', '도달', '헐떡헐떡', '그러므로', '훨씬', '이때', '도착', '반드시', '그저', '허허', '달리', '아도', '무엇', '중의', '잠깐', '아홉', '하나', '또한', '이런', '다섯', '아야', '그중', '보드득', '의하', '마라', '설령', '입각', '따위', '해보', '딩동', '그리하여', '탕탕', '어떻하', '다만', '요만', '그리고', '지만', '윙윙', '번째', '예컨대', '모두', '얼마든지', '그치', '겸사겸사', '관계', '못하', '오히려', '흐흐', '여부', '지라', '비교적', '미치', '형식', '여러분', '결국', '주저', '이러이러하', '의거', '적이', '고로', '엉엉', '설사', '망정', '이렇', '이번', '자기집', '하면', '뚝뚝', '입장', '쾅쾅', '근거', '바로', '동시', '차라리', '이것', '자마자', '도록', '그러니까', '사람', '으로서', '수록', '한하', '얼마', '다르', '어쨋든', '양자', '어디', '만이', '어야', '비슷', '얼마나', '일단', '대로', '까악', '뒤잇', '상대적', '어느', '만약', '그리하', '조금', '요만큼', '각자', '까닭', '반대', '에서', '거의', '서술', '타인', '어기', '불구', '둥둥', '등등', '통하', '라면', '결과', '말하', '저기', '하다', '더불', '시간', '이상', '게다가', '인하', '그러나', '지경', '여전히', '결론', '따름', '시작', '혹시', '시초', '틀림없', '영차', '연관', '실로', '삐걱거리', '본대', '더욱더', '무렵', '하기는', '동안', '하물며', '졸졸', '정도', '일반적', '이지만', '비걱거리', '비추', '약간', '방면', '시각', '뒤따르', '비하', '자신', '관계없이', '언젠가', '공동', '이러하', '경우', '라도', '그래서', '끙끙', '더군다나', '말하자면', '어도', '구체적', '그만'], vect__tokenizer=<function kkma at 0x7f0c9606acb0>; total time= 2.3min\n",
            "[CV] END clf__C=0.1, clf__penalty=l1, vect__ngram_range=(1, 1), vect__stop_words=['얼마큼', '전후', '무릎쓰', '하도', '하면서', '부류', '힘입', '기타', '어찌', '붕붕', '기대', '응당', '그렇', '잠시', '누구', '끼익', '의지', '매번', '향하', '아래', '고려', '휘익', '그렇지만', '하여금', '아울러', '한마디', '쓰이', '이리하여', '일곱', '듯하', '이곳', '어떠하', '아니', '언제', '어찌하', '가요', '이용', '위하', '년도', '마음대로', '이유', '만일', '오호', '잇따르', '심지어', '어째서', '바꾸', '하지만', '기점', '려고', '각종', '다면', '비로소', '따르', '그런데', '제각기', '혼자', '물론', '여섯', '이만큼', '궁금', '운운', '삐걱', '얼마간', '좍좍', '제외', '쓰겁', '주룩주룩', '마치', '으로써', '시키', '더구나', '구나', '즉시', '버금', '이외', '게우', '인젠', '어서', '전부', '남짓', '다수', '만하', '하마터면', '안되', '대하', '여차', '그러하', '당장', '이봐', '꽈당', '오로지', '헉헉', '나머지', '전자', '생각', '이쪽', '즈음', '아이쿠', '무슨', '다음', '그런', '우선', '이젠', '진짜로', '펄렁', '좋아', '소생', '항목', '당신', '여야', '비기', '아요', '어쩧', '오르', '구토', '왜냐하면', '니까', '기준', '이릏', '과연', '견지', '다른', '막론', '설마', '어떻', '저것', '혹은', '오직', '저쪽', '관하', '모르', '너희', '다시', '와르르', '우리', '각각', '종합', '는가', '이천', '만큼', '아물', '이래', '토하', '틈타', '비록', '요컨대', '지언', '니다', '논하', '어떤', '아서', '어이', '더욱이', '저희', '다소', '로써', '한데', '따지', '때문', '콸콸', '따라서', '관련', '마저', '아이구', '같이', '여덟', '개의', '보다', '단지', '하하', '가까스로', '불문', '총적', '소인', '함께', '여기', '거니와', '어요', '그러면', '자기', '우르르', '아이', '그때', '에돌', '가령', '도달', '헐떡헐떡', '그러므로', '훨씬', '이때', '도착', '반드시', '그저', '허허', '달리', '아도', '무엇', '중의', '잠깐', '아홉', '하나', '또한', '이런', '다섯', '아야', '그중', '보드득', '의하', '마라', '설령', '입각', '따위', '해보', '딩동', '그리하여', '탕탕', '어떻하', '다만', '요만', '그리고', '지만', '윙윙', '번째', '예컨대', '모두', '얼마든지', '그치', '겸사겸사', '관계', '못하', '오히려', '흐흐', '여부', '지라', '비교적', '미치', '형식', '여러분', '결국', '주저', '이러이러하', '의거', '적이', '고로', '엉엉', '설사', '망정', '이렇', '이번', '자기집', '하면', '뚝뚝', '입장', '쾅쾅', '근거', '바로', '동시', '차라리', '이것', '자마자', '도록', '그러니까', '사람', '으로서', '수록', '한하', '얼마', '다르', '어쨋든', '양자', '어디', '만이', '어야', '비슷', '얼마나', '일단', '대로', '까악', '뒤잇', '상대적', '어느', '만약', '그리하', '조금', '요만큼', '각자', '까닭', '반대', '에서', '거의', '서술', '타인', '어기', '불구', '둥둥', '등등', '통하', '라면', '결과', '말하', '저기', '하다', '더불', '시간', '이상', '게다가', '인하', '그러나', '지경', '여전히', '결론', '따름', '시작', '혹시', '시초', '틀림없', '영차', '연관', '실로', '삐걱거리', '본대', '더욱더', '무렵', '하기는', '동안', '하물며', '졸졸', '정도', '일반적', '이지만', '비걱거리', '비추', '약간', '방면', '시각', '뒤따르', '비하', '자신', '관계없이', '언젠가', '공동', '이러하', '경우', '라도', '그래서', '끙끙', '더군다나', '말하자면', '어도', '구체적', '그만'], vect__tokenizer=<function kkma at 0x7f0c9606acb0>; total time= 2.3min\n",
            "[CV] END clf__C=0.1, clf__penalty=l1, vect__ngram_range=(1, 1), vect__stop_words=None, vect__tokenizer=<function kkma at 0x7f0c9606acb0>; total time= 2.3min\n",
            "[CV] END clf__C=0.1, clf__penalty=l1, vect__ngram_range=(1, 1), vect__stop_words=None, vect__tokenizer=<function kkma at 0x7f0c9606acb0>; total time= 2.3min\n",
            "[CV] END clf__C=0.1, clf__penalty=l1, vect__ngram_range=(1, 1), vect__stop_words=None, vect__tokenizer=<function kkma at 0x7f0c9606acb0>; total time= 2.3min\n",
            "[CV] END clf__C=0.1, clf__penalty=l1, vect__ngram_range=(1, 1), vect__stop_words=None, vect__tokenizer=<function kkma at 0x7f0c9606acb0>; total time= 2.3min\n",
            "[CV] END clf__C=0.1, clf__penalty=l1, vect__ngram_range=(1, 1), vect__stop_words=None, vect__tokenizer=<function kkma at 0x7f0c9606acb0>; total time= 2.3min\n",
            "[CV] END clf__C=0.1, clf__penalty=l2, vect__ngram_range=(1, 1), vect__stop_words=['얼마큼', '전후', '무릎쓰', '하도', '하면서', '부류', '힘입', '기타', '어찌', '붕붕', '기대', '응당', '그렇', '잠시', '누구', '끼익', '의지', '매번', '향하', '아래', '고려', '휘익', '그렇지만', '하여금', '아울러', '한마디', '쓰이', '이리하여', '일곱', '듯하', '이곳', '어떠하', '아니', '언제', '어찌하', '가요', '이용', '위하', '년도', '마음대로', '이유', '만일', '오호', '잇따르', '심지어', '어째서', '바꾸', '하지만', '기점', '려고', '각종', '다면', '비로소', '따르', '그런데', '제각기', '혼자', '물론', '여섯', '이만큼', '궁금', '운운', '삐걱', '얼마간', '좍좍', '제외', '쓰겁', '주룩주룩', '마치', '으로써', '시키', '더구나', '구나', '즉시', '버금', '이외', '게우', '인젠', '어서', '전부', '남짓', '다수', '만하', '하마터면', '안되', '대하', '여차', '그러하', '당장', '이봐', '꽈당', '오로지', '헉헉', '나머지', '전자', '생각', '이쪽', '즈음', '아이쿠', '무슨', '다음', '그런', '우선', '이젠', '진짜로', '펄렁', '좋아', '소생', '항목', '당신', '여야', '비기', '아요', '어쩧', '오르', '구토', '왜냐하면', '니까', '기준', '이릏', '과연', '견지', '다른', '막론', '설마', '어떻', '저것', '혹은', '오직', '저쪽', '관하', '모르', '너희', '다시', '와르르', '우리', '각각', '종합', '는가', '이천', '만큼', '아물', '이래', '토하', '틈타', '비록', '요컨대', '지언', '니다', '논하', '어떤', '아서', '어이', '더욱이', '저희', '다소', '로써', '한데', '따지', '때문', '콸콸', '따라서', '관련', '마저', '아이구', '같이', '여덟', '개의', '보다', '단지', '하하', '가까스로', '불문', '총적', '소인', '함께', '여기', '거니와', '어요', '그러면', '자기', '우르르', '아이', '그때', '에돌', '가령', '도달', '헐떡헐떡', '그러므로', '훨씬', '이때', '도착', '반드시', '그저', '허허', '달리', '아도', '무엇', '중의', '잠깐', '아홉', '하나', '또한', '이런', '다섯', '아야', '그중', '보드득', '의하', '마라', '설령', '입각', '따위', '해보', '딩동', '그리하여', '탕탕', '어떻하', '다만', '요만', '그리고', '지만', '윙윙', '번째', '예컨대', '모두', '얼마든지', '그치', '겸사겸사', '관계', '못하', '오히려', '흐흐', '여부', '지라', '비교적', '미치', '형식', '여러분', '결국', '주저', '이러이러하', '의거', '적이', '고로', '엉엉', '설사', '망정', '이렇', '이번', '자기집', '하면', '뚝뚝', '입장', '쾅쾅', '근거', '바로', '동시', '차라리', '이것', '자마자', '도록', '그러니까', '사람', '으로서', '수록', '한하', '얼마', '다르', '어쨋든', '양자', '어디', '만이', '어야', '비슷', '얼마나', '일단', '대로', '까악', '뒤잇', '상대적', '어느', '만약', '그리하', '조금', '요만큼', '각자', '까닭', '반대', '에서', '거의', '서술', '타인', '어기', '불구', '둥둥', '등등', '통하', '라면', '결과', '말하', '저기', '하다', '더불', '시간', '이상', '게다가', '인하', '그러나', '지경', '여전히', '결론', '따름', '시작', '혹시', '시초', '틀림없', '영차', '연관', '실로', '삐걱거리', '본대', '더욱더', '무렵', '하기는', '동안', '하물며', '졸졸', '정도', '일반적', '이지만', '비걱거리', '비추', '약간', '방면', '시각', '뒤따르', '비하', '자신', '관계없이', '언젠가', '공동', '이러하', '경우', '라도', '그래서', '끙끙', '더군다나', '말하자면', '어도', '구체적', '그만'], vect__tokenizer=<function kkma at 0x7f0c9606acb0>; total time= 2.3min\n",
            "[CV] END clf__C=0.1, clf__penalty=l2, vect__ngram_range=(1, 1), vect__stop_words=['얼마큼', '전후', '무릎쓰', '하도', '하면서', '부류', '힘입', '기타', '어찌', '붕붕', '기대', '응당', '그렇', '잠시', '누구', '끼익', '의지', '매번', '향하', '아래', '고려', '휘익', '그렇지만', '하여금', '아울러', '한마디', '쓰이', '이리하여', '일곱', '듯하', '이곳', '어떠하', '아니', '언제', '어찌하', '가요', '이용', '위하', '년도', '마음대로', '이유', '만일', '오호', '잇따르', '심지어', '어째서', '바꾸', '하지만', '기점', '려고', '각종', '다면', '비로소', '따르', '그런데', '제각기', '혼자', '물론', '여섯', '이만큼', '궁금', '운운', '삐걱', '얼마간', '좍좍', '제외', '쓰겁', '주룩주룩', '마치', '으로써', '시키', '더구나', '구나', '즉시', '버금', '이외', '게우', '인젠', '어서', '전부', '남짓', '다수', '만하', '하마터면', '안되', '대하', '여차', '그러하', '당장', '이봐', '꽈당', '오로지', '헉헉', '나머지', '전자', '생각', '이쪽', '즈음', '아이쿠', '무슨', '다음', '그런', '우선', '이젠', '진짜로', '펄렁', '좋아', '소생', '항목', '당신', '여야', '비기', '아요', '어쩧', '오르', '구토', '왜냐하면', '니까', '기준', '이릏', '과연', '견지', '다른', '막론', '설마', '어떻', '저것', '혹은', '오직', '저쪽', '관하', '모르', '너희', '다시', '와르르', '우리', '각각', '종합', '는가', '이천', '만큼', '아물', '이래', '토하', '틈타', '비록', '요컨대', '지언', '니다', '논하', '어떤', '아서', '어이', '더욱이', '저희', '다소', '로써', '한데', '따지', '때문', '콸콸', '따라서', '관련', '마저', '아이구', '같이', '여덟', '개의', '보다', '단지', '하하', '가까스로', '불문', '총적', '소인', '함께', '여기', '거니와', '어요', '그러면', '자기', '우르르', '아이', '그때', '에돌', '가령', '도달', '헐떡헐떡', '그러므로', '훨씬', '이때', '도착', '반드시', '그저', '허허', '달리', '아도', '무엇', '중의', '잠깐', '아홉', '하나', '또한', '이런', '다섯', '아야', '그중', '보드득', '의하', '마라', '설령', '입각', '따위', '해보', '딩동', '그리하여', '탕탕', '어떻하', '다만', '요만', '그리고', '지만', '윙윙', '번째', '예컨대', '모두', '얼마든지', '그치', '겸사겸사', '관계', '못하', '오히려', '흐흐', '여부', '지라', '비교적', '미치', '형식', '여러분', '결국', '주저', '이러이러하', '의거', '적이', '고로', '엉엉', '설사', '망정', '이렇', '이번', '자기집', '하면', '뚝뚝', '입장', '쾅쾅', '근거', '바로', '동시', '차라리', '이것', '자마자', '도록', '그러니까', '사람', '으로서', '수록', '한하', '얼마', '다르', '어쨋든', '양자', '어디', '만이', '어야', '비슷', '얼마나', '일단', '대로', '까악', '뒤잇', '상대적', '어느', '만약', '그리하', '조금', '요만큼', '각자', '까닭', '반대', '에서', '거의', '서술', '타인', '어기', '불구', '둥둥', '등등', '통하', '라면', '결과', '말하', '저기', '하다', '더불', '시간', '이상', '게다가', '인하', '그러나', '지경', '여전히', '결론', '따름', '시작', '혹시', '시초', '틀림없', '영차', '연관', '실로', '삐걱거리', '본대', '더욱더', '무렵', '하기는', '동안', '하물며', '졸졸', '정도', '일반적', '이지만', '비걱거리', '비추', '약간', '방면', '시각', '뒤따르', '비하', '자신', '관계없이', '언젠가', '공동', '이러하', '경우', '라도', '그래서', '끙끙', '더군다나', '말하자면', '어도', '구체적', '그만'], vect__tokenizer=<function kkma at 0x7f0c9606acb0>; total time= 2.3min\n",
            "[CV] END clf__C=0.1, clf__penalty=l2, vect__ngram_range=(1, 1), vect__stop_words=['얼마큼', '전후', '무릎쓰', '하도', '하면서', '부류', '힘입', '기타', '어찌', '붕붕', '기대', '응당', '그렇', '잠시', '누구', '끼익', '의지', '매번', '향하', '아래', '고려', '휘익', '그렇지만', '하여금', '아울러', '한마디', '쓰이', '이리하여', '일곱', '듯하', '이곳', '어떠하', '아니', '언제', '어찌하', '가요', '이용', '위하', '년도', '마음대로', '이유', '만일', '오호', '잇따르', '심지어', '어째서', '바꾸', '하지만', '기점', '려고', '각종', '다면', '비로소', '따르', '그런데', '제각기', '혼자', '물론', '여섯', '이만큼', '궁금', '운운', '삐걱', '얼마간', '좍좍', '제외', '쓰겁', '주룩주룩', '마치', '으로써', '시키', '더구나', '구나', '즉시', '버금', '이외', '게우', '인젠', '어서', '전부', '남짓', '다수', '만하', '하마터면', '안되', '대하', '여차', '그러하', '당장', '이봐', '꽈당', '오로지', '헉헉', '나머지', '전자', '생각', '이쪽', '즈음', '아이쿠', '무슨', '다음', '그런', '우선', '이젠', '진짜로', '펄렁', '좋아', '소생', '항목', '당신', '여야', '비기', '아요', '어쩧', '오르', '구토', '왜냐하면', '니까', '기준', '이릏', '과연', '견지', '다른', '막론', '설마', '어떻', '저것', '혹은', '오직', '저쪽', '관하', '모르', '너희', '다시', '와르르', '우리', '각각', '종합', '는가', '이천', '만큼', '아물', '이래', '토하', '틈타', '비록', '요컨대', '지언', '니다', '논하', '어떤', '아서', '어이', '더욱이', '저희', '다소', '로써', '한데', '따지', '때문', '콸콸', '따라서', '관련', '마저', '아이구', '같이', '여덟', '개의', '보다', '단지', '하하', '가까스로', '불문', '총적', '소인', '함께', '여기', '거니와', '어요', '그러면', '자기', '우르르', '아이', '그때', '에돌', '가령', '도달', '헐떡헐떡', '그러므로', '훨씬', '이때', '도착', '반드시', '그저', '허허', '달리', '아도', '무엇', '중의', '잠깐', '아홉', '하나', '또한', '이런', '다섯', '아야', '그중', '보드득', '의하', '마라', '설령', '입각', '따위', '해보', '딩동', '그리하여', '탕탕', '어떻하', '다만', '요만', '그리고', '지만', '윙윙', '번째', '예컨대', '모두', '얼마든지', '그치', '겸사겸사', '관계', '못하', '오히려', '흐흐', '여부', '지라', '비교적', '미치', '형식', '여러분', '결국', '주저', '이러이러하', '의거', '적이', '고로', '엉엉', '설사', '망정', '이렇', '이번', '자기집', '하면', '뚝뚝', '입장', '쾅쾅', '근거', '바로', '동시', '차라리', '이것', '자마자', '도록', '그러니까', '사람', '으로서', '수록', '한하', '얼마', '다르', '어쨋든', '양자', '어디', '만이', '어야', '비슷', '얼마나', '일단', '대로', '까악', '뒤잇', '상대적', '어느', '만약', '그리하', '조금', '요만큼', '각자', '까닭', '반대', '에서', '거의', '서술', '타인', '어기', '불구', '둥둥', '등등', '통하', '라면', '결과', '말하', '저기', '하다', '더불', '시간', '이상', '게다가', '인하', '그러나', '지경', '여전히', '결론', '따름', '시작', '혹시', '시초', '틀림없', '영차', '연관', '실로', '삐걱거리', '본대', '더욱더', '무렵', '하기는', '동안', '하물며', '졸졸', '정도', '일반적', '이지만', '비걱거리', '비추', '약간', '방면', '시각', '뒤따르', '비하', '자신', '관계없이', '언젠가', '공동', '이러하', '경우', '라도', '그래서', '끙끙', '더군다나', '말하자면', '어도', '구체적', '그만'], vect__tokenizer=<function kkma at 0x7f0c9606acb0>; total time= 2.3min\n",
            "[CV] END clf__C=0.1, clf__penalty=l2, vect__ngram_range=(1, 1), vect__stop_words=['얼마큼', '전후', '무릎쓰', '하도', '하면서', '부류', '힘입', '기타', '어찌', '붕붕', '기대', '응당', '그렇', '잠시', '누구', '끼익', '의지', '매번', '향하', '아래', '고려', '휘익', '그렇지만', '하여금', '아울러', '한마디', '쓰이', '이리하여', '일곱', '듯하', '이곳', '어떠하', '아니', '언제', '어찌하', '가요', '이용', '위하', '년도', '마음대로', '이유', '만일', '오호', '잇따르', '심지어', '어째서', '바꾸', '하지만', '기점', '려고', '각종', '다면', '비로소', '따르', '그런데', '제각기', '혼자', '물론', '여섯', '이만큼', '궁금', '운운', '삐걱', '얼마간', '좍좍', '제외', '쓰겁', '주룩주룩', '마치', '으로써', '시키', '더구나', '구나', '즉시', '버금', '이외', '게우', '인젠', '어서', '전부', '남짓', '다수', '만하', '하마터면', '안되', '대하', '여차', '그러하', '당장', '이봐', '꽈당', '오로지', '헉헉', '나머지', '전자', '생각', '이쪽', '즈음', '아이쿠', '무슨', '다음', '그런', '우선', '이젠', '진짜로', '펄렁', '좋아', '소생', '항목', '당신', '여야', '비기', '아요', '어쩧', '오르', '구토', '왜냐하면', '니까', '기준', '이릏', '과연', '견지', '다른', '막론', '설마', '어떻', '저것', '혹은', '오직', '저쪽', '관하', '모르', '너희', '다시', '와르르', '우리', '각각', '종합', '는가', '이천', '만큼', '아물', '이래', '토하', '틈타', '비록', '요컨대', '지언', '니다', '논하', '어떤', '아서', '어이', '더욱이', '저희', '다소', '로써', '한데', '따지', '때문', '콸콸', '따라서', '관련', '마저', '아이구', '같이', '여덟', '개의', '보다', '단지', '하하', '가까스로', '불문', '총적', '소인', '함께', '여기', '거니와', '어요', '그러면', '자기', '우르르', '아이', '그때', '에돌', '가령', '도달', '헐떡헐떡', '그러므로', '훨씬', '이때', '도착', '반드시', '그저', '허허', '달리', '아도', '무엇', '중의', '잠깐', '아홉', '하나', '또한', '이런', '다섯', '아야', '그중', '보드득', '의하', '마라', '설령', '입각', '따위', '해보', '딩동', '그리하여', '탕탕', '어떻하', '다만', '요만', '그리고', '지만', '윙윙', '번째', '예컨대', '모두', '얼마든지', '그치', '겸사겸사', '관계', '못하', '오히려', '흐흐', '여부', '지라', '비교적', '미치', '형식', '여러분', '결국', '주저', '이러이러하', '의거', '적이', '고로', '엉엉', '설사', '망정', '이렇', '이번', '자기집', '하면', '뚝뚝', '입장', '쾅쾅', '근거', '바로', '동시', '차라리', '이것', '자마자', '도록', '그러니까', '사람', '으로서', '수록', '한하', '얼마', '다르', '어쨋든', '양자', '어디', '만이', '어야', '비슷', '얼마나', '일단', '대로', '까악', '뒤잇', '상대적', '어느', '만약', '그리하', '조금', '요만큼', '각자', '까닭', '반대', '에서', '거의', '서술', '타인', '어기', '불구', '둥둥', '등등', '통하', '라면', '결과', '말하', '저기', '하다', '더불', '시간', '이상', '게다가', '인하', '그러나', '지경', '여전히', '결론', '따름', '시작', '혹시', '시초', '틀림없', '영차', '연관', '실로', '삐걱거리', '본대', '더욱더', '무렵', '하기는', '동안', '하물며', '졸졸', '정도', '일반적', '이지만', '비걱거리', '비추', '약간', '방면', '시각', '뒤따르', '비하', '자신', '관계없이', '언젠가', '공동', '이러하', '경우', '라도', '그래서', '끙끙', '더군다나', '말하자면', '어도', '구체적', '그만'], vect__tokenizer=<function kkma at 0x7f0c9606acb0>; total time= 2.3min\n",
            "[CV] END clf__C=0.1, clf__penalty=l2, vect__ngram_range=(1, 1), vect__stop_words=['얼마큼', '전후', '무릎쓰', '하도', '하면서', '부류', '힘입', '기타', '어찌', '붕붕', '기대', '응당', '그렇', '잠시', '누구', '끼익', '의지', '매번', '향하', '아래', '고려', '휘익', '그렇지만', '하여금', '아울러', '한마디', '쓰이', '이리하여', '일곱', '듯하', '이곳', '어떠하', '아니', '언제', '어찌하', '가요', '이용', '위하', '년도', '마음대로', '이유', '만일', '오호', '잇따르', '심지어', '어째서', '바꾸', '하지만', '기점', '려고', '각종', '다면', '비로소', '따르', '그런데', '제각기', '혼자', '물론', '여섯', '이만큼', '궁금', '운운', '삐걱', '얼마간', '좍좍', '제외', '쓰겁', '주룩주룩', '마치', '으로써', '시키', '더구나', '구나', '즉시', '버금', '이외', '게우', '인젠', '어서', '전부', '남짓', '다수', '만하', '하마터면', '안되', '대하', '여차', '그러하', '당장', '이봐', '꽈당', '오로지', '헉헉', '나머지', '전자', '생각', '이쪽', '즈음', '아이쿠', '무슨', '다음', '그런', '우선', '이젠', '진짜로', '펄렁', '좋아', '소생', '항목', '당신', '여야', '비기', '아요', '어쩧', '오르', '구토', '왜냐하면', '니까', '기준', '이릏', '과연', '견지', '다른', '막론', '설마', '어떻', '저것', '혹은', '오직', '저쪽', '관하', '모르', '너희', '다시', '와르르', '우리', '각각', '종합', '는가', '이천', '만큼', '아물', '이래', '토하', '틈타', '비록', '요컨대', '지언', '니다', '논하', '어떤', '아서', '어이', '더욱이', '저희', '다소', '로써', '한데', '따지', '때문', '콸콸', '따라서', '관련', '마저', '아이구', '같이', '여덟', '개의', '보다', '단지', '하하', '가까스로', '불문', '총적', '소인', '함께', '여기', '거니와', '어요', '그러면', '자기', '우르르', '아이', '그때', '에돌', '가령', '도달', '헐떡헐떡', '그러므로', '훨씬', '이때', '도착', '반드시', '그저', '허허', '달리', '아도', '무엇', '중의', '잠깐', '아홉', '하나', '또한', '이런', '다섯', '아야', '그중', '보드득', '의하', '마라', '설령', '입각', '따위', '해보', '딩동', '그리하여', '탕탕', '어떻하', '다만', '요만', '그리고', '지만', '윙윙', '번째', '예컨대', '모두', '얼마든지', '그치', '겸사겸사', '관계', '못하', '오히려', '흐흐', '여부', '지라', '비교적', '미치', '형식', '여러분', '결국', '주저', '이러이러하', '의거', '적이', '고로', '엉엉', '설사', '망정', '이렇', '이번', '자기집', '하면', '뚝뚝', '입장', '쾅쾅', '근거', '바로', '동시', '차라리', '이것', '자마자', '도록', '그러니까', '사람', '으로서', '수록', '한하', '얼마', '다르', '어쨋든', '양자', '어디', '만이', '어야', '비슷', '얼마나', '일단', '대로', '까악', '뒤잇', '상대적', '어느', '만약', '그리하', '조금', '요만큼', '각자', '까닭', '반대', '에서', '거의', '서술', '타인', '어기', '불구', '둥둥', '등등', '통하', '라면', '결과', '말하', '저기', '하다', '더불', '시간', '이상', '게다가', '인하', '그러나', '지경', '여전히', '결론', '따름', '시작', '혹시', '시초', '틀림없', '영차', '연관', '실로', '삐걱거리', '본대', '더욱더', '무렵', '하기는', '동안', '하물며', '졸졸', '정도', '일반적', '이지만', '비걱거리', '비추', '약간', '방면', '시각', '뒤따르', '비하', '자신', '관계없이', '언젠가', '공동', '이러하', '경우', '라도', '그래서', '끙끙', '더군다나', '말하자면', '어도', '구체적', '그만'], vect__tokenizer=<function kkma at 0x7f0c9606acb0>; total time= 2.3min\n",
            "[CV] END clf__C=0.1, clf__penalty=l2, vect__ngram_range=(1, 1), vect__stop_words=None, vect__tokenizer=<function kkma at 0x7f0c9606acb0>; total time= 2.3min\n",
            "[CV] END clf__C=0.1, clf__penalty=l2, vect__ngram_range=(1, 1), vect__stop_words=None, vect__tokenizer=<function kkma at 0x7f0c9606acb0>; total time= 2.3min\n",
            "[CV] END clf__C=0.1, clf__penalty=l2, vect__ngram_range=(1, 1), vect__stop_words=None, vect__tokenizer=<function kkma at 0x7f0c9606acb0>; total time= 2.3min\n",
            "[CV] END clf__C=0.1, clf__penalty=l2, vect__ngram_range=(1, 1), vect__stop_words=None, vect__tokenizer=<function kkma at 0x7f0c9606acb0>; total time= 2.3min\n",
            "[CV] END clf__C=0.1, clf__penalty=l2, vect__ngram_range=(1, 1), vect__stop_words=None, vect__tokenizer=<function kkma at 0x7f0c9606acb0>; total time= 2.3min\n",
            "[CV] END clf__C=1.0, clf__penalty=l1, vect__ngram_range=(1, 1), vect__stop_words=['얼마큼', '전후', '무릎쓰', '하도', '하면서', '부류', '힘입', '기타', '어찌', '붕붕', '기대', '응당', '그렇', '잠시', '누구', '끼익', '의지', '매번', '향하', '아래', '고려', '휘익', '그렇지만', '하여금', '아울러', '한마디', '쓰이', '이리하여', '일곱', '듯하', '이곳', '어떠하', '아니', '언제', '어찌하', '가요', '이용', '위하', '년도', '마음대로', '이유', '만일', '오호', '잇따르', '심지어', '어째서', '바꾸', '하지만', '기점', '려고', '각종', '다면', '비로소', '따르', '그런데', '제각기', '혼자', '물론', '여섯', '이만큼', '궁금', '운운', '삐걱', '얼마간', '좍좍', '제외', '쓰겁', '주룩주룩', '마치', '으로써', '시키', '더구나', '구나', '즉시', '버금', '이외', '게우', '인젠', '어서', '전부', '남짓', '다수', '만하', '하마터면', '안되', '대하', '여차', '그러하', '당장', '이봐', '꽈당', '오로지', '헉헉', '나머지', '전자', '생각', '이쪽', '즈음', '아이쿠', '무슨', '다음', '그런', '우선', '이젠', '진짜로', '펄렁', '좋아', '소생', '항목', '당신', '여야', '비기', '아요', '어쩧', '오르', '구토', '왜냐하면', '니까', '기준', '이릏', '과연', '견지', '다른', '막론', '설마', '어떻', '저것', '혹은', '오직', '저쪽', '관하', '모르', '너희', '다시', '와르르', '우리', '각각', '종합', '는가', '이천', '만큼', '아물', '이래', '토하', '틈타', '비록', '요컨대', '지언', '니다', '논하', '어떤', '아서', '어이', '더욱이', '저희', '다소', '로써', '한데', '따지', '때문', '콸콸', '따라서', '관련', '마저', '아이구', '같이', '여덟', '개의', '보다', '단지', '하하', '가까스로', '불문', '총적', '소인', '함께', '여기', '거니와', '어요', '그러면', '자기', '우르르', '아이', '그때', '에돌', '가령', '도달', '헐떡헐떡', '그러므로', '훨씬', '이때', '도착', '반드시', '그저', '허허', '달리', '아도', '무엇', '중의', '잠깐', '아홉', '하나', '또한', '이런', '다섯', '아야', '그중', '보드득', '의하', '마라', '설령', '입각', '따위', '해보', '딩동', '그리하여', '탕탕', '어떻하', '다만', '요만', '그리고', '지만', '윙윙', '번째', '예컨대', '모두', '얼마든지', '그치', '겸사겸사', '관계', '못하', '오히려', '흐흐', '여부', '지라', '비교적', '미치', '형식', '여러분', '결국', '주저', '이러이러하', '의거', '적이', '고로', '엉엉', '설사', '망정', '이렇', '이번', '자기집', '하면', '뚝뚝', '입장', '쾅쾅', '근거', '바로', '동시', '차라리', '이것', '자마자', '도록', '그러니까', '사람', '으로서', '수록', '한하', '얼마', '다르', '어쨋든', '양자', '어디', '만이', '어야', '비슷', '얼마나', '일단', '대로', '까악', '뒤잇', '상대적', '어느', '만약', '그리하', '조금', '요만큼', '각자', '까닭', '반대', '에서', '거의', '서술', '타인', '어기', '불구', '둥둥', '등등', '통하', '라면', '결과', '말하', '저기', '하다', '더불', '시간', '이상', '게다가', '인하', '그러나', '지경', '여전히', '결론', '따름', '시작', '혹시', '시초', '틀림없', '영차', '연관', '실로', '삐걱거리', '본대', '더욱더', '무렵', '하기는', '동안', '하물며', '졸졸', '정도', '일반적', '이지만', '비걱거리', '비추', '약간', '방면', '시각', '뒤따르', '비하', '자신', '관계없이', '언젠가', '공동', '이러하', '경우', '라도', '그래서', '끙끙', '더군다나', '말하자면', '어도', '구체적', '그만'], vect__tokenizer=<function kkma at 0x7f0c9606acb0>; total time= 2.3min\n",
            "[CV] END clf__C=1.0, clf__penalty=l1, vect__ngram_range=(1, 1), vect__stop_words=['얼마큼', '전후', '무릎쓰', '하도', '하면서', '부류', '힘입', '기타', '어찌', '붕붕', '기대', '응당', '그렇', '잠시', '누구', '끼익', '의지', '매번', '향하', '아래', '고려', '휘익', '그렇지만', '하여금', '아울러', '한마디', '쓰이', '이리하여', '일곱', '듯하', '이곳', '어떠하', '아니', '언제', '어찌하', '가요', '이용', '위하', '년도', '마음대로', '이유', '만일', '오호', '잇따르', '심지어', '어째서', '바꾸', '하지만', '기점', '려고', '각종', '다면', '비로소', '따르', '그런데', '제각기', '혼자', '물론', '여섯', '이만큼', '궁금', '운운', '삐걱', '얼마간', '좍좍', '제외', '쓰겁', '주룩주룩', '마치', '으로써', '시키', '더구나', '구나', '즉시', '버금', '이외', '게우', '인젠', '어서', '전부', '남짓', '다수', '만하', '하마터면', '안되', '대하', '여차', '그러하', '당장', '이봐', '꽈당', '오로지', '헉헉', '나머지', '전자', '생각', '이쪽', '즈음', '아이쿠', '무슨', '다음', '그런', '우선', '이젠', '진짜로', '펄렁', '좋아', '소생', '항목', '당신', '여야', '비기', '아요', '어쩧', '오르', '구토', '왜냐하면', '니까', '기준', '이릏', '과연', '견지', '다른', '막론', '설마', '어떻', '저것', '혹은', '오직', '저쪽', '관하', '모르', '너희', '다시', '와르르', '우리', '각각', '종합', '는가', '이천', '만큼', '아물', '이래', '토하', '틈타', '비록', '요컨대', '지언', '니다', '논하', '어떤', '아서', '어이', '더욱이', '저희', '다소', '로써', '한데', '따지', '때문', '콸콸', '따라서', '관련', '마저', '아이구', '같이', '여덟', '개의', '보다', '단지', '하하', '가까스로', '불문', '총적', '소인', '함께', '여기', '거니와', '어요', '그러면', '자기', '우르르', '아이', '그때', '에돌', '가령', '도달', '헐떡헐떡', '그러므로', '훨씬', '이때', '도착', '반드시', '그저', '허허', '달리', '아도', '무엇', '중의', '잠깐', '아홉', '하나', '또한', '이런', '다섯', '아야', '그중', '보드득', '의하', '마라', '설령', '입각', '따위', '해보', '딩동', '그리하여', '탕탕', '어떻하', '다만', '요만', '그리고', '지만', '윙윙', '번째', '예컨대', '모두', '얼마든지', '그치', '겸사겸사', '관계', '못하', '오히려', '흐흐', '여부', '지라', '비교적', '미치', '형식', '여러분', '결국', '주저', '이러이러하', '의거', '적이', '고로', '엉엉', '설사', '망정', '이렇', '이번', '자기집', '하면', '뚝뚝', '입장', '쾅쾅', '근거', '바로', '동시', '차라리', '이것', '자마자', '도록', '그러니까', '사람', '으로서', '수록', '한하', '얼마', '다르', '어쨋든', '양자', '어디', '만이', '어야', '비슷', '얼마나', '일단', '대로', '까악', '뒤잇', '상대적', '어느', '만약', '그리하', '조금', '요만큼', '각자', '까닭', '반대', '에서', '거의', '서술', '타인', '어기', '불구', '둥둥', '등등', '통하', '라면', '결과', '말하', '저기', '하다', '더불', '시간', '이상', '게다가', '인하', '그러나', '지경', '여전히', '결론', '따름', '시작', '혹시', '시초', '틀림없', '영차', '연관', '실로', '삐걱거리', '본대', '더욱더', '무렵', '하기는', '동안', '하물며', '졸졸', '정도', '일반적', '이지만', '비걱거리', '비추', '약간', '방면', '시각', '뒤따르', '비하', '자신', '관계없이', '언젠가', '공동', '이러하', '경우', '라도', '그래서', '끙끙', '더군다나', '말하자면', '어도', '구체적', '그만'], vect__tokenizer=<function kkma at 0x7f0c9606acb0>; total time= 2.3min\n",
            "[CV] END clf__C=1.0, clf__penalty=l1, vect__ngram_range=(1, 1), vect__stop_words=['얼마큼', '전후', '무릎쓰', '하도', '하면서', '부류', '힘입', '기타', '어찌', '붕붕', '기대', '응당', '그렇', '잠시', '누구', '끼익', '의지', '매번', '향하', '아래', '고려', '휘익', '그렇지만', '하여금', '아울러', '한마디', '쓰이', '이리하여', '일곱', '듯하', '이곳', '어떠하', '아니', '언제', '어찌하', '가요', '이용', '위하', '년도', '마음대로', '이유', '만일', '오호', '잇따르', '심지어', '어째서', '바꾸', '하지만', '기점', '려고', '각종', '다면', '비로소', '따르', '그런데', '제각기', '혼자', '물론', '여섯', '이만큼', '궁금', '운운', '삐걱', '얼마간', '좍좍', '제외', '쓰겁', '주룩주룩', '마치', '으로써', '시키', '더구나', '구나', '즉시', '버금', '이외', '게우', '인젠', '어서', '전부', '남짓', '다수', '만하', '하마터면', '안되', '대하', '여차', '그러하', '당장', '이봐', '꽈당', '오로지', '헉헉', '나머지', '전자', '생각', '이쪽', '즈음', '아이쿠', '무슨', '다음', '그런', '우선', '이젠', '진짜로', '펄렁', '좋아', '소생', '항목', '당신', '여야', '비기', '아요', '어쩧', '오르', '구토', '왜냐하면', '니까', '기준', '이릏', '과연', '견지', '다른', '막론', '설마', '어떻', '저것', '혹은', '오직', '저쪽', '관하', '모르', '너희', '다시', '와르르', '우리', '각각', '종합', '는가', '이천', '만큼', '아물', '이래', '토하', '틈타', '비록', '요컨대', '지언', '니다', '논하', '어떤', '아서', '어이', '더욱이', '저희', '다소', '로써', '한데', '따지', '때문', '콸콸', '따라서', '관련', '마저', '아이구', '같이', '여덟', '개의', '보다', '단지', '하하', '가까스로', '불문', '총적', '소인', '함께', '여기', '거니와', '어요', '그러면', '자기', '우르르', '아이', '그때', '에돌', '가령', '도달', '헐떡헐떡', '그러므로', '훨씬', '이때', '도착', '반드시', '그저', '허허', '달리', '아도', '무엇', '중의', '잠깐', '아홉', '하나', '또한', '이런', '다섯', '아야', '그중', '보드득', '의하', '마라', '설령', '입각', '따위', '해보', '딩동', '그리하여', '탕탕', '어떻하', '다만', '요만', '그리고', '지만', '윙윙', '번째', '예컨대', '모두', '얼마든지', '그치', '겸사겸사', '관계', '못하', '오히려', '흐흐', '여부', '지라', '비교적', '미치', '형식', '여러분', '결국', '주저', '이러이러하', '의거', '적이', '고로', '엉엉', '설사', '망정', '이렇', '이번', '자기집', '하면', '뚝뚝', '입장', '쾅쾅', '근거', '바로', '동시', '차라리', '이것', '자마자', '도록', '그러니까', '사람', '으로서', '수록', '한하', '얼마', '다르', '어쨋든', '양자', '어디', '만이', '어야', '비슷', '얼마나', '일단', '대로', '까악', '뒤잇', '상대적', '어느', '만약', '그리하', '조금', '요만큼', '각자', '까닭', '반대', '에서', '거의', '서술', '타인', '어기', '불구', '둥둥', '등등', '통하', '라면', '결과', '말하', '저기', '하다', '더불', '시간', '이상', '게다가', '인하', '그러나', '지경', '여전히', '결론', '따름', '시작', '혹시', '시초', '틀림없', '영차', '연관', '실로', '삐걱거리', '본대', '더욱더', '무렵', '하기는', '동안', '하물며', '졸졸', '정도', '일반적', '이지만', '비걱거리', '비추', '약간', '방면', '시각', '뒤따르', '비하', '자신', '관계없이', '언젠가', '공동', '이러하', '경우', '라도', '그래서', '끙끙', '더군다나', '말하자면', '어도', '구체적', '그만'], vect__tokenizer=<function kkma at 0x7f0c9606acb0>; total time= 2.3min\n",
            "[CV] END clf__C=1.0, clf__penalty=l1, vect__ngram_range=(1, 1), vect__stop_words=['얼마큼', '전후', '무릎쓰', '하도', '하면서', '부류', '힘입', '기타', '어찌', '붕붕', '기대', '응당', '그렇', '잠시', '누구', '끼익', '의지', '매번', '향하', '아래', '고려', '휘익', '그렇지만', '하여금', '아울러', '한마디', '쓰이', '이리하여', '일곱', '듯하', '이곳', '어떠하', '아니', '언제', '어찌하', '가요', '이용', '위하', '년도', '마음대로', '이유', '만일', '오호', '잇따르', '심지어', '어째서', '바꾸', '하지만', '기점', '려고', '각종', '다면', '비로소', '따르', '그런데', '제각기', '혼자', '물론', '여섯', '이만큼', '궁금', '운운', '삐걱', '얼마간', '좍좍', '제외', '쓰겁', '주룩주룩', '마치', '으로써', '시키', '더구나', '구나', '즉시', '버금', '이외', '게우', '인젠', '어서', '전부', '남짓', '다수', '만하', '하마터면', '안되', '대하', '여차', '그러하', '당장', '이봐', '꽈당', '오로지', '헉헉', '나머지', '전자', '생각', '이쪽', '즈음', '아이쿠', '무슨', '다음', '그런', '우선', '이젠', '진짜로', '펄렁', '좋아', '소생', '항목', '당신', '여야', '비기', '아요', '어쩧', '오르', '구토', '왜냐하면', '니까', '기준', '이릏', '과연', '견지', '다른', '막론', '설마', '어떻', '저것', '혹은', '오직', '저쪽', '관하', '모르', '너희', '다시', '와르르', '우리', '각각', '종합', '는가', '이천', '만큼', '아물', '이래', '토하', '틈타', '비록', '요컨대', '지언', '니다', '논하', '어떤', '아서', '어이', '더욱이', '저희', '다소', '로써', '한데', '따지', '때문', '콸콸', '따라서', '관련', '마저', '아이구', '같이', '여덟', '개의', '보다', '단지', '하하', '가까스로', '불문', '총적', '소인', '함께', '여기', '거니와', '어요', '그러면', '자기', '우르르', '아이', '그때', '에돌', '가령', '도달', '헐떡헐떡', '그러므로', '훨씬', '이때', '도착', '반드시', '그저', '허허', '달리', '아도', '무엇', '중의', '잠깐', '아홉', '하나', '또한', '이런', '다섯', '아야', '그중', '보드득', '의하', '마라', '설령', '입각', '따위', '해보', '딩동', '그리하여', '탕탕', '어떻하', '다만', '요만', '그리고', '지만', '윙윙', '번째', '예컨대', '모두', '얼마든지', '그치', '겸사겸사', '관계', '못하', '오히려', '흐흐', '여부', '지라', '비교적', '미치', '형식', '여러분', '결국', '주저', '이러이러하', '의거', '적이', '고로', '엉엉', '설사', '망정', '이렇', '이번', '자기집', '하면', '뚝뚝', '입장', '쾅쾅', '근거', '바로', '동시', '차라리', '이것', '자마자', '도록', '그러니까', '사람', '으로서', '수록', '한하', '얼마', '다르', '어쨋든', '양자', '어디', '만이', '어야', '비슷', '얼마나', '일단', '대로', '까악', '뒤잇', '상대적', '어느', '만약', '그리하', '조금', '요만큼', '각자', '까닭', '반대', '에서', '거의', '서술', '타인', '어기', '불구', '둥둥', '등등', '통하', '라면', '결과', '말하', '저기', '하다', '더불', '시간', '이상', '게다가', '인하', '그러나', '지경', '여전히', '결론', '따름', '시작', '혹시', '시초', '틀림없', '영차', '연관', '실로', '삐걱거리', '본대', '더욱더', '무렵', '하기는', '동안', '하물며', '졸졸', '정도', '일반적', '이지만', '비걱거리', '비추', '약간', '방면', '시각', '뒤따르', '비하', '자신', '관계없이', '언젠가', '공동', '이러하', '경우', '라도', '그래서', '끙끙', '더군다나', '말하자면', '어도', '구체적', '그만'], vect__tokenizer=<function kkma at 0x7f0c9606acb0>; total time= 2.3min\n",
            "[CV] END clf__C=1.0, clf__penalty=l1, vect__ngram_range=(1, 1), vect__stop_words=['얼마큼', '전후', '무릎쓰', '하도', '하면서', '부류', '힘입', '기타', '어찌', '붕붕', '기대', '응당', '그렇', '잠시', '누구', '끼익', '의지', '매번', '향하', '아래', '고려', '휘익', '그렇지만', '하여금', '아울러', '한마디', '쓰이', '이리하여', '일곱', '듯하', '이곳', '어떠하', '아니', '언제', '어찌하', '가요', '이용', '위하', '년도', '마음대로', '이유', '만일', '오호', '잇따르', '심지어', '어째서', '바꾸', '하지만', '기점', '려고', '각종', '다면', '비로소', '따르', '그런데', '제각기', '혼자', '물론', '여섯', '이만큼', '궁금', '운운', '삐걱', '얼마간', '좍좍', '제외', '쓰겁', '주룩주룩', '마치', '으로써', '시키', '더구나', '구나', '즉시', '버금', '이외', '게우', '인젠', '어서', '전부', '남짓', '다수', '만하', '하마터면', '안되', '대하', '여차', '그러하', '당장', '이봐', '꽈당', '오로지', '헉헉', '나머지', '전자', '생각', '이쪽', '즈음', '아이쿠', '무슨', '다음', '그런', '우선', '이젠', '진짜로', '펄렁', '좋아', '소생', '항목', '당신', '여야', '비기', '아요', '어쩧', '오르', '구토', '왜냐하면', '니까', '기준', '이릏', '과연', '견지', '다른', '막론', '설마', '어떻', '저것', '혹은', '오직', '저쪽', '관하', '모르', '너희', '다시', '와르르', '우리', '각각', '종합', '는가', '이천', '만큼', '아물', '이래', '토하', '틈타', '비록', '요컨대', '지언', '니다', '논하', '어떤', '아서', '어이', '더욱이', '저희', '다소', '로써', '한데', '따지', '때문', '콸콸', '따라서', '관련', '마저', '아이구', '같이', '여덟', '개의', '보다', '단지', '하하', '가까스로', '불문', '총적', '소인', '함께', '여기', '거니와', '어요', '그러면', '자기', '우르르', '아이', '그때', '에돌', '가령', '도달', '헐떡헐떡', '그러므로', '훨씬', '이때', '도착', '반드시', '그저', '허허', '달리', '아도', '무엇', '중의', '잠깐', '아홉', '하나', '또한', '이런', '다섯', '아야', '그중', '보드득', '의하', '마라', '설령', '입각', '따위', '해보', '딩동', '그리하여', '탕탕', '어떻하', '다만', '요만', '그리고', '지만', '윙윙', '번째', '예컨대', '모두', '얼마든지', '그치', '겸사겸사', '관계', '못하', '오히려', '흐흐', '여부', '지라', '비교적', '미치', '형식', '여러분', '결국', '주저', '이러이러하', '의거', '적이', '고로', '엉엉', '설사', '망정', '이렇', '이번', '자기집', '하면', '뚝뚝', '입장', '쾅쾅', '근거', '바로', '동시', '차라리', '이것', '자마자', '도록', '그러니까', '사람', '으로서', '수록', '한하', '얼마', '다르', '어쨋든', '양자', '어디', '만이', '어야', '비슷', '얼마나', '일단', '대로', '까악', '뒤잇', '상대적', '어느', '만약', '그리하', '조금', '요만큼', '각자', '까닭', '반대', '에서', '거의', '서술', '타인', '어기', '불구', '둥둥', '등등', '통하', '라면', '결과', '말하', '저기', '하다', '더불', '시간', '이상', '게다가', '인하', '그러나', '지경', '여전히', '결론', '따름', '시작', '혹시', '시초', '틀림없', '영차', '연관', '실로', '삐걱거리', '본대', '더욱더', '무렵', '하기는', '동안', '하물며', '졸졸', '정도', '일반적', '이지만', '비걱거리', '비추', '약간', '방면', '시각', '뒤따르', '비하', '자신', '관계없이', '언젠가', '공동', '이러하', '경우', '라도', '그래서', '끙끙', '더군다나', '말하자면', '어도', '구체적', '그만'], vect__tokenizer=<function kkma at 0x7f0c9606acb0>; total time= 2.3min\n",
            "[CV] END clf__C=1.0, clf__penalty=l1, vect__ngram_range=(1, 1), vect__stop_words=None, vect__tokenizer=<function kkma at 0x7f0c9606acb0>; total time= 2.3min\n",
            "[CV] END clf__C=1.0, clf__penalty=l1, vect__ngram_range=(1, 1), vect__stop_words=None, vect__tokenizer=<function kkma at 0x7f0c9606acb0>; total time= 2.3min\n",
            "[CV] END clf__C=1.0, clf__penalty=l1, vect__ngram_range=(1, 1), vect__stop_words=None, vect__tokenizer=<function kkma at 0x7f0c9606acb0>; total time= 2.3min\n",
            "[CV] END clf__C=1.0, clf__penalty=l1, vect__ngram_range=(1, 1), vect__stop_words=None, vect__tokenizer=<function kkma at 0x7f0c9606acb0>; total time= 2.3min\n",
            "[CV] END clf__C=1.0, clf__penalty=l1, vect__ngram_range=(1, 1), vect__stop_words=None, vect__tokenizer=<function kkma at 0x7f0c9606acb0>; total time= 2.3min\n",
            "[CV] END clf__C=1.0, clf__penalty=l2, vect__ngram_range=(1, 1), vect__stop_words=['얼마큼', '전후', '무릎쓰', '하도', '하면서', '부류', '힘입', '기타', '어찌', '붕붕', '기대', '응당', '그렇', '잠시', '누구', '끼익', '의지', '매번', '향하', '아래', '고려', '휘익', '그렇지만', '하여금', '아울러', '한마디', '쓰이', '이리하여', '일곱', '듯하', '이곳', '어떠하', '아니', '언제', '어찌하', '가요', '이용', '위하', '년도', '마음대로', '이유', '만일', '오호', '잇따르', '심지어', '어째서', '바꾸', '하지만', '기점', '려고', '각종', '다면', '비로소', '따르', '그런데', '제각기', '혼자', '물론', '여섯', '이만큼', '궁금', '운운', '삐걱', '얼마간', '좍좍', '제외', '쓰겁', '주룩주룩', '마치', '으로써', '시키', '더구나', '구나', '즉시', '버금', '이외', '게우', '인젠', '어서', '전부', '남짓', '다수', '만하', '하마터면', '안되', '대하', '여차', '그러하', '당장', '이봐', '꽈당', '오로지', '헉헉', '나머지', '전자', '생각', '이쪽', '즈음', '아이쿠', '무슨', '다음', '그런', '우선', '이젠', '진짜로', '펄렁', '좋아', '소생', '항목', '당신', '여야', '비기', '아요', '어쩧', '오르', '구토', '왜냐하면', '니까', '기준', '이릏', '과연', '견지', '다른', '막론', '설마', '어떻', '저것', '혹은', '오직', '저쪽', '관하', '모르', '너희', '다시', '와르르', '우리', '각각', '종합', '는가', '이천', '만큼', '아물', '이래', '토하', '틈타', '비록', '요컨대', '지언', '니다', '논하', '어떤', '아서', '어이', '더욱이', '저희', '다소', '로써', '한데', '따지', '때문', '콸콸', '따라서', '관련', '마저', '아이구', '같이', '여덟', '개의', '보다', '단지', '하하', '가까스로', '불문', '총적', '소인', '함께', '여기', '거니와', '어요', '그러면', '자기', '우르르', '아이', '그때', '에돌', '가령', '도달', '헐떡헐떡', '그러므로', '훨씬', '이때', '도착', '반드시', '그저', '허허', '달리', '아도', '무엇', '중의', '잠깐', '아홉', '하나', '또한', '이런', '다섯', '아야', '그중', '보드득', '의하', '마라', '설령', '입각', '따위', '해보', '딩동', '그리하여', '탕탕', '어떻하', '다만', '요만', '그리고', '지만', '윙윙', '번째', '예컨대', '모두', '얼마든지', '그치', '겸사겸사', '관계', '못하', '오히려', '흐흐', '여부', '지라', '비교적', '미치', '형식', '여러분', '결국', '주저', '이러이러하', '의거', '적이', '고로', '엉엉', '설사', '망정', '이렇', '이번', '자기집', '하면', '뚝뚝', '입장', '쾅쾅', '근거', '바로', '동시', '차라리', '이것', '자마자', '도록', '그러니까', '사람', '으로서', '수록', '한하', '얼마', '다르', '어쨋든', '양자', '어디', '만이', '어야', '비슷', '얼마나', '일단', '대로', '까악', '뒤잇', '상대적', '어느', '만약', '그리하', '조금', '요만큼', '각자', '까닭', '반대', '에서', '거의', '서술', '타인', '어기', '불구', '둥둥', '등등', '통하', '라면', '결과', '말하', '저기', '하다', '더불', '시간', '이상', '게다가', '인하', '그러나', '지경', '여전히', '결론', '따름', '시작', '혹시', '시초', '틀림없', '영차', '연관', '실로', '삐걱거리', '본대', '더욱더', '무렵', '하기는', '동안', '하물며', '졸졸', '정도', '일반적', '이지만', '비걱거리', '비추', '약간', '방면', '시각', '뒤따르', '비하', '자신', '관계없이', '언젠가', '공동', '이러하', '경우', '라도', '그래서', '끙끙', '더군다나', '말하자면', '어도', '구체적', '그만'], vect__tokenizer=<function kkma at 0x7f0c9606acb0>; total time= 2.3min\n",
            "[CV] END clf__C=1.0, clf__penalty=l2, vect__ngram_range=(1, 1), vect__stop_words=['얼마큼', '전후', '무릎쓰', '하도', '하면서', '부류', '힘입', '기타', '어찌', '붕붕', '기대', '응당', '그렇', '잠시', '누구', '끼익', '의지', '매번', '향하', '아래', '고려', '휘익', '그렇지만', '하여금', '아울러', '한마디', '쓰이', '이리하여', '일곱', '듯하', '이곳', '어떠하', '아니', '언제', '어찌하', '가요', '이용', '위하', '년도', '마음대로', '이유', '만일', '오호', '잇따르', '심지어', '어째서', '바꾸', '하지만', '기점', '려고', '각종', '다면', '비로소', '따르', '그런데', '제각기', '혼자', '물론', '여섯', '이만큼', '궁금', '운운', '삐걱', '얼마간', '좍좍', '제외', '쓰겁', '주룩주룩', '마치', '으로써', '시키', '더구나', '구나', '즉시', '버금', '이외', '게우', '인젠', '어서', '전부', '남짓', '다수', '만하', '하마터면', '안되', '대하', '여차', '그러하', '당장', '이봐', '꽈당', '오로지', '헉헉', '나머지', '전자', '생각', '이쪽', '즈음', '아이쿠', '무슨', '다음', '그런', '우선', '이젠', '진짜로', '펄렁', '좋아', '소생', '항목', '당신', '여야', '비기', '아요', '어쩧', '오르', '구토', '왜냐하면', '니까', '기준', '이릏', '과연', '견지', '다른', '막론', '설마', '어떻', '저것', '혹은', '오직', '저쪽', '관하', '모르', '너희', '다시', '와르르', '우리', '각각', '종합', '는가', '이천', '만큼', '아물', '이래', '토하', '틈타', '비록', '요컨대', '지언', '니다', '논하', '어떤', '아서', '어이', '더욱이', '저희', '다소', '로써', '한데', '따지', '때문', '콸콸', '따라서', '관련', '마저', '아이구', '같이', '여덟', '개의', '보다', '단지', '하하', '가까스로', '불문', '총적', '소인', '함께', '여기', '거니와', '어요', '그러면', '자기', '우르르', '아이', '그때', '에돌', '가령', '도달', '헐떡헐떡', '그러므로', '훨씬', '이때', '도착', '반드시', '그저', '허허', '달리', '아도', '무엇', '중의', '잠깐', '아홉', '하나', '또한', '이런', '다섯', '아야', '그중', '보드득', '의하', '마라', '설령', '입각', '따위', '해보', '딩동', '그리하여', '탕탕', '어떻하', '다만', '요만', '그리고', '지만', '윙윙', '번째', '예컨대', '모두', '얼마든지', '그치', '겸사겸사', '관계', '못하', '오히려', '흐흐', '여부', '지라', '비교적', '미치', '형식', '여러분', '결국', '주저', '이러이러하', '의거', '적이', '고로', '엉엉', '설사', '망정', '이렇', '이번', '자기집', '하면', '뚝뚝', '입장', '쾅쾅', '근거', '바로', '동시', '차라리', '이것', '자마자', '도록', '그러니까', '사람', '으로서', '수록', '한하', '얼마', '다르', '어쨋든', '양자', '어디', '만이', '어야', '비슷', '얼마나', '일단', '대로', '까악', '뒤잇', '상대적', '어느', '만약', '그리하', '조금', '요만큼', '각자', '까닭', '반대', '에서', '거의', '서술', '타인', '어기', '불구', '둥둥', '등등', '통하', '라면', '결과', '말하', '저기', '하다', '더불', '시간', '이상', '게다가', '인하', '그러나', '지경', '여전히', '결론', '따름', '시작', '혹시', '시초', '틀림없', '영차', '연관', '실로', '삐걱거리', '본대', '더욱더', '무렵', '하기는', '동안', '하물며', '졸졸', '정도', '일반적', '이지만', '비걱거리', '비추', '약간', '방면', '시각', '뒤따르', '비하', '자신', '관계없이', '언젠가', '공동', '이러하', '경우', '라도', '그래서', '끙끙', '더군다나', '말하자면', '어도', '구체적', '그만'], vect__tokenizer=<function kkma at 0x7f0c9606acb0>; total time= 2.3min\n",
            "[CV] END clf__C=1.0, clf__penalty=l2, vect__ngram_range=(1, 1), vect__stop_words=['얼마큼', '전후', '무릎쓰', '하도', '하면서', '부류', '힘입', '기타', '어찌', '붕붕', '기대', '응당', '그렇', '잠시', '누구', '끼익', '의지', '매번', '향하', '아래', '고려', '휘익', '그렇지만', '하여금', '아울러', '한마디', '쓰이', '이리하여', '일곱', '듯하', '이곳', '어떠하', '아니', '언제', '어찌하', '가요', '이용', '위하', '년도', '마음대로', '이유', '만일', '오호', '잇따르', '심지어', '어째서', '바꾸', '하지만', '기점', '려고', '각종', '다면', '비로소', '따르', '그런데', '제각기', '혼자', '물론', '여섯', '이만큼', '궁금', '운운', '삐걱', '얼마간', '좍좍', '제외', '쓰겁', '주룩주룩', '마치', '으로써', '시키', '더구나', '구나', '즉시', '버금', '이외', '게우', '인젠', '어서', '전부', '남짓', '다수', '만하', '하마터면', '안되', '대하', '여차', '그러하', '당장', '이봐', '꽈당', '오로지', '헉헉', '나머지', '전자', '생각', '이쪽', '즈음', '아이쿠', '무슨', '다음', '그런', '우선', '이젠', '진짜로', '펄렁', '좋아', '소생', '항목', '당신', '여야', '비기', '아요', '어쩧', '오르', '구토', '왜냐하면', '니까', '기준', '이릏', '과연', '견지', '다른', '막론', '설마', '어떻', '저것', '혹은', '오직', '저쪽', '관하', '모르', '너희', '다시', '와르르', '우리', '각각', '종합', '는가', '이천', '만큼', '아물', '이래', '토하', '틈타', '비록', '요컨대', '지언', '니다', '논하', '어떤', '아서', '어이', '더욱이', '저희', '다소', '로써', '한데', '따지', '때문', '콸콸', '따라서', '관련', '마저', '아이구', '같이', '여덟', '개의', '보다', '단지', '하하', '가까스로', '불문', '총적', '소인', '함께', '여기', '거니와', '어요', '그러면', '자기', '우르르', '아이', '그때', '에돌', '가령', '도달', '헐떡헐떡', '그러므로', '훨씬', '이때', '도착', '반드시', '그저', '허허', '달리', '아도', '무엇', '중의', '잠깐', '아홉', '하나', '또한', '이런', '다섯', '아야', '그중', '보드득', '의하', '마라', '설령', '입각', '따위', '해보', '딩동', '그리하여', '탕탕', '어떻하', '다만', '요만', '그리고', '지만', '윙윙', '번째', '예컨대', '모두', '얼마든지', '그치', '겸사겸사', '관계', '못하', '오히려', '흐흐', '여부', '지라', '비교적', '미치', '형식', '여러분', '결국', '주저', '이러이러하', '의거', '적이', '고로', '엉엉', '설사', '망정', '이렇', '이번', '자기집', '하면', '뚝뚝', '입장', '쾅쾅', '근거', '바로', '동시', '차라리', '이것', '자마자', '도록', '그러니까', '사람', '으로서', '수록', '한하', '얼마', '다르', '어쨋든', '양자', '어디', '만이', '어야', '비슷', '얼마나', '일단', '대로', '까악', '뒤잇', '상대적', '어느', '만약', '그리하', '조금', '요만큼', '각자', '까닭', '반대', '에서', '거의', '서술', '타인', '어기', '불구', '둥둥', '등등', '통하', '라면', '결과', '말하', '저기', '하다', '더불', '시간', '이상', '게다가', '인하', '그러나', '지경', '여전히', '결론', '따름', '시작', '혹시', '시초', '틀림없', '영차', '연관', '실로', '삐걱거리', '본대', '더욱더', '무렵', '하기는', '동안', '하물며', '졸졸', '정도', '일반적', '이지만', '비걱거리', '비추', '약간', '방면', '시각', '뒤따르', '비하', '자신', '관계없이', '언젠가', '공동', '이러하', '경우', '라도', '그래서', '끙끙', '더군다나', '말하자면', '어도', '구체적', '그만'], vect__tokenizer=<function kkma at 0x7f0c9606acb0>; total time= 2.3min\n",
            "[CV] END clf__C=1.0, clf__penalty=l2, vect__ngram_range=(1, 1), vect__stop_words=['얼마큼', '전후', '무릎쓰', '하도', '하면서', '부류', '힘입', '기타', '어찌', '붕붕', '기대', '응당', '그렇', '잠시', '누구', '끼익', '의지', '매번', '향하', '아래', '고려', '휘익', '그렇지만', '하여금', '아울러', '한마디', '쓰이', '이리하여', '일곱', '듯하', '이곳', '어떠하', '아니', '언제', '어찌하', '가요', '이용', '위하', '년도', '마음대로', '이유', '만일', '오호', '잇따르', '심지어', '어째서', '바꾸', '하지만', '기점', '려고', '각종', '다면', '비로소', '따르', '그런데', '제각기', '혼자', '물론', '여섯', '이만큼', '궁금', '운운', '삐걱', '얼마간', '좍좍', '제외', '쓰겁', '주룩주룩', '마치', '으로써', '시키', '더구나', '구나', '즉시', '버금', '이외', '게우', '인젠', '어서', '전부', '남짓', '다수', '만하', '하마터면', '안되', '대하', '여차', '그러하', '당장', '이봐', '꽈당', '오로지', '헉헉', '나머지', '전자', '생각', '이쪽', '즈음', '아이쿠', '무슨', '다음', '그런', '우선', '이젠', '진짜로', '펄렁', '좋아', '소생', '항목', '당신', '여야', '비기', '아요', '어쩧', '오르', '구토', '왜냐하면', '니까', '기준', '이릏', '과연', '견지', '다른', '막론', '설마', '어떻', '저것', '혹은', '오직', '저쪽', '관하', '모르', '너희', '다시', '와르르', '우리', '각각', '종합', '는가', '이천', '만큼', '아물', '이래', '토하', '틈타', '비록', '요컨대', '지언', '니다', '논하', '어떤', '아서', '어이', '더욱이', '저희', '다소', '로써', '한데', '따지', '때문', '콸콸', '따라서', '관련', '마저', '아이구', '같이', '여덟', '개의', '보다', '단지', '하하', '가까스로', '불문', '총적', '소인', '함께', '여기', '거니와', '어요', '그러면', '자기', '우르르', '아이', '그때', '에돌', '가령', '도달', '헐떡헐떡', '그러므로', '훨씬', '이때', '도착', '반드시', '그저', '허허', '달리', '아도', '무엇', '중의', '잠깐', '아홉', '하나', '또한', '이런', '다섯', '아야', '그중', '보드득', '의하', '마라', '설령', '입각', '따위', '해보', '딩동', '그리하여', '탕탕', '어떻하', '다만', '요만', '그리고', '지만', '윙윙', '번째', '예컨대', '모두', '얼마든지', '그치', '겸사겸사', '관계', '못하', '오히려', '흐흐', '여부', '지라', '비교적', '미치', '형식', '여러분', '결국', '주저', '이러이러하', '의거', '적이', '고로', '엉엉', '설사', '망정', '이렇', '이번', '자기집', '하면', '뚝뚝', '입장', '쾅쾅', '근거', '바로', '동시', '차라리', '이것', '자마자', '도록', '그러니까', '사람', '으로서', '수록', '한하', '얼마', '다르', '어쨋든', '양자', '어디', '만이', '어야', '비슷', '얼마나', '일단', '대로', '까악', '뒤잇', '상대적', '어느', '만약', '그리하', '조금', '요만큼', '각자', '까닭', '반대', '에서', '거의', '서술', '타인', '어기', '불구', '둥둥', '등등', '통하', '라면', '결과', '말하', '저기', '하다', '더불', '시간', '이상', '게다가', '인하', '그러나', '지경', '여전히', '결론', '따름', '시작', '혹시', '시초', '틀림없', '영차', '연관', '실로', '삐걱거리', '본대', '더욱더', '무렵', '하기는', '동안', '하물며', '졸졸', '정도', '일반적', '이지만', '비걱거리', '비추', '약간', '방면', '시각', '뒤따르', '비하', '자신', '관계없이', '언젠가', '공동', '이러하', '경우', '라도', '그래서', '끙끙', '더군다나', '말하자면', '어도', '구체적', '그만'], vect__tokenizer=<function kkma at 0x7f0c9606acb0>; total time= 2.3min\n",
            "[CV] END clf__C=1.0, clf__penalty=l2, vect__ngram_range=(1, 1), vect__stop_words=['얼마큼', '전후', '무릎쓰', '하도', '하면서', '부류', '힘입', '기타', '어찌', '붕붕', '기대', '응당', '그렇', '잠시', '누구', '끼익', '의지', '매번', '향하', '아래', '고려', '휘익', '그렇지만', '하여금', '아울러', '한마디', '쓰이', '이리하여', '일곱', '듯하', '이곳', '어떠하', '아니', '언제', '어찌하', '가요', '이용', '위하', '년도', '마음대로', '이유', '만일', '오호', '잇따르', '심지어', '어째서', '바꾸', '하지만', '기점', '려고', '각종', '다면', '비로소', '따르', '그런데', '제각기', '혼자', '물론', '여섯', '이만큼', '궁금', '운운', '삐걱', '얼마간', '좍좍', '제외', '쓰겁', '주룩주룩', '마치', '으로써', '시키', '더구나', '구나', '즉시', '버금', '이외', '게우', '인젠', '어서', '전부', '남짓', '다수', '만하', '하마터면', '안되', '대하', '여차', '그러하', '당장', '이봐', '꽈당', '오로지', '헉헉', '나머지', '전자', '생각', '이쪽', '즈음', '아이쿠', '무슨', '다음', '그런', '우선', '이젠', '진짜로', '펄렁', '좋아', '소생', '항목', '당신', '여야', '비기', '아요', '어쩧', '오르', '구토', '왜냐하면', '니까', '기준', '이릏', '과연', '견지', '다른', '막론', '설마', '어떻', '저것', '혹은', '오직', '저쪽', '관하', '모르', '너희', '다시', '와르르', '우리', '각각', '종합', '는가', '이천', '만큼', '아물', '이래', '토하', '틈타', '비록', '요컨대', '지언', '니다', '논하', '어떤', '아서', '어이', '더욱이', '저희', '다소', '로써', '한데', '따지', '때문', '콸콸', '따라서', '관련', '마저', '아이구', '같이', '여덟', '개의', '보다', '단지', '하하', '가까스로', '불문', '총적', '소인', '함께', '여기', '거니와', '어요', '그러면', '자기', '우르르', '아이', '그때', '에돌', '가령', '도달', '헐떡헐떡', '그러므로', '훨씬', '이때', '도착', '반드시', '그저', '허허', '달리', '아도', '무엇', '중의', '잠깐', '아홉', '하나', '또한', '이런', '다섯', '아야', '그중', '보드득', '의하', '마라', '설령', '입각', '따위', '해보', '딩동', '그리하여', '탕탕', '어떻하', '다만', '요만', '그리고', '지만', '윙윙', '번째', '예컨대', '모두', '얼마든지', '그치', '겸사겸사', '관계', '못하', '오히려', '흐흐', '여부', '지라', '비교적', '미치', '형식', '여러분', '결국', '주저', '이러이러하', '의거', '적이', '고로', '엉엉', '설사', '망정', '이렇', '이번', '자기집', '하면', '뚝뚝', '입장', '쾅쾅', '근거', '바로', '동시', '차라리', '이것', '자마자', '도록', '그러니까', '사람', '으로서', '수록', '한하', '얼마', '다르', '어쨋든', '양자', '어디', '만이', '어야', '비슷', '얼마나', '일단', '대로', '까악', '뒤잇', '상대적', '어느', '만약', '그리하', '조금', '요만큼', '각자', '까닭', '반대', '에서', '거의', '서술', '타인', '어기', '불구', '둥둥', '등등', '통하', '라면', '결과', '말하', '저기', '하다', '더불', '시간', '이상', '게다가', '인하', '그러나', '지경', '여전히', '결론', '따름', '시작', '혹시', '시초', '틀림없', '영차', '연관', '실로', '삐걱거리', '본대', '더욱더', '무렵', '하기는', '동안', '하물며', '졸졸', '정도', '일반적', '이지만', '비걱거리', '비추', '약간', '방면', '시각', '뒤따르', '비하', '자신', '관계없이', '언젠가', '공동', '이러하', '경우', '라도', '그래서', '끙끙', '더군다나', '말하자면', '어도', '구체적', '그만'], vect__tokenizer=<function kkma at 0x7f0c9606acb0>; total time= 2.3min\n",
            "[CV] END clf__C=1.0, clf__penalty=l2, vect__ngram_range=(1, 1), vect__stop_words=None, vect__tokenizer=<function kkma at 0x7f0c9606acb0>; total time= 2.3min\n",
            "[CV] END clf__C=1.0, clf__penalty=l2, vect__ngram_range=(1, 1), vect__stop_words=None, vect__tokenizer=<function kkma at 0x7f0c9606acb0>; total time= 2.3min\n",
            "[CV] END clf__C=1.0, clf__penalty=l2, vect__ngram_range=(1, 1), vect__stop_words=None, vect__tokenizer=<function kkma at 0x7f0c9606acb0>; total time= 2.3min\n",
            "[CV] END clf__C=1.0, clf__penalty=l2, vect__ngram_range=(1, 1), vect__stop_words=None, vect__tokenizer=<function kkma at 0x7f0c9606acb0>; total time= 2.3min\n",
            "[CV] END clf__C=1.0, clf__penalty=l2, vect__ngram_range=(1, 1), vect__stop_words=None, vect__tokenizer=<function kkma at 0x7f0c9606acb0>; total time= 2.3min\n"
          ]
        },
        {
          "output_type": "execute_result",
          "data": {
            "text/plain": [
              "GridSearchCV(cv=5,\n",
              "             estimator=Pipeline(steps=[('vect',\n",
              "                                        TfidfVectorizer(lowercase=False)),\n",
              "                                       ('clf',\n",
              "                                        LogisticRegression(random_state=42,\n",
              "                                                           solver='liblinear'))]),\n",
              "             param_grid=[{'clf__C': [0.1, 1.0], 'clf__penalty': ['l1', 'l2'],\n",
              "                          'vect__ngram_range': [(1, 1)],\n",
              "                          'vect__stop_words': [['대해', '바꿔', '어떤것', '전후', '비걱',\n",
              "                                                '안된다', '하면서', '않는다면', '한적',\n",
              "                                                '부류', '따라', '게우다', '기타', '어찌',\n",
              "                                                '붕붕', '같다', '기대',...\n",
              "                          'vect__tokenizer': [<function okt at 0x7f0cb66e18c0>]},\n",
              "                         {'clf__C': [0.1, 1.0], 'clf__penalty': ['l1', 'l2'],\n",
              "                          'vect__ngram_range': [(1, 1)],\n",
              "                          'vect__stop_words': [['얼마큼', '전후', '무릎쓰', '하도', '하면서',\n",
              "                                                '부류', '힘입', '기타', '어찌', '붕붕',\n",
              "                                                '기대', '응당', '그렇', '잠시', '누구',\n",
              "                                                '끼익', '의지', '매번', '향하', '아래',\n",
              "                                                '고려', '휘익', '그렇지만', '하여금',\n",
              "                                                '아울러', '한마디', '쓰이', '이리하여',\n",
              "                                                '일곱', '듯하', ...],\n",
              "                                               None],\n",
              "                          'vect__tokenizer': [<function kkma at 0x7f0c9606acb0>]}],\n",
              "             scoring='accuracy', verbose=2)"
            ]
          },
          "metadata": {},
          "execution_count": 21
        }
      ]
    },
    {
      "cell_type": "code",
      "metadata": {
        "colab": {
          "base_uri": "https://localhost:8080/"
        },
        "id": "Rgmvfh34AUOA",
        "outputId": "ea05f7d2-ca39-441f-e8ce-434b67738128"
      },
      "source": [
        "print('최적의 매개변수 조합: %s ' % gs_lr_tfidf.best_params_)    # 대체 왜인지 불용어 사전이 없는 게 베스트 파라미터... 불용어 사전이 완벽하지 않았기 때문인 걸로 추측됨\n",
        "print('CV 정확도: %.3f' % gs_lr_tfidf.best_score_)"
      ],
      "execution_count": null,
      "outputs": [
        {
          "output_type": "stream",
          "name": "stdout",
          "text": [
            "최적의 매개변수 조합: {'clf__C': 1.0, 'clf__penalty': 'l2', 'vect__ngram_range': (1, 1), 'vect__stop_words': None, 'vect__tokenizer': <function kkma at 0x7f0c9606acb0>} \n",
            "CV 정확도: 0.913\n"
          ]
        }
      ]
    },
    {
      "cell_type": "code",
      "metadata": {
        "colab": {
          "base_uri": "https://localhost:8080/"
        },
        "id": "Rk4BH3sw2cS1",
        "outputId": "546a2e05-d197-41a6-df3d-8f77170acc54"
      },
      "source": [
        "clf = gs_lr_tfidf.best_estimator_\n",
        "print('테스트 정확도: %.3f' % clf.score(X_test, y_test))"
      ],
      "execution_count": null,
      "outputs": [
        {
          "output_type": "stream",
          "name": "stdout",
          "text": [
            "테스트 정확도: 0.911\n"
          ]
        }
      ]
    },
    {
      "cell_type": "code",
      "metadata": {
        "id": "Nyyzbz7tQxP1"
      },
      "source": [
        "y_pred = clf.predict(X_test)\n",
        "y_true = y_test"
      ],
      "execution_count": null,
      "outputs": []
    },
    {
      "cell_type": "code",
      "metadata": {
        "colab": {
          "base_uri": "https://localhost:8080/"
        },
        "id": "EU1LXZCFNO-8",
        "outputId": "c7444fbf-44a7-45f3-c1da-df74d3712179"
      },
      "source": [
        "from sklearn.metrics import confusion_matrix\n",
        "\n",
        "confusion_matrix(y_true, y_pred)"
      ],
      "execution_count": null,
      "outputs": [
        {
          "output_type": "execute_result",
          "data": {
            "text/plain": [
              "array([[849,  31,  20],\n",
              "       [ 59, 790,  51],\n",
              "       [ 30,  48, 822]])"
            ]
          },
          "metadata": {},
          "execution_count": 26
        }
      ]
    },
    {
      "cell_type": "code",
      "metadata": {
        "id": "OzcXKYosUsUK"
      },
      "source": [
        "# from sklearn.metrics import plot_confusion_matrix\n",
        "\n",
        "# plot_confusion_matrix(gs_lr_tfidf, X_test, y_test)\n",
        "# plot_confusion_matrix가 사라져서 밑의 ConfusionMatrixDisplay를 사용"
      ],
      "execution_count": null,
      "outputs": []
    },
    {
      "cell_type": "code",
      "metadata": {
        "colab": {
          "base_uri": "https://localhost:8080/",
          "height": 279
        },
        "id": "WEdLyOcOUukp",
        "outputId": "b729dcdc-51cb-412b-e8ac-4f1c0fed99da"
      },
      "source": [
        "from sklearn.metrics import ConfusionMatrixDisplay\n",
        "\n",
        "disp = ConfusionMatrixDisplay(confusion_matrix=confusion_matrix(y_true, y_pred),\n",
        "                              display_labels=['교육청', '국토교통부', '해양수산부'])\n",
        "\n",
        "disp.plot()\n",
        "plt.show()\n",
        "\n",
        "# 첫 행은 원래는 교육청건데 31개를 국토교통부로 분류하고 20개는 해양수산부로 분류함\n",
        "# 두 번째 행은 원래는 국토교통부건데 59개를 교육청으로, 51개를 해양수산부로 분류함\n",
        "# 세 번째 행은 원래는 해양수산부건데 30개를 교육청으로, 48개를 국토교통부로 분류함"
      ],
      "execution_count": null,
      "outputs": [
        {
          "output_type": "display_data",
          "data": {
            "image/png": "[encoded data removed]",
            "text/plain": [
              "<Figure size 432x288 with 2 Axes>"
            ]
          },
          "metadata": {
            "needs_background": "light"
          }
        }
      ]
    },
    {
      "cell_type": "code",
      "metadata": {
        "colab": {
          "base_uri": "https://localhost:8080/"
        },
        "id": "vPERYUnlQMvY",
        "outputId": "0e114296-898b-4a64-dd36-7073bc2755b0"
      },
      "source": [
        "print('마이크로 정밀도: %.3f' % precision_score(y_true=y_test, y_pred=y_pred, average='micro'))    # 정확도 구하는 공식을 그냥 분모에 모두 더하고 분자에 모두 더하는 거\n",
        "print('마크로 정밀도: %.3f' % precision_score(y_true=y_test, y_pred=y_pred, average='macro'))    "
      ],
      "execution_count": null,
      "outputs": [
        {
          "output_type": "stream",
          "name": "stdout",
          "text": [
            "마이크로 정밀도: 0.911\n",
            "마크로 정밀도: 0.912\n"
          ]
        }
      ]
    },
    {
      "cell_type": "code",
      "metadata": {
        "colab": {
          "base_uri": "https://localhost:8080/"
        },
        "id": "jVzqHrOgQM-g",
        "outputId": "10d3c10e-9492-4c57-966f-c4c0c14ad63d"
      },
      "source": [
        "print('마이크로 재현율: %.3f' % recall_score(y_true=y_test, y_pred=y_pred, average='micro'))\n",
        "print('마크로 재현율: %.3f' % recall_score(y_true=y_test, y_pred=y_pred, average='macro'))"
      ],
      "execution_count": null,
      "outputs": [
        {
          "output_type": "stream",
          "name": "stdout",
          "text": [
            "마이크로 재현율: 0.911\n",
            "마크로 재현율: 0.911\n"
          ]
        }
      ]
    },
    {
      "cell_type": "code",
      "metadata": {
        "colab": {
          "base_uri": "https://localhost:8080/"
        },
        "id": "glIpsnqlQNRg",
        "outputId": "80042452-ccda-4ee7-9f04-dad481f71e47"
      },
      "source": [
        "print('마이크로 평균 F1: %.3f' % f1_score(y_true=y_test, y_pred=y_pred, average='micro'))\n",
        "print('마크로 평균 F1: %.3f' % f1_score(y_true=y_test, y_pred=y_pred, average='macro'))"
      ],
      "execution_count": null,
      "outputs": [
        {
          "output_type": "stream",
          "name": "stdout",
          "text": [
            "마이크로 평균 F1: 0.911\n",
            "마크로 평균 F1: 0.911\n"
          ]
        }
      ]
    },
    {
      "cell_type": "code",
      "metadata": {
        "colab": {
          "base_uri": "https://localhost:8080/"
        },
        "id": "tDgrvSPFTTVx",
        "outputId": "71fa5cdd-3fe1-4b94-a894-3f5e6747e4be"
      },
      "source": [
        "clf.predict(['히터가 고장나서 교실이 너무 추워요'])   # 교육청으로 분류됨"
      ],
      "execution_count": null,
      "outputs": [
        {
          "output_type": "execute_result",
          "data": {
            "text/plain": [
              "array([0])"
            ]
          },
          "metadata": {},
          "execution_count": 57
        }
      ]
    },
    {
      "cell_type": "code",
      "metadata": {
        "colab": {
          "base_uri": "https://localhost:8080/"
        },
        "id": "bcDchbS_Sy6e",
        "outputId": "a1245542-196c-4c99-9115-12a9528bb30e"
      },
      "source": [
        "clf.predict_proba(['히터가 고장나서 교실이 너무 추워요'])    # 교육청으로 분류될 확률이 약 50% 정도(다 합치면 1이 나옴)"
      ],
      "execution_count": null,
      "outputs": [
        {
          "output_type": "stream",
          "name": "stdout",
          "text": [
            "[[0.49881528 0.21958658 0.28159814]]\n"
          ]
        }
      ]
    },
    {
      "cell_type": "code",
      "metadata": {
        "colab": {
          "base_uri": "https://localhost:8080/"
        },
        "id": "EqUrhsSNTikv",
        "outputId": "2b322f16-7e94-440d-f5d9-ef31e1e1da34"
      },
      "source": [
        "clf.predict(['부실공사로 인해 아파트가 흔들립니다.'])      # 국토교통부로 분류됨"
      ],
      "execution_count": null,
      "outputs": [
        {
          "output_type": "execute_result",
          "data": {
            "text/plain": [
              "array([1])"
            ]
          },
          "metadata": {},
          "execution_count": 60
        }
      ]
    },
    {
      "cell_type": "code",
      "metadata": {
        "colab": {
          "base_uri": "https://localhost:8080/"
        },
        "id": "bXhyvqtgTqvA",
        "outputId": "00094c8f-5625-493e-b3b3-7377484bf0d3"
      },
      "source": [
        "clf.predict_proba(['부실공사로 인해 아파트가 흔들립니다.'])    # 국토교통부로 분류될 확률이 약 59% 정도"
      ],
      "execution_count": null,
      "outputs": [
        {
          "output_type": "execute_result",
          "data": {
            "text/plain": [
              "array([[0.1113491 , 0.58544919, 0.30320171]])"
            ]
          },
          "metadata": {},
          "execution_count": 61
        }
      ]
    },
    {
      "cell_type": "code",
      "metadata": {
        "colab": {
          "base_uri": "https://localhost:8080/"
        },
        "id": "5IAMaQGNUK-y",
        "outputId": "e95ea427-ed44-4864-d0f3-60097abe549b"
      },
      "source": [
        "clf.predict(['어업 쓰레기 무단 투기'])      # 해양수산부로 분류됨"
      ],
      "execution_count": null,
      "outputs": [
        {
          "output_type": "execute_result",
          "data": {
            "text/plain": [
              "array([2])"
            ]
          },
          "metadata": {},
          "execution_count": 71
        }
      ]
    },
    {
      "cell_type": "code",
      "metadata": {
        "colab": {
          "base_uri": "https://localhost:8080/"
        },
        "id": "rACa6UJKUxln",
        "outputId": "6ab51412-5853-451b-b863-f6a73cbede64"
      },
      "source": [
        "clf.predict_proba(['어업 쓰레기 무단 투기'])    # 해양수산부로 분류될 확률이 약 86% 정도"
      ],
      "execution_count": null,
      "outputs": [
        {
          "output_type": "execute_result",
          "data": {
            "text/plain": [
              "array([[0.08231028, 0.05401378, 0.86367594]])"
            ]
          },
          "metadata": {},
          "execution_count": 72
        }
      ]
    }
  ]
}