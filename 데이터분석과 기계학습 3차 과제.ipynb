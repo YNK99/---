{
 "cells": [
  {
   "cell_type": "code",
   "execution_count": 1,
   "metadata": {},
   "outputs": [],
   "source": [
    "import re\n",
    "import requests\n",
    "import pandas as pd\n",
    "import numpy as np\n",
    "from bs4 import BeautifulSoup\n",
    "from konlpy.tag import Okt\n",
    "from konlpy.tag import Kkma\n",
    "from konlpy.tag import Komoran"
   ]
  },
  {
   "cell_type": "code",
   "execution_count": 2,
   "metadata": {},
   "outputs": [],
   "source": [
    "education = pd.read_csv(\"교육청민원.csv\")\n",
    "traffic = pd.read_csv(\"국토교통부민원.csv\")\n",
    "sea = pd.read_csv(\"해양수산부민원.csv\")"
   ]
  },
  {
   "cell_type": "code",
   "execution_count": 3,
   "metadata": {},
   "outputs": [],
   "source": [
    "# 질문과 내용을 합침\n",
    "\n",
    "e_complaint = pd.DataFrame(education['qnaTitl'] + ' ' + education['qstnCntnCl'], columns = ['complaint'])\n",
    "t_complaint = pd.DataFrame(traffic['qnaTitl'] + ' ' + traffic['qstnCntnCl'], columns = ['complaint'])\n",
    "s_complaint = pd.DataFrame(sea['qnaTitl'] + ' ' + sea['qstnCntnCl'], columns = ['complaint'])"
   ]
  },
  {
   "cell_type": "code",
   "execution_count": 4,
   "metadata": {},
   "outputs": [],
   "source": [
    "# 라벨링\n",
    "\n",
    "e_complaint['label'] = 0\n",
    "t_complaint['label'] = 1\n",
    "s_complaint['label'] = 2"
   ]
  },
  {
   "cell_type": "code",
   "execution_count": 5,
   "metadata": {},
   "outputs": [],
   "source": [
    "합침\n",
    "\n",
    "df = pd.concat([e_complaint, t_complaint, s_complaint], axis = 0)\n",
    "df = df.reset_index().drop('index', axis = 1)"
   ]
  },
  {
   "cell_type": "code",
   "execution_count": 6,
   "metadata": {},
   "outputs": [
    {
     "name": "stderr",
     "output_type": "stream",
     "text": [
      "C:\\Users\\ynk99\\anaconda3\\envs\\sunlight\\lib\\site-packages\\urllib3\\connectionpool.py:1020: InsecureRequestWarning: Unverified HTTPS request is being made to host 'www.ranks.nl'. Adding certificate verification is strongly advised. See: https://urllib3.readthedocs.io/en/1.26.x/advanced-usage.html#ssl-warnings\n",
      "  InsecureRequestWarning,\n"
     ]
    },
    {
     "data": {
      "text/plain": [
       "['아', '휴', '아이구', '아이쿠', '아이고']"
      ]
     },
     "execution_count": 6,
     "metadata": {},
     "output_type": "execute_result"
    }
   ],
   "source": [
    "# 불용어 긁어오기\n",
    "\n",
    "stopwords = []\n",
    "\n",
    "url = 'https://www.ranks.nl/stopwords/korean'\n",
    "raw = requests.get(url, verify = False)\n",
    "\n",
    "soup = BeautifulSoup(raw.text, 'html.parser')\n",
    "\n",
    "soup = soup.find_all('td')\n",
    "\n",
    "for i in soup:\n",
    "    for j in i:\n",
    "        if j.string == None:\n",
    "            continue\n",
    "        else:\n",
    "            stopwords.append(str(j))\n",
    "\n",
    "stopwords.append('경우')\n",
    "stopwords.append('인가요')\n",
    "stopwords.append('되나요')\n",
    "stopwords.append('있나요')\n",
    "stopwords.append('하나요')\n",
    "stopwords.append('하는')\n",
    "stopwords.append('궁금합니다')\n",
    "            \n",
    "stopwords[:5]"
   ]
  },
  {
   "cell_type": "code",
   "execution_count": 9,
   "metadata": {},
   "outputs": [],
   "source": [
    "# 정규표현식으로 한글만 남기기\n",
    "\n",
    "def clean(dataframe):\n",
    "    return [re.sub(r'[^ 가-힣]', '', c) for c in dataframe]"
   ]
  },
  {
   "cell_type": "code",
   "execution_count": 10,
   "metadata": {
    "tags": []
   },
   "outputs": [],
   "source": [
    "df['complaint'] = clean(df['complaint'])"
   ]
  },
  {
   "cell_type": "code",
   "execution_count": 11,
   "metadata": {},
   "outputs": [],
   "source": [
    "# 여러가지 한국어 처리 함수 만들기\n",
    "\n",
    "def okt(text):\n",
    "    okt = Okt()\n",
    "    text = okt.morphs(text)\n",
    "    return [c for c in text if len(c) > 1]\n",
    "\n",
    "def kkma(text):\n",
    "    kkma = Kkma()\n",
    "    text = kkma.morphs(text)\n",
    "    return [c for c in text if len(c) > 1]\n",
    "\n",
    "def komoran(text):\n",
    "    komoran = Komoran()\n",
    "    text = komoran.morphs(text)\n",
    "    return [c for c in text if len(c) > 1]"
   ]
  },
  {
   "cell_type": "code",
   "execution_count": 12,
   "metadata": {},
   "outputs": [],
   "source": [
    "X = df['complaint']\n",
    "y = df['label']"
   ]
  },
  {
   "cell_type": "code",
   "execution_count": 13,
   "metadata": {},
   "outputs": [],
   "source": [
    "from sklearn.model_selection import train_test_split\n",
    "\n",
    "X_train, X_test, y_train, y_test = train_test_split(X, y, test_size = 0.3, random_state=1, stratify=y) "
   ]
  },
  {
   "cell_type": "code",
   "execution_count": 14,
   "metadata": {},
   "outputs": [],
   "source": [
    "from sklearn.pipeline import Pipeline\n",
    "from sklearn.linear_model import LogisticRegression\n",
    "from sklearn.feature_extraction.text import TfidfVectorizer\n",
    "from sklearn.model_selection import GridSearchCV\n",
    "from sklearn.model_selection import RandomizedSearchCV"
   ]
  },
  {
   "cell_type": "code",
   "execution_count": 17,
   "metadata": {},
   "outputs": [],
   "source": [
    "tfidf = TfidfVectorizer()\n",
    "\n",
    "#불용어하고\n",
    "\n",
    "param_grid = [{'vect__ngram_range': [(1, 1)],\n",
    "               'vect__stop_words': [stopwords, None],\n",
    "               'vect__tokenizer': [okt, kkma, komoran],\n",
    "               'clf__penalty': ['l1', 'none'],\n",
    "               'clf__C': [1.0, 5.0, 10.0]}\n",
    "              ]\n",
    "\n",
    "lr_tfidf = Pipeline([('vect', tfidf),\n",
    "                     ('clf', LogisticRegression())])\n",
    "\n",
    "\n",
    "gs_lr_tfidf = RandomizedSearchCV(lr_tfidf,\n",
    "                                 param_grid,\n",
    "                                 scoring='accuracy',\n",
    "                                 cv = 5,\n",
    "                                 n_iter = 5,\n",
    "                                 verbose = 2,\n",
    "                                 n_jobs = -1)"
   ]
  },
  {
   "cell_type": "code",
   "execution_count": 18,
   "metadata": {},
   "outputs": [
    {
     "data": {
      "text/plain": [
       "RandomizedSearchCV(cv=5,\n",
       "                   estimator=Pipeline(steps=[('vect', TfidfVectorizer()),\n",
       "                                             ('clf', LogisticRegression())]),\n",
       "                   n_iter=5, n_jobs=-1,\n",
       "                   param_distributions=[{'clf__C': [1.0, 5.0, 10.0],\n",
       "                                         'clf__penalty': ['l1', 'none'],\n",
       "                                         'vect__ngram_range': [(1, 1)],\n",
       "                                         'vect__stop_words': [['아', '휴', '아이구',\n",
       "                                                               '아이쿠', '아이고',\n",
       "                                                               '어', '나', '우리',\n",
       "                                                               '저희', '따라', '의해',\n",
       "                                                               '을', '를', '에',\n",
       "                                                               '의', '가', '으로',\n",
       "                                                               '로', '에게', '뿐이다',\n",
       "                                                               '의거하여', '근거하여',\n",
       "                                                               '입각하여', '기준으로',\n",
       "                                                               '예하면', '예를 들면',\n",
       "                                                               '예를 들자면', '저',\n",
       "                                                               '소인', '소생', ...],\n",
       "                                                              None],\n",
       "                                         'vect__tokenizer': [<function okt at 0x000001B8960EFEA0>,\n",
       "                                                             <function kkma at 0x000001B8960EFE18>,\n",
       "                                                             <function komoran at 0x000001B8960EFF28>]}],\n",
       "                   scoring='accuracy', verbose=2)"
      ]
     },
     "execution_count": 18,
     "metadata": {},
     "output_type": "execute_result"
    }
   ],
   "source": [
    "gs_lr_tfidf"
   ]
  },
  {
   "cell_type": "code",
   "execution_count": null,
   "metadata": {},
   "outputs": [
    {
     "name": "stdout",
     "output_type": "stream",
     "text": [
      "Fitting 5 folds for each of 5 candidates, totalling 25 fits\n"
     ]
    }
   ],
   "source": [
    "gs_lr_tfidf.fit(X_train, y_train)"
   ]
  }
 ],
 "metadata": {
  "kernelspec": {
   "display_name": "Python 3",
   "language": "python",
   "name": "python3"
  },
  "language_info": {
   "codemirror_mode": {
    "name": "ipython",
    "version": 3
   },
   "file_extension": ".py",
   "mimetype": "text/x-python",
   "name": "python",
   "nbconvert_exporter": "python",
   "pygments_lexer": "ipython3",
   "version": "3.6.12"
  }
 },
 "nbformat": 4,
 "nbformat_minor": 4
}
